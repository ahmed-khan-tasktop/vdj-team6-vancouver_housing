{
  "nbformat": 4,
  "nbformat_minor": 0,
  "metadata": {
    "colab": {
      "name": "Data Jam.ipynb",
      "provenance": []
    },
    "kernelspec": {
      "name": "python3",
      "display_name": "Python 3"
    },
    "language_info": {
      "name": "python"
    }
  },
  "cells": [
    {
      "cell_type": "code",
      "metadata": {
        "id": "Agebac83jwLd"
      },
      "source": [
        "import pandas as pd\n",
        "import numpy as np\n",
        "import io\n",
        "import matplotlib.pyplot as plt\n",
        "from google.colab import files"
      ],
      "execution_count": 52,
      "outputs": []
    },
    {
      "cell_type": "code",
      "metadata": {
        "colab": {
          "resources": {
            "http://localhost:8080/nbextensions/google.colab/files.js": {
              "data": "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",
              "ok": true,
              "headers": [
                [
                  "content-type",
                  "application/javascript"
                ]
              ],
              "status": 200,
              "status_text": ""
            }
          },
          "base_uri": "https://localhost:8080/",
          "height": 72
        },
        "id": "Ze5DNKHyl2-U",
        "outputId": "2b3e03d8-4389-44da-aa5f-3cf994b101f7"
      },
      "source": [
        "uploaded = files.upload()"
      ],
      "execution_count": 11,
      "outputs": [
        {
          "output_type": "display_data",
          "data": {
            "text/html": [
              "\n",
              "     <input type=\"file\" id=\"files-90e95088-bbba-48eb-b901-7620dee9bca4\" name=\"files[]\" multiple disabled\n",
              "        style=\"border:none\" />\n",
              "     <output id=\"result-90e95088-bbba-48eb-b901-7620dee9bca4\">\n",
              "      Upload widget is only available when the cell has been executed in the\n",
              "      current browser session. Please rerun this cell to enable.\n",
              "      </output>\n",
              "      <script src=\"/nbextensions/google.colab/files.js\"></script> "
            ],
            "text/plain": [
              "<IPython.core.display.HTML object>"
            ]
          },
          "metadata": {}
        },
        {
          "output_type": "stream",
          "name": "stdout",
          "text": [
            "Saving property-tax-report-reduced.csv to property-tax-report-reduced (1).csv\n"
          ]
        }
      ]
    },
    {
      "cell_type": "code",
      "metadata": {
        "colab": {
          "base_uri": "https://localhost:8080/",
          "height": 224
        },
        "id": "IGVoGF6jmdGD",
        "outputId": "c5d0a36a-a812-42df-8e40-d06b6dad2235"
      },
      "source": [
        "df_original = pd.read_csv(io.BytesIO(uploaded['property-tax-report.csv']))\n",
        "df = df_original\n",
        "df.head()"
      ],
      "execution_count": 41,
      "outputs": [
        {
          "output_type": "execute_result",
          "data": {
            "text/html": [
              "<div>\n",
              "<style scoped>\n",
              "    .dataframe tbody tr th:only-of-type {\n",
              "        vertical-align: middle;\n",
              "    }\n",
              "\n",
              "    .dataframe tbody tr th {\n",
              "        vertical-align: top;\n",
              "    }\n",
              "\n",
              "    .dataframe thead th {\n",
              "        text-align: right;\n",
              "    }\n",
              "</style>\n",
              "<table border=\"1\" class=\"dataframe\">\n",
              "  <thead>\n",
              "    <tr style=\"text-align: right;\">\n",
              "      <th></th>\n",
              "      <th>ZONING_CLASSIFICATION</th>\n",
              "      <th>CURRENT_LAND_VALUE</th>\n",
              "      <th>PREVIOUS_LAND_VALUE</th>\n",
              "      <th>CURRENT_IMPROVEMENT_VALUE</th>\n",
              "      <th>TAX_ASSESSMENT_YEAR</th>\n",
              "      <th>PREVIOUS_IMPROVEMENT_VALUE</th>\n",
              "      <th>BIG_IMPROVEMENT_YEAR</th>\n",
              "      <th>TAX_LEVY</th>\n",
              "      <th>NEIGHBOURHOOD_CODE</th>\n",
              "    </tr>\n",
              "  </thead>\n",
              "  <tbody>\n",
              "    <tr>\n",
              "      <th>0</th>\n",
              "      <td>One-Family Dwelling</td>\n",
              "      <td>1352000.0</td>\n",
              "      <td>1229000.0</td>\n",
              "      <td>264000.0</td>\n",
              "      <td>2021.0</td>\n",
              "      <td>259000.0</td>\n",
              "      <td>2001.0</td>\n",
              "      <td>6455.75</td>\n",
              "      <td>21</td>\n",
              "    </tr>\n",
              "    <tr>\n",
              "      <th>1</th>\n",
              "      <td>One-Family Dwelling</td>\n",
              "      <td>1573000.0</td>\n",
              "      <td>1430000.0</td>\n",
              "      <td>309000.0</td>\n",
              "      <td>2021.0</td>\n",
              "      <td>317000.0</td>\n",
              "      <td>1990.0</td>\n",
              "      <td>7285.14</td>\n",
              "      <td>21</td>\n",
              "    </tr>\n",
              "    <tr>\n",
              "      <th>2</th>\n",
              "      <td>One-Family Dwelling</td>\n",
              "      <td>1283000.0</td>\n",
              "      <td>1167000.0</td>\n",
              "      <td>120000.0</td>\n",
              "      <td>2021.0</td>\n",
              "      <td>127000.0</td>\n",
              "      <td>1985.0</td>\n",
              "      <td>5746.26</td>\n",
              "      <td>21</td>\n",
              "    </tr>\n",
              "    <tr>\n",
              "      <th>3</th>\n",
              "      <td>One-Family Dwelling</td>\n",
              "      <td>1297000.0</td>\n",
              "      <td>1179000.0</td>\n",
              "      <td>143000.0</td>\n",
              "      <td>2021.0</td>\n",
              "      <td>152000.0</td>\n",
              "      <td>1987.0</td>\n",
              "      <td>5840.40</td>\n",
              "      <td>21</td>\n",
              "    </tr>\n",
              "    <tr>\n",
              "      <th>4</th>\n",
              "      <td>One-Family Dwelling</td>\n",
              "      <td>1094000.0</td>\n",
              "      <td>1030000.0</td>\n",
              "      <td>51000.0</td>\n",
              "      <td>2021.0</td>\n",
              "      <td>47900.0</td>\n",
              "      <td>1965.0</td>\n",
              "      <td>5035.26</td>\n",
              "      <td>20</td>\n",
              "    </tr>\n",
              "  </tbody>\n",
              "</table>\n",
              "</div>"
            ],
            "text/plain": [
              "  ZONING_CLASSIFICATION  CURRENT_LAND_VALUE  ...  TAX_LEVY  NEIGHBOURHOOD_CODE\n",
              "0   One-Family Dwelling           1352000.0  ...   6455.75                  21\n",
              "1   One-Family Dwelling           1573000.0  ...   7285.14                  21\n",
              "2   One-Family Dwelling           1283000.0  ...   5746.26                  21\n",
              "3   One-Family Dwelling           1297000.0  ...   5840.40                  21\n",
              "4   One-Family Dwelling           1094000.0  ...   5035.26                  20\n",
              "\n",
              "[5 rows x 9 columns]"
            ]
          },
          "metadata": {},
          "execution_count": 41
        }
      ]
    },
    {
      "cell_type": "code",
      "metadata": {
        "id": "VYWKuHKNpc-O",
        "colab": {
          "base_uri": "https://localhost:8080/",
          "height": 224
        },
        "outputId": "5972ddcb-6e10-4d55-f995-70a0ed2ee612"
      },
      "source": [
        "df['2021'] = 0\n",
        "df['2020'] = 0\n",
        "df['2019'] = 0\n",
        "\n",
        "df.head()"
      ],
      "execution_count": 42,
      "outputs": [
        {
          "output_type": "execute_result",
          "data": {
            "text/html": [
              "<div>\n",
              "<style scoped>\n",
              "    .dataframe tbody tr th:only-of-type {\n",
              "        vertical-align: middle;\n",
              "    }\n",
              "\n",
              "    .dataframe tbody tr th {\n",
              "        vertical-align: top;\n",
              "    }\n",
              "\n",
              "    .dataframe thead th {\n",
              "        text-align: right;\n",
              "    }\n",
              "</style>\n",
              "<table border=\"1\" class=\"dataframe\">\n",
              "  <thead>\n",
              "    <tr style=\"text-align: right;\">\n",
              "      <th></th>\n",
              "      <th>ZONING_CLASSIFICATION</th>\n",
              "      <th>CURRENT_LAND_VALUE</th>\n",
              "      <th>PREVIOUS_LAND_VALUE</th>\n",
              "      <th>CURRENT_IMPROVEMENT_VALUE</th>\n",
              "      <th>TAX_ASSESSMENT_YEAR</th>\n",
              "      <th>PREVIOUS_IMPROVEMENT_VALUE</th>\n",
              "      <th>BIG_IMPROVEMENT_YEAR</th>\n",
              "      <th>TAX_LEVY</th>\n",
              "      <th>NEIGHBOURHOOD_CODE</th>\n",
              "      <th>2021</th>\n",
              "      <th>2020</th>\n",
              "      <th>2019</th>\n",
              "    </tr>\n",
              "  </thead>\n",
              "  <tbody>\n",
              "    <tr>\n",
              "      <th>0</th>\n",
              "      <td>One-Family Dwelling</td>\n",
              "      <td>1352000.0</td>\n",
              "      <td>1229000.0</td>\n",
              "      <td>264000.0</td>\n",
              "      <td>2021.0</td>\n",
              "      <td>259000.0</td>\n",
              "      <td>2001.0</td>\n",
              "      <td>6455.75</td>\n",
              "      <td>21</td>\n",
              "      <td>0</td>\n",
              "      <td>0</td>\n",
              "      <td>0</td>\n",
              "    </tr>\n",
              "    <tr>\n",
              "      <th>1</th>\n",
              "      <td>One-Family Dwelling</td>\n",
              "      <td>1573000.0</td>\n",
              "      <td>1430000.0</td>\n",
              "      <td>309000.0</td>\n",
              "      <td>2021.0</td>\n",
              "      <td>317000.0</td>\n",
              "      <td>1990.0</td>\n",
              "      <td>7285.14</td>\n",
              "      <td>21</td>\n",
              "      <td>0</td>\n",
              "      <td>0</td>\n",
              "      <td>0</td>\n",
              "    </tr>\n",
              "    <tr>\n",
              "      <th>2</th>\n",
              "      <td>One-Family Dwelling</td>\n",
              "      <td>1283000.0</td>\n",
              "      <td>1167000.0</td>\n",
              "      <td>120000.0</td>\n",
              "      <td>2021.0</td>\n",
              "      <td>127000.0</td>\n",
              "      <td>1985.0</td>\n",
              "      <td>5746.26</td>\n",
              "      <td>21</td>\n",
              "      <td>0</td>\n",
              "      <td>0</td>\n",
              "      <td>0</td>\n",
              "    </tr>\n",
              "    <tr>\n",
              "      <th>3</th>\n",
              "      <td>One-Family Dwelling</td>\n",
              "      <td>1297000.0</td>\n",
              "      <td>1179000.0</td>\n",
              "      <td>143000.0</td>\n",
              "      <td>2021.0</td>\n",
              "      <td>152000.0</td>\n",
              "      <td>1987.0</td>\n",
              "      <td>5840.40</td>\n",
              "      <td>21</td>\n",
              "      <td>0</td>\n",
              "      <td>0</td>\n",
              "      <td>0</td>\n",
              "    </tr>\n",
              "    <tr>\n",
              "      <th>4</th>\n",
              "      <td>One-Family Dwelling</td>\n",
              "      <td>1094000.0</td>\n",
              "      <td>1030000.0</td>\n",
              "      <td>51000.0</td>\n",
              "      <td>2021.0</td>\n",
              "      <td>47900.0</td>\n",
              "      <td>1965.0</td>\n",
              "      <td>5035.26</td>\n",
              "      <td>20</td>\n",
              "      <td>0</td>\n",
              "      <td>0</td>\n",
              "      <td>0</td>\n",
              "    </tr>\n",
              "  </tbody>\n",
              "</table>\n",
              "</div>"
            ],
            "text/plain": [
              "  ZONING_CLASSIFICATION  CURRENT_LAND_VALUE  ...  2020  2019\n",
              "0   One-Family Dwelling           1352000.0  ...     0     0\n",
              "1   One-Family Dwelling           1573000.0  ...     0     0\n",
              "2   One-Family Dwelling           1283000.0  ...     0     0\n",
              "3   One-Family Dwelling           1297000.0  ...     0     0\n",
              "4   One-Family Dwelling           1094000.0  ...     0     0\n",
              "\n",
              "[5 rows x 12 columns]"
            ]
          },
          "metadata": {},
          "execution_count": 42
        }
      ]
    },
    {
      "cell_type": "code",
      "metadata": {
        "id": "7CaYdSq5qOh0"
      },
      "source": [
        "df.dropna(inplace=True) \n",
        "\n",
        "indexes_to_drop = []\n",
        "\n",
        "for index, row in df.iterrows():\n",
        "  if row['TAX_ASSESSMENT_YEAR'] == 2021:\n",
        "    df.at[index, '2021'] = row['CURRENT_LAND_VALUE']\n",
        "    df.at[index, '2020'] = row['PREVIOUS_LAND_VALUE']\n",
        "  elif row['TAX_ASSESSMENT_YEAR'] == 2020:\n",
        "    df.at[index, '2020'] = row['CURRENT_LAND_VALUE']\n",
        "    df.at[index, '2019'] = row['PREVIOUS_LAND_VALUE']\n",
        "  else:\n",
        "    continue\n",
        "\n",
        "df.head()"
      ],
      "execution_count": null,
      "outputs": []
    },
    {
      "cell_type": "code",
      "metadata": {
        "id": "PpLhG80aGCey"
      },
      "source": [
        "count_2019_one = 0\n",
        "count_2020_one = 0\n",
        "count_2021_one = 0\n",
        "sum_2019_one = 0\n",
        "sum_2020_one = 0\n",
        "sum_2021_one = 0\n",
        "\n",
        "count_2019_two = 0\n",
        "count_2020_two = 0\n",
        "count_2021_two = 0\n",
        "sum_2019_two = 0\n",
        "sum_2020_two = 0\n",
        "sum_2021_two = 0\n",
        "\n",
        "count_2019_multi = 0\n",
        "count_2020_multi = 0\n",
        "count_2021_multi = 0\n",
        "sum_2019_multi = 0\n",
        "sum_2020_multi = 0\n",
        "sum_2021_multi = 0\n",
        "\n",
        "\n",
        "for index, row in df.iterrows():\n",
        "  if row['ZONING_CLASSIFICATION'] == 'One-Family Dwelling':\n",
        "    if(row['2019']):\n",
        "      count_2019_one +=1\n",
        "      sum_2019_one += row['2019']\n",
        "    if(row['2020']):\n",
        "      count_2020_one +=1\n",
        "      sum_2020_one += row['2020']\n",
        "    if(row['2021']):\n",
        "      count_2021_one +=1\n",
        "      sum_2021_one += row['2021']\n",
        "  elif row['ZONING_CLASSIFICATION'] == 'Two-Family Dwelling':\n",
        "    if(row['2019']):\n",
        "      count_2019_two +=1\n",
        "      sum_2019_two += row['2019']\n",
        "    if(row['2020']):\n",
        "      count_2020_two +=1\n",
        "      sum_2020_two += row['2020']\n",
        "    if(row['2021']):\n",
        "      count_2021_two +=1\n",
        "      sum_2021_two += row['2021']\n",
        "  elif row['ZONING_CLASSIFICATION'] == 'Multiple Dwelling':\n",
        "    if(row['2019']):\n",
        "      count_2019_multi +=1\n",
        "      sum_2019_multi += row['2019']\n",
        "    if(row['2020']):\n",
        "      count_2020_multi +=1\n",
        "      sum_2020_multi += row['2020']\n",
        "    if(row['2021']):\n",
        "      count_2021_multi +=1\n",
        "      sum_2021_multi += row['2021']\n",
        "\n",
        "\n",
        "avg_2019_one = sum_2019_one/count_2019_one\n",
        "avg_2020_one = sum_2020_one/count_2020_one\n",
        "avg_2021_one = sum_2021_one/count_2021_one\n",
        "\n",
        "avg_2019_two = sum_2019_two/count_2019_two\n",
        "avg_2020_two = sum_2020_two/count_2020_two\n",
        "avg_2021_two = sum_2021_two/count_2021_two\n",
        "\n",
        "avg_2019_multi = sum_2019_multi/count_2019_multi\n",
        "avg_2020_multi = sum_2020_multi/count_2020_multi\n",
        "avg_2021_multi = sum_2021_multi/count_2021_multi\n",
        "\n",
        "data = {'Zone_Classification':['One-Family Dwelling', 'Two-Family Dwelling', 'Multiple Dwelling'],\n",
        "        '2019':[avg_2019_one, avg_2019_two, avg_2019_multi], '2020':[avg_2020_one, avg_2020_two, avg_2020_multi], '2021':[avg_2021_one, avg_2021_two, avg_2021_multi]}\n"
      ],
      "execution_count": 50,
      "outputs": []
    },
    {
      "cell_type": "code",
      "metadata": {
        "id": "c6S2Knn4qObz",
        "colab": {
          "base_uri": "https://localhost:8080/",
          "height": 142
        },
        "outputId": "48bea29f-6251-4308-8e4d-66fe43b6b6d0"
      },
      "source": [
        "results = pd.DataFrame(data)\n",
        "results"
      ],
      "execution_count": 51,
      "outputs": [
        {
          "output_type": "execute_result",
          "data": {
            "text/html": [
              "<div>\n",
              "<style scoped>\n",
              "    .dataframe tbody tr th:only-of-type {\n",
              "        vertical-align: middle;\n",
              "    }\n",
              "\n",
              "    .dataframe tbody tr th {\n",
              "        vertical-align: top;\n",
              "    }\n",
              "\n",
              "    .dataframe thead th {\n",
              "        text-align: right;\n",
              "    }\n",
              "</style>\n",
              "<table border=\"1\" class=\"dataframe\">\n",
              "  <thead>\n",
              "    <tr style=\"text-align: right;\">\n",
              "      <th></th>\n",
              "      <th>Zone_Classification</th>\n",
              "      <th>2019</th>\n",
              "      <th>2020</th>\n",
              "      <th>2021</th>\n",
              "    </tr>\n",
              "  </thead>\n",
              "  <tbody>\n",
              "    <tr>\n",
              "      <th>0</th>\n",
              "      <td>One-Family Dwelling</td>\n",
              "      <td>2.272465e+06</td>\n",
              "      <td>1.957314e+06</td>\n",
              "      <td>2.125256e+06</td>\n",
              "    </tr>\n",
              "    <tr>\n",
              "      <th>1</th>\n",
              "      <td>Two-Family Dwelling</td>\n",
              "      <td>1.648002e+06</td>\n",
              "      <td>1.435885e+06</td>\n",
              "      <td>1.541660e+06</td>\n",
              "    </tr>\n",
              "    <tr>\n",
              "      <th>2</th>\n",
              "      <td>Multiple Dwelling</td>\n",
              "      <td>1.380848e+06</td>\n",
              "      <td>1.264793e+06</td>\n",
              "      <td>1.235255e+06</td>\n",
              "    </tr>\n",
              "  </tbody>\n",
              "</table>\n",
              "</div>"
            ],
            "text/plain": [
              "   Zone_Classification          2019          2020          2021\n",
              "0  One-Family Dwelling  2.272465e+06  1.957314e+06  2.125256e+06\n",
              "1  Two-Family Dwelling  1.648002e+06  1.435885e+06  1.541660e+06\n",
              "2    Multiple Dwelling  1.380848e+06  1.264793e+06  1.235255e+06"
            ]
          },
          "metadata": {},
          "execution_count": 51
        }
      ]
    },
    {
      "cell_type": "code",
      "metadata": {
        "id": "87f20zVdqOT0",
        "colab": {
          "base_uri": "https://localhost:8080/",
          "height": 293
        },
        "outputId": "9d841cbc-063d-4f5a-f0c8-cf32420afcf4"
      },
      "source": [
        "x = np.arange(3)\n",
        "y1 = [avg_2019_one, avg_2020_one, avg_2021_one]\n",
        "y2 = [avg_2019_two, avg_2020_two, avg_2021_two]\n",
        "y3 = [avg_2019_multi, avg_2020_multi, avg_2021_multi]\n",
        "width = 0.20\n",
        "\n",
        "plt.bar(x-0.2, y1, width)\n",
        "plt.bar(x, y2, width)\n",
        "plt.bar(x+0.2, y3, width)\n",
        "plt.xticks(x, ['One-Family', 'Two-Family', 'Multiple'])\n",
        "plt.legend([\"2019\", \"2020\", \"2021\"])\n",
        "plt.ylabel(\"Land Values (xe6)\")"
      ],
      "execution_count": 59,
      "outputs": [
        {
          "output_type": "execute_result",
          "data": {
            "text/plain": [
              "Text(0, 0.5, 'Land Values (xe6)')"
            ]
          },
          "metadata": {},
          "execution_count": 59
        },
        {
          "output_type": "display_data",
          "data": {
            "image/png": "[encoded data removed]",
            "text/plain": [
              "<Figure size 432x288 with 1 Axes>"
            ]
          },
          "metadata": {
            "needs_background": "light"
          }
        }
      ]
    },
    {
      "cell_type": "code",
      "metadata": {
        "id": "UjuqT2EYqODg"
      },
      "source": [
        "\n",
        "\n",
        "\n",
        "\n"
      ],
      "execution_count": null,
      "outputs": []
    }
  ]
}