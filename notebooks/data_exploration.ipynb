{
  "cells": [
    {
      "cell_type": "markdown",
      "source": [
        "# Data Exploration of the Non market dataset\n",
        "The [datasets](https://opendata.vancouver.ca/explore/dataset/non-market-housing/information/) is provided by the city of vancouver open data initiative. The data is provided under the [Open Government Licence](https://opendata.vancouver.ca/pages/licence/). \n",
        "\n",
        "**NOTE**: Map plotting requires a mapbox token. Here I am saving the token in an environmental variable.\n"
      ],
      "metadata": {
        "nteract": {
          "transient": {
            "deleting": false
          }
        }
      }
    },
    {
      "cell_type": "code",
      "source": [
        "from pathlib import Path\n",
        "from zipfile import ZipFile\n",
        "import os\n",
        "\n",
        "import pandas as pd\n",
        "import plotly.express as px\n",
        "import plotly.graph_objects as go"
      ],
      "outputs": [],
      "execution_count": 1,
      "metadata": {
        "collapsed": true,
        "jupyter": {
          "source_hidden": false,
          "outputs_hidden": false
        },
        "nteract": {
          "transient": {
            "deleting": false
          }
        },
        "execution": {
          "iopub.status.busy": "2021-09-22T21:33:51.886Z",
          "iopub.execute_input": "2021-09-22T21:33:51.910Z",
          "iopub.status.idle": "2021-09-22T21:33:52.718Z",
          "shell.execute_reply": "2021-09-22T21:33:52.756Z"
        }
      }
    },
    {
      "cell_type": "code",
      "source": [
        "repo_path = Path.cwd().parent.absolute()\n",
        "data_path = repo_path/'data'\n",
        "non_market_path = data_path/'non-market-housing.csv'\n",
        "# property_tax_path is to big for github so it is zipped\n",
        "property_data_path = data_path/'property-tax-report.csv.zip'\n",
        "property_data_zip = ZipFile(property_data_path)\n",
        "\n",
        "\n",
        "non_market_df = pd.read_csv(non_market_path, delimiter=';')\n",
        "property_tax_df = pd.read_csv(property_data_zip.open('property-tax-report.csv'), delimiter=';')\n"
      ],
      "outputs": [],
      "execution_count": 2,
      "metadata": {
        "collapsed": true,
        "jupyter": {
          "source_hidden": false,
          "outputs_hidden": false
        },
        "nteract": {
          "transient": {
            "deleting": false
          }
        },
        "execution": {
          "iopub.status.busy": "2021-09-22T21:33:55.133Z",
          "iopub.execute_input": "2021-09-22T21:33:55.144Z",
          "iopub.status.idle": "2021-09-22T21:33:58.375Z",
          "shell.execute_reply": "2021-09-22T21:33:58.392Z"
        }
      }
    },
    {
      "cell_type": "code",
      "source": [
        "non_market_df.head(5)"
      ],
      "outputs": [
        {
          "output_type": "execute_result",
          "execution_count": 3,
          "data": {
            "text/plain": "   Index Number                    Name          Address Project Status  \\\n0             3              Inti Co-op  1675 Cypress St      Completed   \n1            12           Habitat Villa   3859 W 2nd Ave      Completed   \n2            15    Coastview Apartments   1650 E 3rd Ave      Completed   \n3            16  Moreland Kennedy House   2495 W 3rd Ave      Completed   \n4            17            Antkiw Court   1534 E 4th Ave      Completed   \n\n   Occupancy Year  Design - Accessible 1BR  Design - Accessible 2BR  \\\n0          1986.0                      2.0                      2.0   \n1          1980.0                      0.0                      0.0   \n2          1980.0                      1.0                      0.0   \n3          1974.0                      0.0                      0.0   \n4          1988.0                      0.0                      0.0   \n\n   Design - Accessible 3BR  Design - Accessible 4BR  \\\n0                      0.0                      0.0   \n1                      4.0                      0.0   \n2                      0.0                      0.0   \n3                      0.0                      0.0   \n4                      0.0                      0.0   \n\n   Design - Accessible Studio  ...  Design - Standard 4BR  \\\n0                         0.0  ...                    2.0   \n1                         0.0  ...                    0.0   \n2                         0.0  ...                    0.0   \n3                         0.0  ...                    0.0   \n4                         0.0  ...                    2.0   \n\n   Design - Standard Studio  Design - Standard Room  Clientele- Families  \\\n0                       0.0                     0.0                   14   \n1                       0.0                     0.0                   37   \n2                      24.0                     0.0                    0   \n3                      20.0                     0.0                    0   \n4                       0.0                     0.0                   21   \n\n   Clientele - Seniors  Clientele - Other  \\\n0                    0                  6   \n1                    0                  0   \n2                    0                 33   \n3                   30                  1   \n4                    0                  0   \n\n                                Operator          Local Area  \\\n0         Inti Co-op Housing Association           Kitsilano   \n1    Metro Vancouver Housing Corporation     West Point Grey   \n2               Coast Foundation Society  Grandview-Woodland   \n3  Brightside Community Homes Foundation           Kitsilano   \n4      Entre Nous Femmes Housing Society  Grandview-Woodland   \n\n                                                 URL  \\\n0  https://app.vancouver.ca/NonMarketHousing_NET/...   \n1  https://app.vancouver.ca/NonMarketHousing_NET/...   \n2  https://app.vancouver.ca/NonMarketHousing_NET/...   \n3  https://app.vancouver.ca/NonMarketHousing_NET/...   \n4  https://app.vancouver.ca/NonMarketHousing_NET/...   \n\n                                                Geom  \n0  {\"type\": \"Point\", \"coordinates\": [-123.1482191...  \n1  {\"type\": \"Point\", \"coordinates\": [-123.1903871...  \n2  {\"type\": \"Point\", \"coordinates\": [-123.0705277...  \n3  {\"type\": \"Point\", \"coordinates\": [-123.1618756...  \n4  {\"type\": \"Point\", \"coordinates\": [-123.0728805...  \n\n[5 rows x 28 columns]",
            "text/html": "<div>\n<style scoped>\n    .dataframe tbody tr th:only-of-type {\n        vertical-align: middle;\n    }\n\n    .dataframe tbody tr th {\n        vertical-align: top;\n    }\n\n    .dataframe thead th {\n        text-align: right;\n    }\n</style>\n<table border=\"1\" class=\"dataframe\">\n  <thead>\n    <tr style=\"text-align: right;\">\n      <th></th>\n      <th>Index Number</th>\n      <th>Name</th>\n      <th>Address</th>\n      <th>Project Status</th>\n      <th>Occupancy Year</th>\n      <th>Design - Accessible 1BR</th>\n      <th>Design - Accessible 2BR</th>\n      <th>Design - Accessible 3BR</th>\n      <th>Design - Accessible 4BR</th>\n      <th>Design - Accessible Studio</th>\n      <th>...</th>\n      <th>Design - Standard 4BR</th>\n      <th>Design - Standard Studio</th>\n      <th>Design - Standard Room</th>\n      <th>Clientele- Families</th>\n      <th>Clientele - Seniors</th>\n      <th>Clientele - Other</th>\n      <th>Operator</th>\n      <th>Local Area</th>\n      <th>URL</th>\n      <th>Geom</th>\n    </tr>\n  </thead>\n  <tbody>\n    <tr>\n      <th>0</th>\n      <td>3</td>\n      <td>Inti Co-op</td>\n      <td>1675 Cypress St</td>\n      <td>Completed</td>\n      <td>1986.0</td>\n      <td>2.0</td>\n      <td>2.0</td>\n      <td>0.0</td>\n      <td>0.0</td>\n      <td>0.0</td>\n      <td>...</td>\n      <td>2.0</td>\n      <td>0.0</td>\n      <td>0.0</td>\n      <td>14</td>\n      <td>0</td>\n      <td>6</td>\n      <td>Inti Co-op Housing Association</td>\n      <td>Kitsilano</td>\n      <td>https://app.vancouver.ca/NonMarketHousing_NET/...</td>\n      <td>{\"type\": \"Point\", \"coordinates\": [-123.1482191...</td>\n    </tr>\n    <tr>\n      <th>1</th>\n      <td>12</td>\n      <td>Habitat Villa</td>\n      <td>3859 W 2nd Ave</td>\n      <td>Completed</td>\n      <td>1980.0</td>\n      <td>0.0</td>\n      <td>0.0</td>\n      <td>4.0</td>\n      <td>0.0</td>\n      <td>0.0</td>\n      <td>...</td>\n      <td>0.0</td>\n      <td>0.0</td>\n      <td>0.0</td>\n      <td>37</td>\n      <td>0</td>\n      <td>0</td>\n      <td>Metro Vancouver Housing Corporation</td>\n      <td>West Point Grey</td>\n      <td>https://app.vancouver.ca/NonMarketHousing_NET/...</td>\n      <td>{\"type\": \"Point\", \"coordinates\": [-123.1903871...</td>\n    </tr>\n    <tr>\n      <th>2</th>\n      <td>15</td>\n      <td>Coastview Apartments</td>\n      <td>1650 E 3rd Ave</td>\n      <td>Completed</td>\n      <td>1980.0</td>\n      <td>1.0</td>\n      <td>0.0</td>\n      <td>0.0</td>\n      <td>0.0</td>\n      <td>0.0</td>\n      <td>...</td>\n      <td>0.0</td>\n      <td>24.0</td>\n      <td>0.0</td>\n      <td>0</td>\n      <td>0</td>\n      <td>33</td>\n      <td>Coast Foundation Society</td>\n      <td>Grandview-Woodland</td>\n      <td>https://app.vancouver.ca/NonMarketHousing_NET/...</td>\n      <td>{\"type\": \"Point\", \"coordinates\": [-123.0705277...</td>\n    </tr>\n    <tr>\n      <th>3</th>\n      <td>16</td>\n      <td>Moreland Kennedy House</td>\n      <td>2495 W 3rd Ave</td>\n      <td>Completed</td>\n      <td>1974.0</td>\n      <td>0.0</td>\n      <td>0.0</td>\n      <td>0.0</td>\n      <td>0.0</td>\n      <td>0.0</td>\n      <td>...</td>\n      <td>0.0</td>\n      <td>20.0</td>\n      <td>0.0</td>\n      <td>0</td>\n      <td>30</td>\n      <td>1</td>\n      <td>Brightside Community Homes Foundation</td>\n      <td>Kitsilano</td>\n      <td>https://app.vancouver.ca/NonMarketHousing_NET/...</td>\n      <td>{\"type\": \"Point\", \"coordinates\": [-123.1618756...</td>\n    </tr>\n    <tr>\n      <th>4</th>\n      <td>17</td>\n      <td>Antkiw Court</td>\n      <td>1534 E 4th Ave</td>\n      <td>Completed</td>\n      <td>1988.0</td>\n      <td>0.0</td>\n      <td>0.0</td>\n      <td>0.0</td>\n      <td>0.0</td>\n      <td>0.0</td>\n      <td>...</td>\n      <td>2.0</td>\n      <td>0.0</td>\n      <td>0.0</td>\n      <td>21</td>\n      <td>0</td>\n      <td>0</td>\n      <td>Entre Nous Femmes Housing Society</td>\n      <td>Grandview-Woodland</td>\n      <td>https://app.vancouver.ca/NonMarketHousing_NET/...</td>\n      <td>{\"type\": \"Point\", \"coordinates\": [-123.0728805...</td>\n    </tr>\n  </tbody>\n</table>\n<p>5 rows × 28 columns</p>\n</div>"
          },
          "metadata": {}
        }
      ],
      "execution_count": 3,
      "metadata": {
        "collapsed": true,
        "jupyter": {
          "source_hidden": false,
          "outputs_hidden": false
        },
        "nteract": {
          "transient": {
            "deleting": false
          }
        },
        "execution": {
          "iopub.status.busy": "2021-09-22T21:33:58.412Z",
          "iopub.execute_input": "2021-09-22T21:33:58.426Z",
          "iopub.status.idle": "2021-09-22T21:33:58.453Z",
          "shell.execute_reply": "2021-09-22T21:33:58.578Z"
        }
      }
    },
    {
      "cell_type": "code",
      "source": [
        "property_tax_df.head(5)"
      ],
      "outputs": [
        {
          "output_type": "execute_result",
          "execution_count": 4,
          "data": {
            "text/plain": "           PID LEGAL_TYPE         FOLIO  LAND_COORDINATE ZONING_DISTRICT  \\\n0  008-358-877       LAND  634282490000         63428249            RS-1   \n1  004-426-410       LAND  633277020000         63327702            RS-1   \n2  012-810-550       LAND  633280360000         63328036            RS-1   \n3  007-860-463       LAND  634289600000         63428960            RS-1   \n4  006-146-422       LAND  570275320000         57027532            RS-1   \n\n  ZONING_CLASSIFICATION  LOT     PLAN BLOCK DISTRICT_LOT  ...  \\\n0   One-Family Dwelling   21  VAP6983    62          NaN  ...   \n1   One-Family Dwelling    A  VAP8015    46         THSL  ...   \n2   One-Family Dwelling   13  VAP3517    59         THSL  ...   \n3   One-Family Dwelling   10  VAP3672    76         THSL  ...   \n4   One-Family Dwelling  794  VAP6675   NaN           HT  ...   \n\n  CURRENT_LAND_VALUE  CURRENT_IMPROVEMENT_VALUE TAX_ASSESSMENT_YEAR  \\\n0          1352000.0                   264000.0              2021.0   \n1          1573000.0                   309000.0              2021.0   \n2          1283000.0                   120000.0              2021.0   \n3          1297000.0                   143000.0              2021.0   \n4          1094000.0                    51000.0              2021.0   \n\n  PREVIOUS_LAND_VALUE PREVIOUS_IMPROVEMENT_VALUE YEAR_BUILT  \\\n0           1229000.0                   259000.0     2001.0   \n1           1430000.0                   317000.0     1990.0   \n2           1167000.0                   127000.0     1985.0   \n3           1179000.0                   152000.0     1987.0   \n4           1030000.0                    47900.0     1927.0   \n\n  BIG_IMPROVEMENT_YEAR TAX_LEVY NEIGHBOURHOOD_CODE  REPORT_YEAR  \n0               2001.0  6455.75                 21         2021  \n1               1990.0  7285.14                 21         2021  \n2               1985.0  5746.26                 21         2021  \n3               1987.0  5840.40                 21         2021  \n4               1965.0  5035.26                 20         2021  \n\n[5 rows x 29 columns]",
            "text/html": "<div>\n<style scoped>\n    .dataframe tbody tr th:only-of-type {\n        vertical-align: middle;\n    }\n\n    .dataframe tbody tr th {\n        vertical-align: top;\n    }\n\n    .dataframe thead th {\n        text-align: right;\n    }\n</style>\n<table border=\"1\" class=\"dataframe\">\n  <thead>\n    <tr style=\"text-align: right;\">\n      <th></th>\n      <th>PID</th>\n      <th>LEGAL_TYPE</th>\n      <th>FOLIO</th>\n      <th>LAND_COORDINATE</th>\n      <th>ZONING_DISTRICT</th>\n      <th>ZONING_CLASSIFICATION</th>\n      <th>LOT</th>\n      <th>PLAN</th>\n      <th>BLOCK</th>\n      <th>DISTRICT_LOT</th>\n      <th>...</th>\n      <th>CURRENT_LAND_VALUE</th>\n      <th>CURRENT_IMPROVEMENT_VALUE</th>\n      <th>TAX_ASSESSMENT_YEAR</th>\n      <th>PREVIOUS_LAND_VALUE</th>\n      <th>PREVIOUS_IMPROVEMENT_VALUE</th>\n      <th>YEAR_BUILT</th>\n      <th>BIG_IMPROVEMENT_YEAR</th>\n      <th>TAX_LEVY</th>\n      <th>NEIGHBOURHOOD_CODE</th>\n      <th>REPORT_YEAR</th>\n    </tr>\n  </thead>\n  <tbody>\n    <tr>\n      <th>0</th>\n      <td>008-358-877</td>\n      <td>LAND</td>\n      <td>634282490000</td>\n      <td>63428249</td>\n      <td>RS-1</td>\n      <td>One-Family Dwelling</td>\n      <td>21</td>\n      <td>VAP6983</td>\n      <td>62</td>\n      <td>NaN</td>\n      <td>...</td>\n      <td>1352000.0</td>\n      <td>264000.0</td>\n      <td>2021.0</td>\n      <td>1229000.0</td>\n      <td>259000.0</td>\n      <td>2001.0</td>\n      <td>2001.0</td>\n      <td>6455.75</td>\n      <td>21</td>\n      <td>2021</td>\n    </tr>\n    <tr>\n      <th>1</th>\n      <td>004-426-410</td>\n      <td>LAND</td>\n      <td>633277020000</td>\n      <td>63327702</td>\n      <td>RS-1</td>\n      <td>One-Family Dwelling</td>\n      <td>A</td>\n      <td>VAP8015</td>\n      <td>46</td>\n      <td>THSL</td>\n      <td>...</td>\n      <td>1573000.0</td>\n      <td>309000.0</td>\n      <td>2021.0</td>\n      <td>1430000.0</td>\n      <td>317000.0</td>\n      <td>1990.0</td>\n      <td>1990.0</td>\n      <td>7285.14</td>\n      <td>21</td>\n      <td>2021</td>\n    </tr>\n    <tr>\n      <th>2</th>\n      <td>012-810-550</td>\n      <td>LAND</td>\n      <td>633280360000</td>\n      <td>63328036</td>\n      <td>RS-1</td>\n      <td>One-Family Dwelling</td>\n      <td>13</td>\n      <td>VAP3517</td>\n      <td>59</td>\n      <td>THSL</td>\n      <td>...</td>\n      <td>1283000.0</td>\n      <td>120000.0</td>\n      <td>2021.0</td>\n      <td>1167000.0</td>\n      <td>127000.0</td>\n      <td>1985.0</td>\n      <td>1985.0</td>\n      <td>5746.26</td>\n      <td>21</td>\n      <td>2021</td>\n    </tr>\n    <tr>\n      <th>3</th>\n      <td>007-860-463</td>\n      <td>LAND</td>\n      <td>634289600000</td>\n      <td>63428960</td>\n      <td>RS-1</td>\n      <td>One-Family Dwelling</td>\n      <td>10</td>\n      <td>VAP3672</td>\n      <td>76</td>\n      <td>THSL</td>\n      <td>...</td>\n      <td>1297000.0</td>\n      <td>143000.0</td>\n      <td>2021.0</td>\n      <td>1179000.0</td>\n      <td>152000.0</td>\n      <td>1987.0</td>\n      <td>1987.0</td>\n      <td>5840.40</td>\n      <td>21</td>\n      <td>2021</td>\n    </tr>\n    <tr>\n      <th>4</th>\n      <td>006-146-422</td>\n      <td>LAND</td>\n      <td>570275320000</td>\n      <td>57027532</td>\n      <td>RS-1</td>\n      <td>One-Family Dwelling</td>\n      <td>794</td>\n      <td>VAP6675</td>\n      <td>NaN</td>\n      <td>HT</td>\n      <td>...</td>\n      <td>1094000.0</td>\n      <td>51000.0</td>\n      <td>2021.0</td>\n      <td>1030000.0</td>\n      <td>47900.0</td>\n      <td>1927.0</td>\n      <td>1965.0</td>\n      <td>5035.26</td>\n      <td>20</td>\n      <td>2021</td>\n    </tr>\n  </tbody>\n</table>\n<p>5 rows × 29 columns</p>\n</div>"
          },
          "metadata": {}
        }
      ],
      "execution_count": 4,
      "metadata": {
        "collapsed": true,
        "jupyter": {
          "source_hidden": false,
          "outputs_hidden": false
        },
        "nteract": {
          "transient": {
            "deleting": false
          }
        },
        "execution": {
          "iopub.status.busy": "2021-09-22T21:33:58.601Z",
          "iopub.execute_input": "2021-09-22T21:33:58.613Z",
          "iopub.status.idle": "2021-09-22T21:33:58.634Z",
          "shell.execute_reply": "2021-09-22T21:33:58.584Z"
        }
      }
    },
    {
      "cell_type": "code",
      "source": [
        "non_market_df.info()"
      ],
      "outputs": [
        {
          "output_type": "stream",
          "name": "stdout",
          "text": [
            "<class 'pandas.core.frame.DataFrame'>\n",
            "RangeIndex: 591 entries, 0 to 590\n",
            "Data columns (total 28 columns):\n",
            " #   Column                      Non-Null Count  Dtype  \n",
            "---  ------                      --------------  -----  \n",
            " 0   Index Number                591 non-null    int64  \n",
            " 1   Name                        591 non-null    object \n",
            " 2   Address                     591 non-null    object \n",
            " 3   Project Status              591 non-null    object \n",
            " 4   Occupancy Year              531 non-null    float64\n",
            " 5   Design - Accessible 1BR     503 non-null    float64\n",
            " 6   Design - Accessible 2BR     498 non-null    float64\n",
            " 7   Design - Accessible 3BR     495 non-null    float64\n",
            " 8   Design - Accessible 4BR     493 non-null    float64\n",
            " 9   Design - Accessible Studio  512 non-null    float64\n",
            " 10  Design - Accessible Room    495 non-null    float64\n",
            " 11  Design - Adaptable 1BR      496 non-null    float64\n",
            " 12  Design - Adaptable 2BR      494 non-null    float64\n",
            " 13  Design - Adaptable 3BR      493 non-null    float64\n",
            " 14  Design - Adaptable 4BR      492 non-null    float64\n",
            " 15  Design - Standard 1BR       559 non-null    float64\n",
            " 16  Design - Standard 2BR       556 non-null    float64\n",
            " 17  Design - Standard 3BR       547 non-null    float64\n",
            " 18  Design - Standard 4BR       514 non-null    float64\n",
            " 19  Design - Standard Studio    570 non-null    float64\n",
            " 20  Design - Standard Room      522 non-null    float64\n",
            " 21  Clientele- Families         591 non-null    int64  \n",
            " 22  Clientele - Seniors         591 non-null    int64  \n",
            " 23  Clientele - Other           591 non-null    int64  \n",
            " 24  Operator                    563 non-null    object \n",
            " 25  Local Area                  591 non-null    object \n",
            " 26  URL                         534 non-null    object \n",
            " 27  Geom                        591 non-null    object \n",
            "dtypes: float64(17), int64(4), object(7)\n",
            "memory usage: 129.4+ KB\n"
          ]
        }
      ],
      "execution_count": 5,
      "metadata": {
        "collapsed": true,
        "jupyter": {
          "source_hidden": false,
          "outputs_hidden": false
        },
        "nteract": {
          "transient": {
            "deleting": false
          }
        },
        "execution": {
          "iopub.status.busy": "2021-09-22T21:33:59.810Z",
          "iopub.execute_input": "2021-09-22T21:33:59.819Z",
          "iopub.status.idle": "2021-09-22T21:33:59.838Z",
          "shell.execute_reply": "2021-09-22T21:33:59.846Z"
        }
      }
    },
    {
      "cell_type": "code",
      "source": [
        "non_market_df['Occupancy Year'].describe()"
      ],
      "outputs": [
        {
          "output_type": "execute_result",
          "execution_count": 6,
          "data": {
            "text/plain": "count     531.000000\nmean     1992.271186\nstd        14.371286\nmin      1958.000000\n25%      1982.000000\n50%      1989.000000\n75%      2003.000000\nmax      2020.000000\nName: Occupancy Year, dtype: float64"
          },
          "metadata": {}
        }
      ],
      "execution_count": 6,
      "metadata": {
        "collapsed": true,
        "jupyter": {
          "source_hidden": false,
          "outputs_hidden": false
        },
        "nteract": {
          "transient": {
            "deleting": false
          }
        },
        "execution": {
          "iopub.status.busy": "2021-09-22T21:34:00.695Z",
          "iopub.execute_input": "2021-09-22T21:34:00.717Z",
          "iopub.status.idle": "2021-09-22T21:34:00.751Z",
          "shell.execute_reply": "2021-09-22T21:34:00.767Z"
        }
      }
    },
    {
      "cell_type": "code",
      "source": [
        "property_tax_df.info()"
      ],
      "outputs": [
        {
          "output_type": "stream",
          "name": "stdout",
          "text": [
            "<class 'pandas.core.frame.DataFrame'>\n",
            "RangeIndex: 431025 entries, 0 to 431024\n",
            "Data columns (total 29 columns):\n",
            " #   Column                      Non-Null Count   Dtype  \n",
            "---  ------                      --------------   -----  \n",
            " 0   PID                         429894 non-null  object \n",
            " 1   LEGAL_TYPE                  431025 non-null  object \n",
            " 2   FOLIO                       431025 non-null  int64  \n",
            " 3   LAND_COORDINATE             431025 non-null  int64  \n",
            " 4   ZONING_DISTRICT             431015 non-null  object \n",
            " 5   ZONING_CLASSIFICATION       425360 non-null  object \n",
            " 6   LOT                         427988 non-null  object \n",
            " 7   PLAN                        430578 non-null  object \n",
            " 8   BLOCK                       176712 non-null  object \n",
            " 9   DISTRICT_LOT                409163 non-null  object \n",
            " 10  FROM_CIVIC_NUMBER           214480 non-null  object \n",
            " 11  TO_CIVIC_NUMBER             429912 non-null  float64\n",
            " 12  STREET_NAME                 430728 non-null  object \n",
            " 13  PROPERTY_POSTAL_CODE        422476 non-null  object \n",
            " 14  NARRATIVE_LEGAL_LINE1       430835 non-null  object \n",
            " 15  NARRATIVE_LEGAL_LINE2       430684 non-null  object \n",
            " 16  NARRATIVE_LEGAL_LINE3       303190 non-null  object \n",
            " 17  NARRATIVE_LEGAL_LINE4       140087 non-null  object \n",
            " 18  NARRATIVE_LEGAL_LINE5       127147 non-null  object \n",
            " 19  CURRENT_LAND_VALUE          426018 non-null  float64\n",
            " 20  CURRENT_IMPROVEMENT_VALUE   426018 non-null  float64\n",
            " 21  TAX_ASSESSMENT_YEAR         426018 non-null  float64\n",
            " 22  PREVIOUS_LAND_VALUE         421405 non-null  float64\n",
            " 23  PREVIOUS_IMPROVEMENT_VALUE  421405 non-null  float64\n",
            " 24  YEAR_BUILT                  415289 non-null  float64\n",
            " 25  BIG_IMPROVEMENT_YEAR        415289 non-null  float64\n",
            " 26  TAX_LEVY                    426325 non-null  float64\n",
            " 27  NEIGHBOURHOOD_CODE          431025 non-null  int64  \n",
            " 28  REPORT_YEAR                 431025 non-null  int64  \n",
            "dtypes: float64(9), int64(4), object(16)\n",
            "memory usage: 95.4+ MB\n"
          ]
        }
      ],
      "execution_count": 7,
      "metadata": {
        "collapsed": true,
        "jupyter": {
          "source_hidden": false,
          "outputs_hidden": false
        },
        "nteract": {
          "transient": {
            "deleting": false
          }
        },
        "execution": {
          "iopub.status.busy": "2021-09-22T21:34:01.312Z",
          "iopub.execute_input": "2021-09-22T21:34:01.323Z",
          "iopub.status.idle": "2021-09-22T21:34:01.661Z",
          "shell.execute_reply": "2021-09-22T21:34:01.688Z"
        }
      }
    },
    {
      "cell_type": "markdown",
      "source": [
        "Checking nulls for each dataframe."
      ],
      "metadata": {
        "nteract": {
          "transient": {
            "deleting": false
          }
        }
      }
    },
    {
      "cell_type": "code",
      "source": [
        "non_market_df.isnull().sum()"
      ],
      "outputs": [
        {
          "output_type": "execute_result",
          "execution_count": 8,
          "data": {
            "text/plain": "Index Number                   0\nName                           0\nAddress                        0\nProject Status                 0\nOccupancy Year                60\nDesign - Accessible 1BR       88\nDesign - Accessible 2BR       93\nDesign - Accessible 3BR       96\nDesign - Accessible 4BR       98\nDesign - Accessible Studio    79\nDesign - Accessible Room      96\nDesign - Adaptable 1BR        95\nDesign - Adaptable 2BR        97\nDesign - Adaptable 3BR        98\nDesign - Adaptable 4BR        99\nDesign - Standard 1BR         32\nDesign - Standard 2BR         35\nDesign - Standard 3BR         44\nDesign - Standard 4BR         77\nDesign - Standard Studio      21\nDesign - Standard Room        69\nClientele- Families            0\nClientele - Seniors            0\nClientele - Other              0\nOperator                      28\nLocal Area                     0\nURL                           57\nGeom                           0\ndtype: int64"
          },
          "metadata": {}
        }
      ],
      "execution_count": 8,
      "metadata": {
        "collapsed": true,
        "jupyter": {
          "source_hidden": false,
          "outputs_hidden": false
        },
        "nteract": {
          "transient": {
            "deleting": false
          }
        },
        "execution": {
          "iopub.status.busy": "2021-09-22T21:34:02.817Z",
          "iopub.execute_input": "2021-09-22T21:34:02.826Z",
          "iopub.status.idle": "2021-09-22T21:34:02.847Z",
          "shell.execute_reply": "2021-09-22T21:34:02.867Z"
        }
      }
    },
    {
      "cell_type": "markdown",
      "source": [
        "Most of the null/NaN values are in the design type. Replace that with zeros. We will be using the Operator column later so will fill nulll values with 'not specificed' string."
      ],
      "metadata": {
        "nteract": {
          "transient": {
            "deleting": false
          }
        }
      }
    },
    {
      "cell_type": "code",
      "source": [
        "## Cleaning and Wrangling non_market_df\n",
        "design_columns = {column: 0 for column in non_market_df.columns if column.startswith('Design')}\n",
        "# Update design type\n",
        "non_market_df.fillna(value=design_columns, inplace=True)\n",
        "non_market_df.fillna(value={'Operator':'not specified'}, inplace=True)\n",
        "non_market_df.isnull().sum()"
      ],
      "outputs": [
        {
          "output_type": "execute_result",
          "execution_count": 9,
          "data": {
            "text/plain": "Index Number                   0\nName                           0\nAddress                        0\nProject Status                 0\nOccupancy Year                60\nDesign - Accessible 1BR        0\nDesign - Accessible 2BR        0\nDesign - Accessible 3BR        0\nDesign - Accessible 4BR        0\nDesign - Accessible Studio     0\nDesign - Accessible Room       0\nDesign - Adaptable 1BR         0\nDesign - Adaptable 2BR         0\nDesign - Adaptable 3BR         0\nDesign - Adaptable 4BR         0\nDesign - Standard 1BR          0\nDesign - Standard 2BR          0\nDesign - Standard 3BR          0\nDesign - Standard 4BR          0\nDesign - Standard Studio       0\nDesign - Standard Room         0\nClientele- Families            0\nClientele - Seniors            0\nClientele - Other              0\nOperator                       0\nLocal Area                     0\nURL                           57\nGeom                           0\ndtype: int64"
          },
          "metadata": {}
        }
      ],
      "execution_count": 9,
      "metadata": {
        "collapsed": true,
        "jupyter": {
          "source_hidden": false,
          "outputs_hidden": false
        },
        "nteract": {
          "transient": {
            "deleting": false
          }
        },
        "execution": {
          "iopub.status.busy": "2021-09-22T21:34:07.619Z",
          "iopub.execute_input": "2021-09-22T21:34:07.634Z",
          "iopub.status.idle": "2021-09-22T21:34:07.658Z",
          "shell.execute_reply": "2021-09-22T21:34:07.669Z"
        }
      }
    },
    {
      "cell_type": "code",
      "source": [
        "design_type_df = non_market_df[list(design_columns.keys())].sum().to_frame().reset_index()\n",
        "design_type_df.rename(columns={'index': 'Unit Type', 0: 'Count'}, inplace=True)\n",
        "fig = px.bar(design_type_df, x='Unit Type', y='Count', title='Number of units by type between 1958 and 2020')\n",
        "fig.show()"
      ],
      "outputs": [
        {
          "output_type": "display_data",
          "data": {
            "application/vnd.plotly.v1+json": {
              "config": {
                "plotlyServerURL": "https://plot.ly"
              },
              "data": [
                {
                  "alignmentgroup": "True",
                  "hovertemplate": "Unit Type=%{x}<br>Count=%{y}<extra></extra>",
                  "legendgroup": "",
                  "marker": {
                    "color": "#636efa",
                    "pattern": {
                      "shape": ""
                    }
                  },
                  "name": "",
                  "offsetgroup": "",
                  "orientation": "v",
                  "showlegend": false,
                  "textposition": "auto",
                  "type": "bar",
                  "x": [
                    "Design - Accessible 1BR",
                    "Design - Accessible 2BR",
                    "Design - Accessible 3BR",
                    "Design - Accessible 4BR",
                    "Design - Accessible Studio",
                    "Design - Accessible Room",
                    "Design - Adaptable 1BR",
                    "Design - Adaptable 2BR",
                    "Design - Adaptable 3BR",
                    "Design - Adaptable 4BR",
                    "Design - Standard 1BR",
                    "Design - Standard 2BR",
                    "Design - Standard 3BR",
                    "Design - Standard 4BR",
                    "Design - Standard Studio",
                    "Design - Standard Room"
                  ],
                  "xaxis": "x",
                  "y": [
                    665,
                    226,
                    55,
                    8,
                    520,
                    34,
                    296,
                    46,
                    31,
                    14,
                    7475,
                    5876,
                    3786,
                    514,
                    10024,
                    2851
                  ],
                  "yaxis": "y"
                }
              ],
              "layout": {
                "barmode": "relative",
                "legend": {
                  "tracegroupgap": 0
                },
                "template": {
                  "data": {
                    "bar": [
                      {
                        "error_x": {
                          "color": "#2a3f5f"
                        },
                        "error_y": {
                          "color": "#2a3f5f"
                        },
                        "marker": {
                          "line": {
                            "color": "#E5ECF6",
                            "width": 0.5
                          },
                          "pattern": {
                            "fillmode": "overlay",
                            "size": 10,
                            "solidity": 0.2
                          }
                        },
                        "type": "bar"
                      }
                    ],
                    "barpolar": [
                      {
                        "marker": {
                          "line": {
                            "color": "#E5ECF6",
                            "width": 0.5
                          },
                          "pattern": {
                            "fillmode": "overlay",
                            "size": 10,
                            "solidity": 0.2
                          }
                        },
                        "type": "barpolar"
                      }
                    ],
                    "carpet": [
                      {
                        "aaxis": {
                          "endlinecolor": "#2a3f5f",
                          "gridcolor": "white",
                          "linecolor": "white",
                          "minorgridcolor": "white",
                          "startlinecolor": "#2a3f5f"
                        },
                        "baxis": {
                          "endlinecolor": "#2a3f5f",
                          "gridcolor": "white",
                          "linecolor": "white",
                          "minorgridcolor": "white",
                          "startlinecolor": "#2a3f5f"
                        },
                        "type": "carpet"
                      }
                    ],
                    "choropleth": [
                      {
                        "colorbar": {
                          "outlinewidth": 0,
                          "ticks": ""
                        },
                        "type": "choropleth"
                      }
                    ],
                    "contour": [
                      {
                        "colorbar": {
                          "outlinewidth": 0,
                          "ticks": ""
                        },
                        "colorscale": [
                          [
                            0,
                            "#0d0887"
                          ],
                          [
                            0.1111111111111111,
                            "#46039f"
                          ],
                          [
                            0.2222222222222222,
                            "#7201a8"
                          ],
                          [
                            0.3333333333333333,
                            "#9c179e"
                          ],
                          [
                            0.4444444444444444,
                            "#bd3786"
                          ],
                          [
                            0.5555555555555556,
                            "#d8576b"
                          ],
                          [
                            0.6666666666666666,
                            "#ed7953"
                          ],
                          [
                            0.7777777777777778,
                            "#fb9f3a"
                          ],
                          [
                            0.8888888888888888,
                            "#fdca26"
                          ],
                          [
                            1,
                            "#f0f921"
                          ]
                        ],
                        "type": "contour"
                      }
                    ],
                    "contourcarpet": [
                      {
                        "colorbar": {
                          "outlinewidth": 0,
                          "ticks": ""
                        },
                        "type": "contourcarpet"
                      }
                    ],
                    "heatmap": [
                      {
                        "colorbar": {
                          "outlinewidth": 0,
                          "ticks": ""
                        },
                        "colorscale": [
                          [
                            0,
                            "#0d0887"
                          ],
                          [
                            0.1111111111111111,
                            "#46039f"
                          ],
                          [
                            0.2222222222222222,
                            "#7201a8"
                          ],
                          [
                            0.3333333333333333,
                            "#9c179e"
                          ],
                          [
                            0.4444444444444444,
                            "#bd3786"
                          ],
                          [
                            0.5555555555555556,
                            "#d8576b"
                          ],
                          [
                            0.6666666666666666,
                            "#ed7953"
                          ],
                          [
                            0.7777777777777778,
                            "#fb9f3a"
                          ],
                          [
                            0.8888888888888888,
                            "#fdca26"
                          ],
                          [
                            1,
                            "#f0f921"
                          ]
                        ],
                        "type": "heatmap"
                      }
                    ],
                    "heatmapgl": [
                      {
                        "colorbar": {
                          "outlinewidth": 0,
                          "ticks": ""
                        },
                        "colorscale": [
                          [
                            0,
                            "#0d0887"
                          ],
                          [
                            0.1111111111111111,
                            "#46039f"
                          ],
                          [
                            0.2222222222222222,
                            "#7201a8"
                          ],
                          [
                            0.3333333333333333,
                            "#9c179e"
                          ],
                          [
                            0.4444444444444444,
                            "#bd3786"
                          ],
                          [
                            0.5555555555555556,
                            "#d8576b"
                          ],
                          [
                            0.6666666666666666,
                            "#ed7953"
                          ],
                          [
                            0.7777777777777778,
                            "#fb9f3a"
                          ],
                          [
                            0.8888888888888888,
                            "#fdca26"
                          ],
                          [
                            1,
                            "#f0f921"
                          ]
                        ],
                        "type": "heatmapgl"
                      }
                    ],
                    "histogram": [
                      {
                        "marker": {
                          "pattern": {
                            "fillmode": "overlay",
                            "size": 10,
                            "solidity": 0.2
                          }
                        },
                        "type": "histogram"
                      }
                    ],
                    "histogram2d": [
                      {
                        "colorbar": {
                          "outlinewidth": 0,
                          "ticks": ""
                        },
                        "colorscale": [
                          [
                            0,
                            "#0d0887"
                          ],
                          [
                            0.1111111111111111,
                            "#46039f"
                          ],
                          [
                            0.2222222222222222,
                            "#7201a8"
                          ],
                          [
                            0.3333333333333333,
                            "#9c179e"
                          ],
                          [
                            0.4444444444444444,
                            "#bd3786"
                          ],
                          [
                            0.5555555555555556,
                            "#d8576b"
                          ],
                          [
                            0.6666666666666666,
                            "#ed7953"
                          ],
                          [
                            0.7777777777777778,
                            "#fb9f3a"
                          ],
                          [
                            0.8888888888888888,
                            "#fdca26"
                          ],
                          [
                            1,
                            "#f0f921"
                          ]
                        ],
                        "type": "histogram2d"
                      }
                    ],
                    "histogram2dcontour": [
                      {
                        "colorbar": {
                          "outlinewidth": 0,
                          "ticks": ""
                        },
                        "colorscale": [
                          [
                            0,
                            "#0d0887"
                          ],
                          [
                            0.1111111111111111,
                            "#46039f"
                          ],
                          [
                            0.2222222222222222,
                            "#7201a8"
                          ],
                          [
                            0.3333333333333333,
                            "#9c179e"
                          ],
                          [
                            0.4444444444444444,
                            "#bd3786"
                          ],
                          [
                            0.5555555555555556,
                            "#d8576b"
                          ],
                          [
                            0.6666666666666666,
                            "#ed7953"
                          ],
                          [
                            0.7777777777777778,
                            "#fb9f3a"
                          ],
                          [
                            0.8888888888888888,
                            "#fdca26"
                          ],
                          [
                            1,
                            "#f0f921"
                          ]
                        ],
                        "type": "histogram2dcontour"
                      }
                    ],
                    "mesh3d": [
                      {
                        "colorbar": {
                          "outlinewidth": 0,
                          "ticks": ""
                        },
                        "type": "mesh3d"
                      }
                    ],
                    "parcoords": [
                      {
                        "line": {
                          "colorbar": {
                            "outlinewidth": 0,
                            "ticks": ""
                          }
                        },
                        "type": "parcoords"
                      }
                    ],
                    "pie": [
                      {
                        "automargin": true,
                        "type": "pie"
                      }
                    ],
                    "scatter": [
                      {
                        "marker": {
                          "colorbar": {
                            "outlinewidth": 0,
                            "ticks": ""
                          }
                        },
                        "type": "scatter"
                      }
                    ],
                    "scatter3d": [
                      {
                        "line": {
                          "colorbar": {
                            "outlinewidth": 0,
                            "ticks": ""
                          }
                        },
                        "marker": {
                          "colorbar": {
                            "outlinewidth": 0,
                            "ticks": ""
                          }
                        },
                        "type": "scatter3d"
                      }
                    ],
                    "scattercarpet": [
                      {
                        "marker": {
                          "colorbar": {
                            "outlinewidth": 0,
                            "ticks": ""
                          }
                        },
                        "type": "scattercarpet"
                      }
                    ],
                    "scattergeo": [
                      {
                        "marker": {
                          "colorbar": {
                            "outlinewidth": 0,
                            "ticks": ""
                          }
                        },
                        "type": "scattergeo"
                      }
                    ],
                    "scattergl": [
                      {
                        "marker": {
                          "colorbar": {
                            "outlinewidth": 0,
                            "ticks": ""
                          }
                        },
                        "type": "scattergl"
                      }
                    ],
                    "scattermapbox": [
                      {
                        "marker": {
                          "colorbar": {
                            "outlinewidth": 0,
                            "ticks": ""
                          }
                        },
                        "type": "scattermapbox"
                      }
                    ],
                    "scatterpolar": [
                      {
                        "marker": {
                          "colorbar": {
                            "outlinewidth": 0,
                            "ticks": ""
                          }
                        },
                        "type": "scatterpolar"
                      }
                    ],
                    "scatterpolargl": [
                      {
                        "marker": {
                          "colorbar": {
                            "outlinewidth": 0,
                            "ticks": ""
                          }
                        },
                        "type": "scatterpolargl"
                      }
                    ],
                    "scatterternary": [
                      {
                        "marker": {
                          "colorbar": {
                            "outlinewidth": 0,
                            "ticks": ""
                          }
                        },
                        "type": "scatterternary"
                      }
                    ],
                    "surface": [
                      {
                        "colorbar": {
                          "outlinewidth": 0,
                          "ticks": ""
                        },
                        "colorscale": [
                          [
                            0,
                            "#0d0887"
                          ],
                          [
                            0.1111111111111111,
                            "#46039f"
                          ],
                          [
                            0.2222222222222222,
                            "#7201a8"
                          ],
                          [
                            0.3333333333333333,
                            "#9c179e"
                          ],
                          [
                            0.4444444444444444,
                            "#bd3786"
                          ],
                          [
                            0.5555555555555556,
                            "#d8576b"
                          ],
                          [
                            0.6666666666666666,
                            "#ed7953"
                          ],
                          [
                            0.7777777777777778,
                            "#fb9f3a"
                          ],
                          [
                            0.8888888888888888,
                            "#fdca26"
                          ],
                          [
                            1,
                            "#f0f921"
                          ]
                        ],
                        "type": "surface"
                      }
                    ],
                    "table": [
                      {
                        "cells": {
                          "fill": {
                            "color": "#EBF0F8"
                          },
                          "line": {
                            "color": "white"
                          }
                        },
                        "header": {
                          "fill": {
                            "color": "#C8D4E3"
                          },
                          "line": {
                            "color": "white"
                          }
                        },
                        "type": "table"
                      }
                    ]
                  },
                  "layout": {
                    "annotationdefaults": {
                      "arrowcolor": "#2a3f5f",
                      "arrowhead": 0,
                      "arrowwidth": 1
                    },
                    "autotypenumbers": "strict",
                    "coloraxis": {
                      "colorbar": {
                        "outlinewidth": 0,
                        "ticks": ""
                      }
                    },
                    "colorscale": {
                      "diverging": [
                        [
                          0,
                          "#8e0152"
                        ],
                        [
                          0.1,
                          "#c51b7d"
                        ],
                        [
                          0.2,
                          "#de77ae"
                        ],
                        [
                          0.3,
                          "#f1b6da"
                        ],
                        [
                          0.4,
                          "#fde0ef"
                        ],
                        [
                          0.5,
                          "#f7f7f7"
                        ],
                        [
                          0.6,
                          "#e6f5d0"
                        ],
                        [
                          0.7,
                          "#b8e186"
                        ],
                        [
                          0.8,
                          "#7fbc41"
                        ],
                        [
                          0.9,
                          "#4d9221"
                        ],
                        [
                          1,
                          "#276419"
                        ]
                      ],
                      "sequential": [
                        [
                          0,
                          "#0d0887"
                        ],
                        [
                          0.1111111111111111,
                          "#46039f"
                        ],
                        [
                          0.2222222222222222,
                          "#7201a8"
                        ],
                        [
                          0.3333333333333333,
                          "#9c179e"
                        ],
                        [
                          0.4444444444444444,
                          "#bd3786"
                        ],
                        [
                          0.5555555555555556,
                          "#d8576b"
                        ],
                        [
                          0.6666666666666666,
                          "#ed7953"
                        ],
                        [
                          0.7777777777777778,
                          "#fb9f3a"
                        ],
                        [
                          0.8888888888888888,
                          "#fdca26"
                        ],
                        [
                          1,
                          "#f0f921"
                        ]
                      ],
                      "sequentialminus": [
                        [
                          0,
                          "#0d0887"
                        ],
                        [
                          0.1111111111111111,
                          "#46039f"
                        ],
                        [
                          0.2222222222222222,
                          "#7201a8"
                        ],
                        [
                          0.3333333333333333,
                          "#9c179e"
                        ],
                        [
                          0.4444444444444444,
                          "#bd3786"
                        ],
                        [
                          0.5555555555555556,
                          "#d8576b"
                        ],
                        [
                          0.6666666666666666,
                          "#ed7953"
                        ],
                        [
                          0.7777777777777778,
                          "#fb9f3a"
                        ],
                        [
                          0.8888888888888888,
                          "#fdca26"
                        ],
                        [
                          1,
                          "#f0f921"
                        ]
                      ]
                    },
                    "colorway": [
                      "#636efa",
                      "#EF553B",
                      "#00cc96",
                      "#ab63fa",
                      "#FFA15A",
                      "#19d3f3",
                      "#FF6692",
                      "#B6E880",
                      "#FF97FF",
                      "#FECB52"
                    ],
                    "font": {
                      "color": "#2a3f5f"
                    },
                    "geo": {
                      "bgcolor": "white",
                      "lakecolor": "white",
                      "landcolor": "#E5ECF6",
                      "showlakes": true,
                      "showland": true,
                      "subunitcolor": "white"
                    },
                    "hoverlabel": {
                      "align": "left"
                    },
                    "hovermode": "closest",
                    "mapbox": {
                      "style": "light"
                    },
                    "paper_bgcolor": "white",
                    "plot_bgcolor": "#E5ECF6",
                    "polar": {
                      "angularaxis": {
                        "gridcolor": "white",
                        "linecolor": "white",
                        "ticks": ""
                      },
                      "bgcolor": "#E5ECF6",
                      "radialaxis": {
                        "gridcolor": "white",
                        "linecolor": "white",
                        "ticks": ""
                      }
                    },
                    "scene": {
                      "xaxis": {
                        "backgroundcolor": "#E5ECF6",
                        "gridcolor": "white",
                        "gridwidth": 2,
                        "linecolor": "white",
                        "showbackground": true,
                        "ticks": "",
                        "zerolinecolor": "white"
                      },
                      "yaxis": {
                        "backgroundcolor": "#E5ECF6",
                        "gridcolor": "white",
                        "gridwidth": 2,
                        "linecolor": "white",
                        "showbackground": true,
                        "ticks": "",
                        "zerolinecolor": "white"
                      },
                      "zaxis": {
                        "backgroundcolor": "#E5ECF6",
                        "gridcolor": "white",
                        "gridwidth": 2,
                        "linecolor": "white",
                        "showbackground": true,
                        "ticks": "",
                        "zerolinecolor": "white"
                      }
                    },
                    "shapedefaults": {
                      "line": {
                        "color": "#2a3f5f"
                      }
                    },
                    "ternary": {
                      "aaxis": {
                        "gridcolor": "white",
                        "linecolor": "white",
                        "ticks": ""
                      },
                      "baxis": {
                        "gridcolor": "white",
                        "linecolor": "white",
                        "ticks": ""
                      },
                      "bgcolor": "#E5ECF6",
                      "caxis": {
                        "gridcolor": "white",
                        "linecolor": "white",
                        "ticks": ""
                      }
                    },
                    "title": {
                      "x": 0.05
                    },
                    "xaxis": {
                      "automargin": true,
                      "gridcolor": "white",
                      "linecolor": "white",
                      "ticks": "",
                      "title": {
                        "standoff": 15
                      },
                      "zerolinecolor": "white",
                      "zerolinewidth": 2
                    },
                    "yaxis": {
                      "automargin": true,
                      "gridcolor": "white",
                      "linecolor": "white",
                      "ticks": "",
                      "title": {
                        "standoff": 15
                      },
                      "zerolinecolor": "white",
                      "zerolinewidth": 2
                    }
                  }
                },
                "title": {
                  "text": "Number of units by type between 1958 and 2020"
                },
                "xaxis": {
                  "anchor": "y",
                  "domain": [
                    0,
                    1
                  ],
                  "title": {
                    "text": "Unit Type"
                  }
                },
                "yaxis": {
                  "anchor": "x",
                  "domain": [
                    0,
                    1
                  ],
                  "title": {
                    "text": "Count"
                  }
                }
              }
            }
          },
          "metadata": {}
        }
      ],
      "execution_count": 10,
      "metadata": {
        "collapsed": true,
        "jupyter": {
          "source_hidden": false,
          "outputs_hidden": false
        },
        "nteract": {
          "transient": {
            "deleting": false
          }
        },
        "execution": {
          "iopub.status.busy": "2021-09-22T21:34:08.245Z",
          "iopub.execute_input": "2021-09-22T21:34:08.257Z",
          "iopub.status.idle": "2021-09-22T21:34:09.092Z",
          "shell.execute_reply": "2021-09-22T21:34:09.172Z"
        }
      }
    },
    {
      "cell_type": "code",
      "source": [
        "client_types = ['Clientele- Families', 'Clientele - Seniors', 'Clientele - Other',]\n",
        "client_type_df = non_market_df[client_types].sum().to_frame().reset_index()\n",
        "client_type_df.rename(columns={'index': 'Client', 0: 'Count'}, inplace=True)\n",
        "fig = fig = px.pie(\n",
        "  client_type_df, values='Count', names='Client', color_discrete_sequence=px.colors.sequential.RdBu,\n",
        "  title='Percentage of units by client type between 1958 and 2020.')\n",
        "fig.show()"
      ],
      "outputs": [
        {
          "output_type": "display_data",
          "data": {
            "application/vnd.plotly.v1+json": {
              "config": {
                "plotlyServerURL": "https://plot.ly"
              },
              "data": [
                {
                  "domain": {
                    "x": [
                      0,
                      1
                    ],
                    "y": [
                      0,
                      1
                    ]
                  },
                  "hovertemplate": "Client=%{label}<br>Count=%{value}<extra></extra>",
                  "labels": [
                    "Clientele- Families",
                    "Clientele - Seniors",
                    "Clientele - Other"
                  ],
                  "legendgroup": "",
                  "name": "",
                  "showlegend": true,
                  "type": "pie",
                  "values": [
                    10308,
                    9293,
                    14479
                  ]
                }
              ],
              "layout": {
                "legend": {
                  "tracegroupgap": 0
                },
                "piecolorway": [
                  "rgb(103,0,31)",
                  "rgb(178,24,43)",
                  "rgb(214,96,77)",
                  "rgb(244,165,130)",
                  "rgb(253,219,199)",
                  "rgb(247,247,247)",
                  "rgb(209,229,240)",
                  "rgb(146,197,222)",
                  "rgb(67,147,195)",
                  "rgb(33,102,172)",
                  "rgb(5,48,97)"
                ],
                "template": {
                  "data": {
                    "bar": [
                      {
                        "error_x": {
                          "color": "#2a3f5f"
                        },
                        "error_y": {
                          "color": "#2a3f5f"
                        },
                        "marker": {
                          "line": {
                            "color": "#E5ECF6",
                            "width": 0.5
                          },
                          "pattern": {
                            "fillmode": "overlay",
                            "size": 10,
                            "solidity": 0.2
                          }
                        },
                        "type": "bar"
                      }
                    ],
                    "barpolar": [
                      {
                        "marker": {
                          "line": {
                            "color": "#E5ECF6",
                            "width": 0.5
                          },
                          "pattern": {
                            "fillmode": "overlay",
                            "size": 10,
                            "solidity": 0.2
                          }
                        },
                        "type": "barpolar"
                      }
                    ],
                    "carpet": [
                      {
                        "aaxis": {
                          "endlinecolor": "#2a3f5f",
                          "gridcolor": "white",
                          "linecolor": "white",
                          "minorgridcolor": "white",
                          "startlinecolor": "#2a3f5f"
                        },
                        "baxis": {
                          "endlinecolor": "#2a3f5f",
                          "gridcolor": "white",
                          "linecolor": "white",
                          "minorgridcolor": "white",
                          "startlinecolor": "#2a3f5f"
                        },
                        "type": "carpet"
                      }
                    ],
                    "choropleth": [
                      {
                        "colorbar": {
                          "outlinewidth": 0,
                          "ticks": ""
                        },
                        "type": "choropleth"
                      }
                    ],
                    "contour": [
                      {
                        "colorbar": {
                          "outlinewidth": 0,
                          "ticks": ""
                        },
                        "colorscale": [
                          [
                            0,
                            "#0d0887"
                          ],
                          [
                            0.1111111111111111,
                            "#46039f"
                          ],
                          [
                            0.2222222222222222,
                            "#7201a8"
                          ],
                          [
                            0.3333333333333333,
                            "#9c179e"
                          ],
                          [
                            0.4444444444444444,
                            "#bd3786"
                          ],
                          [
                            0.5555555555555556,
                            "#d8576b"
                          ],
                          [
                            0.6666666666666666,
                            "#ed7953"
                          ],
                          [
                            0.7777777777777778,
                            "#fb9f3a"
                          ],
                          [
                            0.8888888888888888,
                            "#fdca26"
                          ],
                          [
                            1,
                            "#f0f921"
                          ]
                        ],
                        "type": "contour"
                      }
                    ],
                    "contourcarpet": [
                      {
                        "colorbar": {
                          "outlinewidth": 0,
                          "ticks": ""
                        },
                        "type": "contourcarpet"
                      }
                    ],
                    "heatmap": [
                      {
                        "colorbar": {
                          "outlinewidth": 0,
                          "ticks": ""
                        },
                        "colorscale": [
                          [
                            0,
                            "#0d0887"
                          ],
                          [
                            0.1111111111111111,
                            "#46039f"
                          ],
                          [
                            0.2222222222222222,
                            "#7201a8"
                          ],
                          [
                            0.3333333333333333,
                            "#9c179e"
                          ],
                          [
                            0.4444444444444444,
                            "#bd3786"
                          ],
                          [
                            0.5555555555555556,
                            "#d8576b"
                          ],
                          [
                            0.6666666666666666,
                            "#ed7953"
                          ],
                          [
                            0.7777777777777778,
                            "#fb9f3a"
                          ],
                          [
                            0.8888888888888888,
                            "#fdca26"
                          ],
                          [
                            1,
                            "#f0f921"
                          ]
                        ],
                        "type": "heatmap"
                      }
                    ],
                    "heatmapgl": [
                      {
                        "colorbar": {
                          "outlinewidth": 0,
                          "ticks": ""
                        },
                        "colorscale": [
                          [
                            0,
                            "#0d0887"
                          ],
                          [
                            0.1111111111111111,
                            "#46039f"
                          ],
                          [
                            0.2222222222222222,
                            "#7201a8"
                          ],
                          [
                            0.3333333333333333,
                            "#9c179e"
                          ],
                          [
                            0.4444444444444444,
                            "#bd3786"
                          ],
                          [
                            0.5555555555555556,
                            "#d8576b"
                          ],
                          [
                            0.6666666666666666,
                            "#ed7953"
                          ],
                          [
                            0.7777777777777778,
                            "#fb9f3a"
                          ],
                          [
                            0.8888888888888888,
                            "#fdca26"
                          ],
                          [
                            1,
                            "#f0f921"
                          ]
                        ],
                        "type": "heatmapgl"
                      }
                    ],
                    "histogram": [
                      {
                        "marker": {
                          "pattern": {
                            "fillmode": "overlay",
                            "size": 10,
                            "solidity": 0.2
                          }
                        },
                        "type": "histogram"
                      }
                    ],
                    "histogram2d": [
                      {
                        "colorbar": {
                          "outlinewidth": 0,
                          "ticks": ""
                        },
                        "colorscale": [
                          [
                            0,
                            "#0d0887"
                          ],
                          [
                            0.1111111111111111,
                            "#46039f"
                          ],
                          [
                            0.2222222222222222,
                            "#7201a8"
                          ],
                          [
                            0.3333333333333333,
                            "#9c179e"
                          ],
                          [
                            0.4444444444444444,
                            "#bd3786"
                          ],
                          [
                            0.5555555555555556,
                            "#d8576b"
                          ],
                          [
                            0.6666666666666666,
                            "#ed7953"
                          ],
                          [
                            0.7777777777777778,
                            "#fb9f3a"
                          ],
                          [
                            0.8888888888888888,
                            "#fdca26"
                          ],
                          [
                            1,
                            "#f0f921"
                          ]
                        ],
                        "type": "histogram2d"
                      }
                    ],
                    "histogram2dcontour": [
                      {
                        "colorbar": {
                          "outlinewidth": 0,
                          "ticks": ""
                        },
                        "colorscale": [
                          [
                            0,
                            "#0d0887"
                          ],
                          [
                            0.1111111111111111,
                            "#46039f"
                          ],
                          [
                            0.2222222222222222,
                            "#7201a8"
                          ],
                          [
                            0.3333333333333333,
                            "#9c179e"
                          ],
                          [
                            0.4444444444444444,
                            "#bd3786"
                          ],
                          [
                            0.5555555555555556,
                            "#d8576b"
                          ],
                          [
                            0.6666666666666666,
                            "#ed7953"
                          ],
                          [
                            0.7777777777777778,
                            "#fb9f3a"
                          ],
                          [
                            0.8888888888888888,
                            "#fdca26"
                          ],
                          [
                            1,
                            "#f0f921"
                          ]
                        ],
                        "type": "histogram2dcontour"
                      }
                    ],
                    "mesh3d": [
                      {
                        "colorbar": {
                          "outlinewidth": 0,
                          "ticks": ""
                        },
                        "type": "mesh3d"
                      }
                    ],
                    "parcoords": [
                      {
                        "line": {
                          "colorbar": {
                            "outlinewidth": 0,
                            "ticks": ""
                          }
                        },
                        "type": "parcoords"
                      }
                    ],
                    "pie": [
                      {
                        "automargin": true,
                        "type": "pie"
                      }
                    ],
                    "scatter": [
                      {
                        "marker": {
                          "colorbar": {
                            "outlinewidth": 0,
                            "ticks": ""
                          }
                        },
                        "type": "scatter"
                      }
                    ],
                    "scatter3d": [
                      {
                        "line": {
                          "colorbar": {
                            "outlinewidth": 0,
                            "ticks": ""
                          }
                        },
                        "marker": {
                          "colorbar": {
                            "outlinewidth": 0,
                            "ticks": ""
                          }
                        },
                        "type": "scatter3d"
                      }
                    ],
                    "scattercarpet": [
                      {
                        "marker": {
                          "colorbar": {
                            "outlinewidth": 0,
                            "ticks": ""
                          }
                        },
                        "type": "scattercarpet"
                      }
                    ],
                    "scattergeo": [
                      {
                        "marker": {
                          "colorbar": {
                            "outlinewidth": 0,
                            "ticks": ""
                          }
                        },
                        "type": "scattergeo"
                      }
                    ],
                    "scattergl": [
                      {
                        "marker": {
                          "colorbar": {
                            "outlinewidth": 0,
                            "ticks": ""
                          }
                        },
                        "type": "scattergl"
                      }
                    ],
                    "scattermapbox": [
                      {
                        "marker": {
                          "colorbar": {
                            "outlinewidth": 0,
                            "ticks": ""
                          }
                        },
                        "type": "scattermapbox"
                      }
                    ],
                    "scatterpolar": [
                      {
                        "marker": {
                          "colorbar": {
                            "outlinewidth": 0,
                            "ticks": ""
                          }
                        },
                        "type": "scatterpolar"
                      }
                    ],
                    "scatterpolargl": [
                      {
                        "marker": {
                          "colorbar": {
                            "outlinewidth": 0,
                            "ticks": ""
                          }
                        },
                        "type": "scatterpolargl"
                      }
                    ],
                    "scatterternary": [
                      {
                        "marker": {
                          "colorbar": {
                            "outlinewidth": 0,
                            "ticks": ""
                          }
                        },
                        "type": "scatterternary"
                      }
                    ],
                    "surface": [
                      {
                        "colorbar": {
                          "outlinewidth": 0,
                          "ticks": ""
                        },
                        "colorscale": [
                          [
                            0,
                            "#0d0887"
                          ],
                          [
                            0.1111111111111111,
                            "#46039f"
                          ],
                          [
                            0.2222222222222222,
                            "#7201a8"
                          ],
                          [
                            0.3333333333333333,
                            "#9c179e"
                          ],
                          [
                            0.4444444444444444,
                            "#bd3786"
                          ],
                          [
                            0.5555555555555556,
                            "#d8576b"
                          ],
                          [
                            0.6666666666666666,
                            "#ed7953"
                          ],
                          [
                            0.7777777777777778,
                            "#fb9f3a"
                          ],
                          [
                            0.8888888888888888,
                            "#fdca26"
                          ],
                          [
                            1,
                            "#f0f921"
                          ]
                        ],
                        "type": "surface"
                      }
                    ],
                    "table": [
                      {
                        "cells": {
                          "fill": {
                            "color": "#EBF0F8"
                          },
                          "line": {
                            "color": "white"
                          }
                        },
                        "header": {
                          "fill": {
                            "color": "#C8D4E3"
                          },
                          "line": {
                            "color": "white"
                          }
                        },
                        "type": "table"
                      }
                    ]
                  },
                  "layout": {
                    "annotationdefaults": {
                      "arrowcolor": "#2a3f5f",
                      "arrowhead": 0,
                      "arrowwidth": 1
                    },
                    "autotypenumbers": "strict",
                    "coloraxis": {
                      "colorbar": {
                        "outlinewidth": 0,
                        "ticks": ""
                      }
                    },
                    "colorscale": {
                      "diverging": [
                        [
                          0,
                          "#8e0152"
                        ],
                        [
                          0.1,
                          "#c51b7d"
                        ],
                        [
                          0.2,
                          "#de77ae"
                        ],
                        [
                          0.3,
                          "#f1b6da"
                        ],
                        [
                          0.4,
                          "#fde0ef"
                        ],
                        [
                          0.5,
                          "#f7f7f7"
                        ],
                        [
                          0.6,
                          "#e6f5d0"
                        ],
                        [
                          0.7,
                          "#b8e186"
                        ],
                        [
                          0.8,
                          "#7fbc41"
                        ],
                        [
                          0.9,
                          "#4d9221"
                        ],
                        [
                          1,
                          "#276419"
                        ]
                      ],
                      "sequential": [
                        [
                          0,
                          "#0d0887"
                        ],
                        [
                          0.1111111111111111,
                          "#46039f"
                        ],
                        [
                          0.2222222222222222,
                          "#7201a8"
                        ],
                        [
                          0.3333333333333333,
                          "#9c179e"
                        ],
                        [
                          0.4444444444444444,
                          "#bd3786"
                        ],
                        [
                          0.5555555555555556,
                          "#d8576b"
                        ],
                        [
                          0.6666666666666666,
                          "#ed7953"
                        ],
                        [
                          0.7777777777777778,
                          "#fb9f3a"
                        ],
                        [
                          0.8888888888888888,
                          "#fdca26"
                        ],
                        [
                          1,
                          "#f0f921"
                        ]
                      ],
                      "sequentialminus": [
                        [
                          0,
                          "#0d0887"
                        ],
                        [
                          0.1111111111111111,
                          "#46039f"
                        ],
                        [
                          0.2222222222222222,
                          "#7201a8"
                        ],
                        [
                          0.3333333333333333,
                          "#9c179e"
                        ],
                        [
                          0.4444444444444444,
                          "#bd3786"
                        ],
                        [
                          0.5555555555555556,
                          "#d8576b"
                        ],
                        [
                          0.6666666666666666,
                          "#ed7953"
                        ],
                        [
                          0.7777777777777778,
                          "#fb9f3a"
                        ],
                        [
                          0.8888888888888888,
                          "#fdca26"
                        ],
                        [
                          1,
                          "#f0f921"
                        ]
                      ]
                    },
                    "colorway": [
                      "#636efa",
                      "#EF553B",
                      "#00cc96",
                      "#ab63fa",
                      "#FFA15A",
                      "#19d3f3",
                      "#FF6692",
                      "#B6E880",
                      "#FF97FF",
                      "#FECB52"
                    ],
                    "font": {
                      "color": "#2a3f5f"
                    },
                    "geo": {
                      "bgcolor": "white",
                      "lakecolor": "white",
                      "landcolor": "#E5ECF6",
                      "showlakes": true,
                      "showland": true,
                      "subunitcolor": "white"
                    },
                    "hoverlabel": {
                      "align": "left"
                    },
                    "hovermode": "closest",
                    "mapbox": {
                      "style": "light"
                    },
                    "paper_bgcolor": "white",
                    "plot_bgcolor": "#E5ECF6",
                    "polar": {
                      "angularaxis": {
                        "gridcolor": "white",
                        "linecolor": "white",
                        "ticks": ""
                      },
                      "bgcolor": "#E5ECF6",
                      "radialaxis": {
                        "gridcolor": "white",
                        "linecolor": "white",
                        "ticks": ""
                      }
                    },
                    "scene": {
                      "xaxis": {
                        "backgroundcolor": "#E5ECF6",
                        "gridcolor": "white",
                        "gridwidth": 2,
                        "linecolor": "white",
                        "showbackground": true,
                        "ticks": "",
                        "zerolinecolor": "white"
                      },
                      "yaxis": {
                        "backgroundcolor": "#E5ECF6",
                        "gridcolor": "white",
                        "gridwidth": 2,
                        "linecolor": "white",
                        "showbackground": true,
                        "ticks": "",
                        "zerolinecolor": "white"
                      },
                      "zaxis": {
                        "backgroundcolor": "#E5ECF6",
                        "gridcolor": "white",
                        "gridwidth": 2,
                        "linecolor": "white",
                        "showbackground": true,
                        "ticks": "",
                        "zerolinecolor": "white"
                      }
                    },
                    "shapedefaults": {
                      "line": {
                        "color": "#2a3f5f"
                      }
                    },
                    "ternary": {
                      "aaxis": {
                        "gridcolor": "white",
                        "linecolor": "white",
                        "ticks": ""
                      },
                      "baxis": {
                        "gridcolor": "white",
                        "linecolor": "white",
                        "ticks": ""
                      },
                      "bgcolor": "#E5ECF6",
                      "caxis": {
                        "gridcolor": "white",
                        "linecolor": "white",
                        "ticks": ""
                      }
                    },
                    "title": {
                      "x": 0.05
                    },
                    "xaxis": {
                      "automargin": true,
                      "gridcolor": "white",
                      "linecolor": "white",
                      "ticks": "",
                      "title": {
                        "standoff": 15
                      },
                      "zerolinecolor": "white",
                      "zerolinewidth": 2
                    },
                    "yaxis": {
                      "automargin": true,
                      "gridcolor": "white",
                      "linecolor": "white",
                      "ticks": "",
                      "title": {
                        "standoff": 15
                      },
                      "zerolinecolor": "white",
                      "zerolinewidth": 2
                    }
                  }
                },
                "title": {
                  "text": "Percentage of units by client type between 1958 and 2020."
                }
              }
            }
          },
          "metadata": {}
        }
      ],
      "execution_count": 11,
      "metadata": {
        "collapsed": true,
        "jupyter": {
          "source_hidden": false,
          "outputs_hidden": false
        },
        "nteract": {
          "transient": {
            "deleting": false
          }
        },
        "execution": {
          "iopub.status.busy": "2021-09-22T21:34:11.611Z",
          "iopub.execute_input": "2021-09-22T21:34:11.633Z",
          "iopub.status.idle": "2021-09-22T21:34:11.725Z",
          "shell.execute_reply": "2021-09-22T21:34:11.765Z"
        }
      }
    },
    {
      "cell_type": "markdown",
      "source": [
        "## Plotting the non market data points."
      ],
      "metadata": {
        "nteract": {
          "transient": {
            "deleting": false
          }
        }
      }
    },
    {
      "cell_type": "code",
      "source": [
        "import json\n",
        "# Turn json/str to a dictionary to extract coordiantes\n",
        "# Note the coordinates are written as [long, lat]\n",
        "geometry_series = non_market_df['Geom'].apply(lambda x: json.loads(x))\n",
        "non_market_df['longitude'] = geometry_series.apply(lambda x: x['coordinates'][0])\n",
        "non_market_df['latitude'] = geometry_series.apply(lambda x: x['coordinates'][1])\n",
        "\n",
        "# Add a column with the total number of units for each project\n",
        "units_per_housing = non_market_df[list(design_columns.keys())].sum(axis=1)\n",
        "non_market_df['Total Units'] = units_per_housing\n",
        "\n",
        "non_market_df.head(5)"
      ],
      "outputs": [
        {
          "output_type": "execute_result",
          "execution_count": 51,
          "data": {
            "text/plain": "   Index Number                    Name          Address Project Status  \\\n0             3              Inti Co-op  1675 Cypress St      Completed   \n1            12           Habitat Villa   3859 W 2nd Ave      Completed   \n2            15    Coastview Apartments   1650 E 3rd Ave      Completed   \n3            16  Moreland Kennedy House   2495 W 3rd Ave      Completed   \n4            17            Antkiw Court   1534 E 4th Ave      Completed   \n\n   Occupancy Year  Design - Accessible 1BR  Design - Accessible 2BR  \\\n0          1986.0                      2.0                      2.0   \n1          1980.0                      0.0                      0.0   \n2          1980.0                      1.0                      0.0   \n3          1974.0                      0.0                      0.0   \n4          1988.0                      0.0                      0.0   \n\n   Design - Accessible 3BR  Design - Accessible 4BR  \\\n0                      0.0                      0.0   \n1                      4.0                      0.0   \n2                      0.0                      0.0   \n3                      0.0                      0.0   \n4                      0.0                      0.0   \n\n   Design - Accessible Studio  ...  Clientele- Families  Clientele - Seniors  \\\n0                         0.0  ...                   14                    0   \n1                         0.0  ...                   37                    0   \n2                         0.0  ...                    0                    0   \n3                         0.0  ...                    0                   30   \n4                         0.0  ...                   21                    0   \n\n   Clientele - Other                               Operator  \\\n0                  6         Inti Co-op Housing Association   \n1                  0    Metro Vancouver Housing Corporation   \n2                 33               Coast Foundation Society   \n3                  1  Brightside Community Homes Foundation   \n4                  0      Entre Nous Femmes Housing Society   \n\n           Local Area                                                URL  \\\n0           Kitsilano  https://app.vancouver.ca/NonMarketHousing_NET/...   \n1     West Point Grey  https://app.vancouver.ca/NonMarketHousing_NET/...   \n2  Grandview-Woodland  https://app.vancouver.ca/NonMarketHousing_NET/...   \n3           Kitsilano  https://app.vancouver.ca/NonMarketHousing_NET/...   \n4  Grandview-Woodland  https://app.vancouver.ca/NonMarketHousing_NET/...   \n\n                                                Geom   longitude   latitude  \\\n0  {\"type\": \"Point\", \"coordinates\": [-123.1482191... -123.148219  49.270945   \n1  {\"type\": \"Point\", \"coordinates\": [-123.1903871... -123.190387  49.270456   \n2  {\"type\": \"Point\", \"coordinates\": [-123.0705277... -123.070528  49.267559   \n3  {\"type\": \"Point\", \"coordinates\": [-123.1618756... -123.161876  49.269399   \n4  {\"type\": \"Point\", \"coordinates\": [-123.0728805... -123.072881  49.266645   \n\n   Total Units  \n0         20.0  \n1         37.0  \n2         33.0  \n3         31.0  \n4         21.0  \n\n[5 rows x 31 columns]",
            "text/html": "<div>\n<style scoped>\n    .dataframe tbody tr th:only-of-type {\n        vertical-align: middle;\n    }\n\n    .dataframe tbody tr th {\n        vertical-align: top;\n    }\n\n    .dataframe thead th {\n        text-align: right;\n    }\n</style>\n<table border=\"1\" class=\"dataframe\">\n  <thead>\n    <tr style=\"text-align: right;\">\n      <th></th>\n      <th>Index Number</th>\n      <th>Name</th>\n      <th>Address</th>\n      <th>Project Status</th>\n      <th>Occupancy Year</th>\n      <th>Design - Accessible 1BR</th>\n      <th>Design - Accessible 2BR</th>\n      <th>Design - Accessible 3BR</th>\n      <th>Design - Accessible 4BR</th>\n      <th>Design - Accessible Studio</th>\n      <th>...</th>\n      <th>Clientele- Families</th>\n      <th>Clientele - Seniors</th>\n      <th>Clientele - Other</th>\n      <th>Operator</th>\n      <th>Local Area</th>\n      <th>URL</th>\n      <th>Geom</th>\n      <th>longitude</th>\n      <th>latitude</th>\n      <th>Total Units</th>\n    </tr>\n  </thead>\n  <tbody>\n    <tr>\n      <th>0</th>\n      <td>3</td>\n      <td>Inti Co-op</td>\n      <td>1675 Cypress St</td>\n      <td>Completed</td>\n      <td>1986.0</td>\n      <td>2.0</td>\n      <td>2.0</td>\n      <td>0.0</td>\n      <td>0.0</td>\n      <td>0.0</td>\n      <td>...</td>\n      <td>14</td>\n      <td>0</td>\n      <td>6</td>\n      <td>Inti Co-op Housing Association</td>\n      <td>Kitsilano</td>\n      <td>https://app.vancouver.ca/NonMarketHousing_NET/...</td>\n      <td>{\"type\": \"Point\", \"coordinates\": [-123.1482191...</td>\n      <td>-123.148219</td>\n      <td>49.270945</td>\n      <td>20.0</td>\n    </tr>\n    <tr>\n      <th>1</th>\n      <td>12</td>\n      <td>Habitat Villa</td>\n      <td>3859 W 2nd Ave</td>\n      <td>Completed</td>\n      <td>1980.0</td>\n      <td>0.0</td>\n      <td>0.0</td>\n      <td>4.0</td>\n      <td>0.0</td>\n      <td>0.0</td>\n      <td>...</td>\n      <td>37</td>\n      <td>0</td>\n      <td>0</td>\n      <td>Metro Vancouver Housing Corporation</td>\n      <td>West Point Grey</td>\n      <td>https://app.vancouver.ca/NonMarketHousing_NET/...</td>\n      <td>{\"type\": \"Point\", \"coordinates\": [-123.1903871...</td>\n      <td>-123.190387</td>\n      <td>49.270456</td>\n      <td>37.0</td>\n    </tr>\n    <tr>\n      <th>2</th>\n      <td>15</td>\n      <td>Coastview Apartments</td>\n      <td>1650 E 3rd Ave</td>\n      <td>Completed</td>\n      <td>1980.0</td>\n      <td>1.0</td>\n      <td>0.0</td>\n      <td>0.0</td>\n      <td>0.0</td>\n      <td>0.0</td>\n      <td>...</td>\n      <td>0</td>\n      <td>0</td>\n      <td>33</td>\n      <td>Coast Foundation Society</td>\n      <td>Grandview-Woodland</td>\n      <td>https://app.vancouver.ca/NonMarketHousing_NET/...</td>\n      <td>{\"type\": \"Point\", \"coordinates\": [-123.0705277...</td>\n      <td>-123.070528</td>\n      <td>49.267559</td>\n      <td>33.0</td>\n    </tr>\n    <tr>\n      <th>3</th>\n      <td>16</td>\n      <td>Moreland Kennedy House</td>\n      <td>2495 W 3rd Ave</td>\n      <td>Completed</td>\n      <td>1974.0</td>\n      <td>0.0</td>\n      <td>0.0</td>\n      <td>0.0</td>\n      <td>0.0</td>\n      <td>0.0</td>\n      <td>...</td>\n      <td>0</td>\n      <td>30</td>\n      <td>1</td>\n      <td>Brightside Community Homes Foundation</td>\n      <td>Kitsilano</td>\n      <td>https://app.vancouver.ca/NonMarketHousing_NET/...</td>\n      <td>{\"type\": \"Point\", \"coordinates\": [-123.1618756...</td>\n      <td>-123.161876</td>\n      <td>49.269399</td>\n      <td>31.0</td>\n    </tr>\n    <tr>\n      <th>4</th>\n      <td>17</td>\n      <td>Antkiw Court</td>\n      <td>1534 E 4th Ave</td>\n      <td>Completed</td>\n      <td>1988.0</td>\n      <td>0.0</td>\n      <td>0.0</td>\n      <td>0.0</td>\n      <td>0.0</td>\n      <td>0.0</td>\n      <td>...</td>\n      <td>21</td>\n      <td>0</td>\n      <td>0</td>\n      <td>Entre Nous Femmes Housing Society</td>\n      <td>Grandview-Woodland</td>\n      <td>https://app.vancouver.ca/NonMarketHousing_NET/...</td>\n      <td>{\"type\": \"Point\", \"coordinates\": [-123.0728805...</td>\n      <td>-123.072881</td>\n      <td>49.266645</td>\n      <td>21.0</td>\n    </tr>\n  </tbody>\n</table>\n<p>5 rows × 31 columns</p>\n</div>"
          },
          "metadata": {}
        }
      ],
      "execution_count": 51,
      "metadata": {
        "collapsed": true,
        "jupyter": {
          "source_hidden": false,
          "outputs_hidden": false
        },
        "nteract": {
          "transient": {
            "deleting": false
          }
        },
        "execution": {
          "iopub.status.busy": "2021-09-23T02:54:01.166Z",
          "iopub.execute_input": "2021-09-23T02:54:01.180Z",
          "iopub.status.idle": "2021-09-23T02:54:01.209Z",
          "shell.execute_reply": "2021-09-23T02:54:01.224Z"
        }
      }
    },
    {
      "cell_type": "code",
      "source": [
        "# TODO: Read the token form a text file. Easier\n",
        "px.set_mapbox_access_token(os.environ['MAPBOX_TOKEN'])\n",
        "fig = px.scatter_mapbox(non_market_df,\n",
        "              lat=\"latitude\" ,\n",
        "              lon=\"longitude\",\n",
        "              mapbox_style='carto-positron',\n",
        "              hover_name='Name',\n",
        "              hover_data=['Operator', 'Local Area'],\n",
        "              color='Project Status',\n",
        "              color_discrete_sequence=['#5b606d', '#689626', '#c78d00', '#a42726'],\n",
        "              size = 'Total Units',\n",
        "              zoom=10)\n",
        "fig.show()"
      ],
      "outputs": [
        {
          "output_type": "display_data",
          "data": {
            "application/vnd.plotly.v1+json": {
              "config": {
                "plotlyServerURL": "https://plot.ly"
              },
              "data": [
                {
                  "customdata": [
                    [
                      "Inti Co-op Housing Association",
                      "Kitsilano"
                    ],
                    [
                      "Metro Vancouver Housing Corporation",
                      "West Point Grey"
                    ],
                    [
                      "Coast Foundation Society",
                      "Grandview-Woodland"
                    ],
                    [
                      "Brightside Community Homes Foundation",
                      "Kitsilano"
                    ],
                    [
                      "Entre Nous Femmes Housing Society",
                      "Grandview-Woodland"
                    ],
                    [
                      "Northern Way Co-op Housing Association",
                      "Mount Pleasant"
                    ],
                    [
                      "Sunrise Co-op Housing Association",
                      "Grandview-Woodland"
                    ],
                    [
                      "Rising Star Co-op Housing Association",
                      "Grandview-Woodland"
                    ],
                    [
                      "BC Housing",
                      "Grandview-Woodland"
                    ],
                    [
                      "BC Housing",
                      "Mount Pleasant"
                    ],
                    [
                      "Brightside Community Homes Foundation",
                      "Victoria-Fraserview"
                    ],
                    [
                      "New Chelsea Society",
                      "Mount Pleasant"
                    ],
                    [
                      "BC Housing",
                      "Mount Pleasant"
                    ],
                    [
                      "Stan Stronge Noble House Co-op Housing Association",
                      "Fairview"
                    ],
                    [
                      "MPA Society",
                      "Fairview"
                    ],
                    [
                      "Vancouver Native Housing Society",
                      "Grandview-Woodland"
                    ],
                    [
                      "Lu'Ma Native Housing Society",
                      "Mount Pleasant"
                    ],
                    [
                      "China Creek Co-op Housing Association",
                      "Mount Pleasant"
                    ],
                    [
                      "Vancouver Native Housing Society",
                      "Grandview-Woodland"
                    ],
                    [
                      "Access Co-op Housing Association",
                      "Hastings-Sunrise"
                    ],
                    [
                      "Heritage Co-op Housing Association",
                      "Fairview"
                    ],
                    [
                      "Maple Creek Co-op Housing Association",
                      "Kitsilano"
                    ],
                    [
                      "Anavets Senior Citizens Housing Society",
                      "Mount Pleasant"
                    ],
                    [
                      "Lu'Ma Native Housing Society",
                      "Mount Pleasant"
                    ],
                    [
                      "View Court Co-op Housing Association",
                      "Mount Pleasant"
                    ],
                    [
                      "Vancouver Resource Society for the Physically Disabled",
                      "Kitsilano"
                    ],
                    [
                      "Brightside Community Homes Foundation",
                      "Kensington-Cedar Cottage"
                    ],
                    [
                      "Victoria Gardens Co-op Housing Assoc",
                      "Kensington-Cedar Cottage"
                    ],
                    [
                      "Brightside Community Homes Foundation",
                      "Kensington-Cedar Cottage"
                    ],
                    [
                      "Lakewood Terrace Co-op Housing Assoc",
                      "Kensington-Cedar Cottage"
                    ],
                    [
                      "Soroptimist Club of Vancouver",
                      "Fairview"
                    ],
                    [
                      "Yew Street Co-op Housing Association",
                      "Kitsilano"
                    ],
                    [
                      "Coast Foundation Society",
                      "Kensington-Cedar Cottage"
                    ],
                    [
                      "Societe d'Habitation La Verendrye",
                      "Fairview"
                    ],
                    [
                      "BC Housing",
                      "Kensington-Cedar Cottage"
                    ],
                    [
                      "Mennonite Senior Citizens' Society of B.C.",
                      "Victoria-Fraserview"
                    ],
                    [
                      "Crossroads Co-op Housing Association",
                      "Sunset"
                    ],
                    [
                      "Griffin's Walk Co-op Housing Association",
                      "Sunset"
                    ],
                    [
                      "BC Housing",
                      "Killarney"
                    ],
                    [
                      "Marine Court Co-op Housing Association",
                      "Marpole"
                    ],
                    [
                      "Entre Nous Femmes Housing Society",
                      "Grandview-Woodland"
                    ],
                    [
                      "Metro Vancouver Housing Corporation",
                      "Killarney"
                    ],
                    [
                      "South Vancouver Foundation",
                      "Oakridge"
                    ],
                    [
                      "City of Vancouver",
                      "Downtown"
                    ],
                    [
                      "Four Sisters Co-op Housing Association",
                      "Downtown"
                    ],
                    [
                      "St. Mary's Ukrainian Senior Citizens' Society",
                      "Fairview"
                    ],
                    [
                      "Kanata Co-op Housing Association",
                      "Killarney"
                    ],
                    [
                      "Matheson Heights Co-op Housing Association",
                      "Killarney"
                    ],
                    [
                      "Vancouver Native Housing Society",
                      "Grandview-Woodland"
                    ],
                    [
                      "Alexandra Housing Society",
                      "Hastings-Sunrise"
                    ],
                    [
                      "Kitsilano Terrace Co-op Housing Association",
                      "Kitsilano"
                    ],
                    [
                      "Broadview Co-op Housing Association",
                      "Kitsilano"
                    ],
                    [
                      "Vancouver Broadway Housing Society",
                      "Fairview"
                    ],
                    [
                      "Vancouver Chinatown Housing Society",
                      "Strathcona"
                    ],
                    [
                      "Salvation Army",
                      "Downtown"
                    ],
                    [
                      "City of Vancouver",
                      "Strathcona"
                    ],
                    [
                      "Kinross Creek Co-op Housing Association",
                      "Killarney"
                    ],
                    [
                      "Affordable Housing Societies",
                      "Victoria-Fraserview"
                    ],
                    [
                      "Vancouver Native Housing Society",
                      "Grandview-Woodland"
                    ],
                    [
                      "Vancouver Native Housing Society",
                      "Grandview-Woodland"
                    ],
                    [
                      "Entre Nous Femmes Housing Society",
                      "Grandview-Woodland"
                    ],
                    [
                      "Entre Nous Femmes Housing Society",
                      "Killarney"
                    ],
                    [
                      "Sitka Co-op Housing Association",
                      "Grandview-Woodland"
                    ],
                    [
                      "Haro Park Center Society",
                      "West End"
                    ],
                    [
                      "First United Church Social Housing Society",
                      "Strathcona"
                    ],
                    [
                      "Shon Yee Benevolent Association of Canada",
                      "Strathcona"
                    ],
                    [
                      "Societe d'Habitation La Verendrye",
                      "Fairview"
                    ],
                    [
                      "Vancouver Jewish Building Society",
                      "Downtown"
                    ],
                    [
                      "Eburne Landing Co-op Housing Association",
                      "Marpole"
                    ],
                    [
                      "Columbus Charities",
                      "Renfrew-Collingwood"
                    ],
                    [
                      "New Chelsea Society",
                      "Renfrew-Collingwood"
                    ],
                    [
                      "Lu'Ma Native Housing Society",
                      "Renfrew-Collingwood"
                    ],
                    [
                      "Calling Ministries",
                      "Arbutus-Ridge"
                    ],
                    [
                      "Dundee Court Co-op Housing Association",
                      "Renfrew-Collingwood"
                    ],
                    [
                      "Synala Co-op Housing Association",
                      "Renfrew-Collingwood"
                    ],
                    [
                      "Creekview Co-op Housing Association",
                      "Fairview"
                    ],
                    [
                      "Wits' End Co-op Housing Association",
                      "Marpole"
                    ],
                    [
                      "Canadian Hungarian Housing Society of BC",
                      "Marpole"
                    ],
                    [
                      "Cedar Mill Co-op Housing Association",
                      "Killarney"
                    ],
                    [
                      "Arlington Grove Co-op Housing Association",
                      "Killarney"
                    ],
                    [
                      "Metro Vancouver Housing Corporation",
                      "Renfrew-Collingwood"
                    ],
                    [
                      "Metro Vancouver Housing Corporation",
                      "Killarney"
                    ],
                    [
                      "Tidal Flats Co-op Housing Association",
                      "Grandview-Woodland"
                    ],
                    [
                      "Vancouver East Lion's Housing Foundation",
                      "Grandview-Woodland"
                    ],
                    [
                      "Pacific Heights Co-op Housing Association",
                      "West End"
                    ],
                    [
                      "Chinese Freemasons of Canada",
                      "Downtown"
                    ],
                    [
                      "Christ Church of China",
                      "Strathcona"
                    ],
                    [
                      "Rose Garden Co-op Housing Association",
                      "Strathcona"
                    ],
                    [
                      "Vancouver Native Housing Society",
                      "Grandview-Woodland"
                    ],
                    [
                      "Cityview Co-op Housing Association",
                      "Grandview-Woodland"
                    ],
                    [
                      "WISHS Co-op Housing Association",
                      "Kitsilano"
                    ],
                    [
                      "Lookout Emergency Aid Society",
                      "Strathcona"
                    ],
                    [
                      "Chinese Freemason's Housing Society of B.C.",
                      "Strathcona"
                    ],
                    [
                      "Alberni Co-op Housing Association",
                      "Renfrew-Collingwood"
                    ],
                    [
                      "Grace MacInnis Co-op Housing Association",
                      "Grandview-Woodland"
                    ],
                    [
                      "Baptist Housing Society of B.C.",
                      "Grandview-Woodland"
                    ],
                    [
                      "Metro Vancouver Housing Corporation",
                      "Grandview-Woodland"
                    ],
                    [
                      "Metro Vancouver Housing Corporation",
                      "Fairview"
                    ],
                    [
                      "La Petite Maison Co-op Housing Association",
                      "Killarney"
                    ],
                    [
                      "S.U.C.C.E.S.S",
                      "Strathcona"
                    ],
                    [
                      "Brightside Community Homes Foundation",
                      "Hastings-Sunrise"
                    ],
                    [
                      "BC Housing",
                      "Grandview-Woodland"
                    ],
                    [
                      "Community Living Society",
                      "Riley Park"
                    ],
                    [
                      "Vancouver Kiwanis Housing Society",
                      "Marpole"
                    ],
                    [
                      "New Chelsea Society",
                      "Kensington-Cedar Cottage"
                    ],
                    [
                      "Brightside Community Homes Foundation",
                      "Downtown"
                    ],
                    [
                      "Mavis McMullen Housing Society",
                      "Grandview-Woodland"
                    ],
                    [
                      "Roundhouse Co-op Housing Association",
                      "Downtown"
                    ],
                    [
                      "Arbutus Co-op Housing Association",
                      "Kitsilano"
                    ],
                    [
                      "CBA Housing Society",
                      "Downtown"
                    ],
                    [
                      "Bridge Housing Society for Women",
                      "Downtown"
                    ],
                    [
                      "Affordable Housing Societies",
                      "Fairview"
                    ],
                    [
                      "Brightside Community Homes Foundation",
                      "Renfrew-Collingwood"
                    ],
                    [
                      "Red Door Housing Society",
                      "Downtown"
                    ],
                    [
                      "Coast Foundation Society",
                      "Kensington-Cedar Cottage"
                    ],
                    [
                      "Neighbourhood Housing Society",
                      "Strathcona"
                    ],
                    [
                      "New Chelsea Society",
                      "Sunset"
                    ],
                    [
                      "Sanford Housing Society",
                      "Mount Pleasant"
                    ],
                    [
                      "Vancouver Resource Society for the Physically Disabled",
                      "South Cambie"
                    ],
                    [
                      "PHS Community Services Society",
                      "Downtown"
                    ],
                    [
                      "PHS Community Services Society",
                      "Downtown"
                    ],
                    [
                      "The Bloom Group",
                      "Strathcona"
                    ],
                    [
                      "Affordable Housing Societies",
                      "Renfrew-Collingwood"
                    ],
                    [
                      "Mole Hill Community Housing Society",
                      "West End"
                    ],
                    [
                      "Lookout Emergency Aid Society",
                      "Mount Pleasant"
                    ],
                    [
                      "Vancouver East Co-op Housing Association",
                      "Grandview-Woodland"
                    ],
                    [
                      "Vancouver East Co-op Housing Association",
                      "Grandview-Woodland"
                    ],
                    [
                      "Vancouver East Co-op Housing Association",
                      "Grandview-Woodland"
                    ],
                    [
                      "Affordable Housing Societies",
                      "Strathcona"
                    ],
                    [
                      "Affordable Housing Societies",
                      "Strathcona"
                    ],
                    [
                      "Juniper Co-op Housing Association",
                      "Kitsilano"
                    ],
                    [
                      "Mole Hill Community Housing Society",
                      "West End"
                    ],
                    [
                      "Mole Hill Community Housing Society",
                      "West End"
                    ],
                    [
                      "Mole Hill Community Housing Society",
                      "West End"
                    ],
                    [
                      "Mole Hill Community Housing Society",
                      "West End"
                    ],
                    [
                      "Mole Hill Community Housing Society",
                      "West End"
                    ],
                    [
                      "Mole Hill Community Housing Society",
                      "West End"
                    ],
                    [
                      "Mole Hill Community Housing Society",
                      "West End"
                    ],
                    [
                      "Mole Hill Community Housing Society",
                      "West End"
                    ],
                    [
                      "Four Sisters Co-op Housing Association",
                      "Downtown"
                    ],
                    [
                      "Sanford Housing Society",
                      "Strathcona"
                    ],
                    [
                      "Twin Rainbows Co-op Housing Association",
                      "Fairview"
                    ],
                    [
                      "False Creek Co-op Housing Association",
                      "Fairview"
                    ],
                    [
                      "PHS Community Services Society",
                      "Downtown"
                    ],
                    [
                      "Lookout Emergency Aid Society",
                      "Strathcona"
                    ],
                    [
                      "Metro Vancouver Housing Corporation",
                      "Grandview-Woodland"
                    ],
                    [
                      "PHS Community Services Society",
                      "Downtown"
                    ],
                    [
                      "Coast Foundation Society",
                      "Kitsilano"
                    ],
                    [
                      "Performing Arts Lodge of Vancouver",
                      "Downtown"
                    ],
                    [
                      "Beulah Garden Homes Society",
                      "Hastings-Sunrise"
                    ],
                    [
                      "Salvation Army",
                      "Killarney"
                    ],
                    [
                      "Vancouver Coastal Health",
                      "Downtown"
                    ],
                    [
                      "BC Housing",
                      "Hastings-Sunrise"
                    ],
                    [
                      "Lookout Emergency Aid Society",
                      "Strathcona"
                    ],
                    [
                      "Coast Foundation Society",
                      "Dunbar-Southlands"
                    ],
                    [
                      "McLaren Housing Society of BC",
                      "Downtown"
                    ],
                    [
                      "Sanford Housing Society",
                      "Fairview"
                    ],
                    [
                      "Not Yet Selected",
                      "Downtown"
                    ],
                    [
                      "Vancouver Native Housing Society",
                      "Downtown"
                    ],
                    [
                      "S.U.C.C.E.S.S",
                      "Mount Pleasant"
                    ],
                    [
                      "PHS Community Services Society",
                      "Strathcona"
                    ],
                    [
                      "Coast Foundation Society",
                      "Downtown"
                    ],
                    [
                      "Atira Women’s Resource Society",
                      "Downtown"
                    ],
                    [
                      "More Than a Roof Housing Society",
                      "Downtown"
                    ],
                    [
                      "More Than a Roof Housing Society",
                      "Downtown"
                    ],
                    [
                      "Vancouver Native Housing Society",
                      "Mount Pleasant"
                    ],
                    [
                      "Atira Women’s Resource Society",
                      "Downtown"
                    ],
                    [
                      "Atira Women’s Resource Society",
                      "Downtown"
                    ],
                    [
                      "MPA Society",
                      "Strathcona"
                    ],
                    [
                      "PHS Community Services Society",
                      "Downtown"
                    ],
                    [
                      "Kitsilano Neighbourhood House",
                      "Kitsilano"
                    ],
                    [
                      "PHS Community Services Society",
                      "Downtown"
                    ],
                    [
                      "Coast Foundation Society",
                      "Grandview-Woodland"
                    ],
                    [
                      "Heritage Co-op Housing Association",
                      "Fairview"
                    ],
                    [
                      "The Bloom Group",
                      "Strathcona"
                    ],
                    [
                      "City of Vancouver",
                      "Killarney"
                    ],
                    [
                      "Providence Health Care Society",
                      "South Cambie"
                    ],
                    [
                      "Immigrant Services Society of BC (ISSofBC)",
                      "Kensington-Cedar Cottage"
                    ],
                    [
                      "Sanford Housing Society",
                      "Kensington-Cedar Cottage"
                    ],
                    [
                      "CentralPC Housing Society",
                      "West End"
                    ],
                    [
                      "Salsbury Community Society",
                      "Grandview-Woodland"
                    ],
                    [
                      "Vancouver Native Housing Society",
                      "West End"
                    ],
                    [
                      "Fair Haven Homes Society",
                      "Victoria-Fraserview"
                    ],
                    [
                      "Kinship Housing Co-operative",
                      "Killarney"
                    ],
                    [
                      "Community Builders Group",
                      "Kensington-Cedar Cottage"
                    ],
                    [
                      "Atira Women’s Resource Society",
                      "Strathcona"
                    ],
                    [
                      "Atira Women’s Resource Society",
                      "Renfrew-Collingwood"
                    ],
                    [
                      "PHS Community Services Society",
                      "Fairview"
                    ],
                    [
                      "MPA Society",
                      "Downtown"
                    ],
                    [
                      "Brightside Community Homes Foundation",
                      "Fairview"
                    ],
                    [
                      "Atira Women’s Resource Society",
                      "West End"
                    ],
                    [
                      "BC Housing",
                      "Strathcona"
                    ],
                    [
                      "More Than a Roof Housing Society",
                      "Riley Park"
                    ],
                    [
                      "Marina Co-op Housing Association",
                      "Fairview"
                    ],
                    [
                      "Sam Greer Place Co-op Housing Association",
                      "Kitsilano"
                    ],
                    [
                      "Laura Jamieson Co-op Housing Association",
                      "Grandview-Woodland"
                    ],
                    [
                      "Westerdale Co-op Housing Association",
                      "Grandview-Woodland"
                    ],
                    [
                      "BC Housing",
                      "Kitsilano"
                    ],
                    [
                      "Baptist Housing Society of B.C.",
                      "Grandview-Woodland"
                    ],
                    [
                      "Vancouver Native Housing Society",
                      "Grandview-Woodland"
                    ],
                    [
                      "Juniper Co-op Housing Association",
                      "Kitsilano"
                    ],
                    [
                      "Burlington Heights Co-op Housing Assoc",
                      "Kensington-Cedar Cottage"
                    ],
                    [
                      "Brightside Community Homes Foundation",
                      "Mount Pleasant"
                    ],
                    [
                      "Alexandra Housing Society",
                      "Hastings-Sunrise"
                    ],
                    [
                      "Quebec Manor Co-op Housing Association",
                      "Mount Pleasant"
                    ],
                    [
                      "Jasmine Place Co-op Housing Association",
                      "Mount Pleasant"
                    ],
                    [
                      "First United Church Social Housing Society",
                      "Mount Pleasant"
                    ],
                    [
                      "Affordable Housing Societies",
                      "Kensington-Cedar Cottage"
                    ],
                    [
                      "Metro Vancouver Housing Corporation",
                      "Fairview"
                    ],
                    [
                      "BC Housing",
                      "Riley Park"
                    ],
                    [
                      "Three Links Care Society",
                      "Renfrew-Collingwood"
                    ],
                    [
                      "Little Mountain Care & Housing Association",
                      "Riley Park"
                    ],
                    [
                      "Chishaun Housing Society",
                      "Oakridge"
                    ],
                    [
                      "Columbus Long Term Care Society",
                      "Marpole"
                    ],
                    [
                      "Lu'Ma Native Housing Society",
                      "Grandview-Woodland"
                    ],
                    [
                      "Vancouver East Lion's Housing Foundation",
                      "Grandview-Woodland"
                    ],
                    [
                      "Veterans' Memorial Housing Society",
                      "Strathcona"
                    ],
                    [
                      "Affordable Housing Societies",
                      "Downtown"
                    ],
                    [
                      "Amicae Co-op Housing Association",
                      "West End"
                    ],
                    [
                      "BC Housing",
                      "West End"
                    ],
                    [
                      "Pacific Park Place Co-op Housing Association",
                      "Killarney"
                    ],
                    [
                      "Uptown Kiwanis Club",
                      "Fairview"
                    ],
                    [
                      "Society for Christian Care of the Elderly",
                      "West End"
                    ],
                    [
                      "BC Housing",
                      "Strathcona"
                    ],
                    [
                      "More Than a Roof Housing Society",
                      "Grandview-Woodland"
                    ],
                    [
                      "Connaught Co-op Housing Association",
                      "Fairview"
                    ],
                    [
                      "Le Coeur Co-op Housing Association",
                      "Killarney"
                    ],
                    [
                      "Harry Lin Chin Foundation",
                      "Downtown"
                    ],
                    [
                      "Metro Vancouver Housing Corporation",
                      "Strathcona"
                    ],
                    [
                      "Melton Court Co-op Housing Association",
                      "Kitsilano"
                    ],
                    [
                      "De Cosmos Village Co-op Housing Association",
                      "Killarney"
                    ],
                    [
                      "Metro Vancouver Housing Corporation",
                      "Renfrew-Collingwood"
                    ],
                    [
                      "Vancouver Native Housing Society",
                      "Grandview-Woodland"
                    ],
                    [
                      "Emma G. Co-op Housing Association",
                      "Mount Pleasant"
                    ],
                    [
                      "Vancouver Chinese Kung Kao Foundation",
                      "Strathcona"
                    ],
                    [
                      "David Wetherow Co-op Housing Association",
                      "Marpole"
                    ],
                    [
                      "Metro Vancouver Housing Corporation",
                      "Renfrew-Collingwood"
                    ],
                    [
                      "Kaslo Gardens Co-op Housing Association",
                      "Renfrew-Collingwood"
                    ],
                    [
                      "Vancouver East Co-op Housing Association",
                      "Grandview-Woodland"
                    ],
                    [
                      "McLaren Housing Society of BC",
                      "Downtown"
                    ],
                    [
                      "Vancouver Native Housing Society",
                      "Grandview-Woodland"
                    ],
                    [
                      "City of Vancouver",
                      "West End"
                    ],
                    [
                      "Affordable Housing Societies",
                      "Downtown"
                    ],
                    [
                      "First United Church Social Housing Society",
                      "Strathcona"
                    ],
                    [
                      "BC Housing",
                      "Strathcona"
                    ],
                    [
                      "Ukrainian Senior Citizens Association",
                      "Killarney"
                    ],
                    [
                      "BC Housing",
                      "Sunset"
                    ],
                    [
                      "Wellington Society",
                      "Fairview"
                    ],
                    [
                      "Red Door Housing Society",
                      "Killarney"
                    ],
                    [
                      "Marpole Terrace Co-op Housing Association",
                      "Marpole"
                    ],
                    [
                      "Vancouver Kiwanis Senior Citizens Housing Society",
                      "Marpole"
                    ],
                    [
                      "BC Housing",
                      "Grandview-Woodland"
                    ],
                    [
                      "Coast Foundation Society",
                      "Grandview-Woodland"
                    ],
                    [
                      "Affordable Housing Societies",
                      "Hastings-Sunrise"
                    ],
                    [
                      "New Chelsea Society",
                      "Kensington-Cedar Cottage"
                    ],
                    [
                      "Grandview Co-op Housing Association",
                      "Grandview-Woodland"
                    ],
                    [
                      "Sojourn Co-op Housing Association",
                      "West End"
                    ],
                    [
                      "Kiwassa Housing Society",
                      "Hastings-Sunrise"
                    ],
                    [
                      "Vancouver Native Housing Society",
                      "Downtown"
                    ],
                    [
                      "Harbour Cove Co-op Housing Association",
                      "Fairview"
                    ],
                    [
                      "Affordable Housing Societies",
                      "Downtown"
                    ],
                    [
                      "Affordable Housing Societies",
                      "Downtown"
                    ],
                    [
                      "Shiloh Housing Society",
                      "Strathcona"
                    ],
                    [
                      "The Bloom Group",
                      "Strathcona"
                    ],
                    [
                      "New Chelsea Society",
                      "Grandview-Woodland"
                    ],
                    [
                      "East Enders Amherst Lions Society",
                      "Renfrew-Collingwood"
                    ],
                    [
                      "BC Housing",
                      "Renfrew-Collingwood"
                    ],
                    [
                      "Brightside Community Homes Foundation",
                      "Killarney"
                    ],
                    [
                      "Beulah Garden Homes Society",
                      "Hastings-Sunrise"
                    ],
                    [
                      "City of Vancouver",
                      "Downtown"
                    ],
                    [
                      "Robson Park Co-op Housing Association",
                      "Riley Park"
                    ],
                    [
                      "Vancouver East Co-op Housing Association",
                      "Grandview-Woodland"
                    ],
                    [
                      "New Chelsea Society",
                      "Kensington-Cedar Cottage"
                    ],
                    [
                      "Kiwassa Housing Society",
                      "Kitsilano"
                    ],
                    [
                      "Lookout Emergency Aid Society",
                      "Strathcona"
                    ],
                    [
                      "New Chelsea Society",
                      "Renfrew-Collingwood"
                    ],
                    [
                      "Affordable Housing Societies",
                      "Victoria-Fraserview"
                    ],
                    [
                      "Brightside Community Homes Foundation",
                      "Renfrew-Collingwood"
                    ],
                    [
                      "YWCA Vancouver",
                      "Kensington-Cedar Cottage"
                    ],
                    [
                      "Brightside Community Homes Foundation",
                      "Killarney"
                    ],
                    [
                      "The Bloom Group",
                      "Strathcona"
                    ],
                    [
                      "Coast Foundation Society",
                      "West End"
                    ],
                    [
                      "Coal Harbour Co-op Housing Association",
                      "Downtown"
                    ],
                    [
                      "PHS Community Services Society",
                      "Downtown"
                    ],
                    [
                      "Raincity Housing and Support Society",
                      "Strathcona"
                    ],
                    [
                      "Vancouver Native Housing Society",
                      "Downtown"
                    ],
                    [
                      "Affordable Housing Societies",
                      "Downtown"
                    ],
                    [
                      "Lu'Ma Native Housing Society",
                      "Grandview-Woodland"
                    ],
                    [
                      "The Core Artists Co-op",
                      "Strathcona"
                    ],
                    [
                      "St. Luke's Home Society",
                      "Strathcona"
                    ],
                    [
                      "Neighbourhood Housing Society",
                      "Downtown"
                    ],
                    [
                      "Kiwassa Housing Society",
                      "Grandview-Woodland"
                    ],
                    [
                      "Raincity Housing and Support Society",
                      "Downtown"
                    ],
                    [
                      "Vancouver Jewish Building Society",
                      "Oakridge"
                    ],
                    [
                      "Lore Krill Co-operative Housing Association",
                      "Downtown"
                    ],
                    [
                      "PHS Community Services Society",
                      "Downtown"
                    ],
                    [
                      "Lore Krill Co-operative Housing Association",
                      "Strathcona"
                    ],
                    [
                      "Brightside Community Homes Foundation",
                      "Fairview"
                    ],
                    [
                      "Union Gospel Mission",
                      "Strathcona"
                    ],
                    [
                      "More Than a Roof Housing Society",
                      "Downtown"
                    ],
                    [
                      "Affordable Housing Societies",
                      "Downtown"
                    ],
                    [
                      "City Gate Co-op Hsg Asoc.",
                      "Downtown"
                    ],
                    [
                      "Collingwood Village Co-op Housing Association",
                      "Renfrew-Collingwood"
                    ],
                    [
                      "Sanford Housing Society",
                      "Grandview-Woodland"
                    ],
                    [
                      "YWCA Vancouver",
                      "Strathcona"
                    ],
                    [
                      "Lu'Ma Native Housing Society",
                      "Mount Pleasant"
                    ],
                    [
                      "Affordable Housing Societies",
                      "Strathcona"
                    ],
                    [
                      "Mole Hill Community Housing Society",
                      "West End"
                    ],
                    [
                      "Mole Hill Community Housing Society",
                      "West End"
                    ],
                    [
                      "Mole Hill Community Housing Society",
                      "West End"
                    ],
                    [
                      "Mole Hill Community Housing Society",
                      "West End"
                    ],
                    [
                      "Mole Hill Community Housing Society",
                      "West End"
                    ],
                    [
                      "Mole Hill Community Housing Society",
                      "West End"
                    ],
                    [
                      "Mole Hill Community Housing Society",
                      "West End"
                    ],
                    [
                      "Mole Hill Community Housing Society",
                      "West End"
                    ],
                    [
                      "Mole Hill Community Housing Society",
                      "West End"
                    ],
                    [
                      "Mole Hill Community Housing Society",
                      "West End"
                    ],
                    [
                      "Mole Hill Community Housing Society",
                      "West End"
                    ],
                    [
                      "BC Housing",
                      "West End"
                    ],
                    [
                      "Mole Hill Community Housing Society",
                      "West End"
                    ],
                    [
                      "PHS Community Services Society",
                      "Strathcona"
                    ],
                    [
                      "Chilean Co-op Housing Association",
                      "Killarney"
                    ],
                    [
                      "Metro Vancouver Housing Corporation",
                      "Grandview-Woodland"
                    ],
                    [
                      "City of Vancouver",
                      "Downtown"
                    ],
                    [
                      "BC Housing",
                      "West End"
                    ],
                    [
                      "Access Co-op Housing Association",
                      "Hastings-Sunrise"
                    ],
                    [
                      "City of Vancouver",
                      "Downtown"
                    ],
                    [
                      "New Chelsea Society",
                      "Kensington-Cedar Cottage"
                    ],
                    [
                      "Icelandic Care Home Hofn Society",
                      "Victoria-Fraserview"
                    ],
                    [
                      "Affordable Housing Societies",
                      "Victoria-Fraserview"
                    ],
                    [
                      "MPA Society",
                      "Strathcona"
                    ],
                    [
                      "Lu'Ma Native Housing Society",
                      "Grandview-Woodland"
                    ],
                    [
                      "Lu'Ma Native Housing Society",
                      "Renfrew-Collingwood"
                    ],
                    [
                      "Not Yet Selected",
                      "Downtown"
                    ],
                    [
                      "Atira Women’s Resource Society",
                      "Strathcona"
                    ],
                    [
                      "Kettle Friendship Society",
                      "Downtown"
                    ],
                    [
                      "S.U.C.C.E.S.S",
                      "Mount Pleasant"
                    ],
                    [
                      "Co-operative Housing Federation of BC",
                      "Mount Pleasant"
                    ],
                    [
                      "Union Gospel Mission",
                      "Strathcona"
                    ],
                    [
                      "PHS Community Services Society",
                      "Downtown"
                    ],
                    [
                      "PHS Community Services Society",
                      "Strathcona"
                    ],
                    [
                      "PHS Community Services Society",
                      "Downtown"
                    ],
                    [
                      "Salvation Army",
                      "Strathcona"
                    ],
                    [
                      "Vancouver Native Housing Society",
                      "Strathcona"
                    ],
                    [
                      "Tikva Housing Society",
                      "Marpole"
                    ],
                    [
                      "Lookout Emergency Aid Society",
                      "Mount Pleasant"
                    ],
                    [
                      "Trafalgar Co-op Housing Association",
                      "Kitsilano"
                    ],
                    [
                      "Community Builders Group",
                      "Hastings-Sunrise"
                    ],
                    [
                      "Raincity Housing and Support Society",
                      "Mount Pleasant"
                    ],
                    [
                      "Community Builders Group",
                      "Downtown"
                    ],
                    [
                      "Kettle Friendship Society",
                      "Hastings-Sunrise"
                    ],
                    [
                      "FJL Housing Society",
                      "Downtown"
                    ],
                    [
                      "S.U.C.C.E.S.S",
                      "Downtown"
                    ],
                    [
                      "Vancouver Resource Society for the Physically Disabled",
                      "Mount Pleasant"
                    ],
                    [
                      "City of Vancouver",
                      "Downtown"
                    ],
                    [
                      "Fraserview Housing Co-operative",
                      "Killarney"
                    ],
                    [
                      "YWCA Vancouver",
                      "Killarney"
                    ],
                    [
                      "Atira Women’s Resource Society",
                      "Downtown"
                    ],
                    [
                      "Oakridge Lutheran Church Housing Society",
                      "South Cambie"
                    ],
                    [
                      "Community Land Trust Foundation of BC",
                      "Mount Pleasant"
                    ],
                    [
                      "City of Vancouver",
                      "Strathcona"
                    ],
                    [
                      "PHS Community Services Society",
                      "Strathcona"
                    ],
                    [
                      "Lu'Ma Native Housing Society",
                      "South Cambie"
                    ],
                    [
                      "Brightside Community Homes Foundation",
                      "Marpole"
                    ],
                    [
                      "Brightside Community Homes Foundation",
                      "Kitsilano"
                    ],
                    [
                      "Helen's Court Co-op Housing Association",
                      "Kitsilano"
                    ],
                    [
                      "Community Alternatives Co-op Housing Association",
                      "Kitsilano"
                    ],
                    [
                      "Paloma Co-op Housing Association",
                      "Grandview-Woodland"
                    ],
                    [
                      "Vancouver Native Housing Society",
                      "Grandview-Woodland"
                    ],
                    [
                      "Lu'Ma Native Housing Society",
                      "Mount Pleasant"
                    ],
                    [
                      "Brightside Community Homes Foundation",
                      "Grandview-Woodland"
                    ],
                    [
                      "Charleston Terrace Co-op Housing Association",
                      "Fairview"
                    ],
                    [
                      "Vancouver Native Housing Society",
                      "Mount Pleasant"
                    ],
                    [
                      "Chinese United Church",
                      "Strathcona"
                    ],
                    [
                      "Coast Foundation Society",
                      "Mount Pleasant"
                    ],
                    [
                      "BC Housing",
                      "Kitsilano"
                    ],
                    [
                      "Lutheran Manor Society of Vancouver",
                      "Mount Pleasant"
                    ],
                    [
                      "Brightside Community Homes Foundation",
                      "Kensington-Cedar Cottage"
                    ],
                    [
                      "Brightside Community Homes Foundation",
                      "Kensington-Cedar Cottage"
                    ],
                    [
                      "Domego Co-op Housing Association",
                      "Fairview"
                    ],
                    [
                      "Robson Park Co-op Housing Association",
                      "Mount Pleasant"
                    ],
                    [
                      "Metro Vancouver Housing Corporation",
                      "Kensington-Cedar Cottage"
                    ],
                    [
                      "HW Flesher Co-op Housing Association",
                      "Killarney"
                    ],
                    [
                      "Killarney Gardens Co-op Housing Association",
                      "Killarney"
                    ],
                    [
                      "Rishon Co-op Housing Association",
                      "Marpole"
                    ],
                    [
                      "Alexander Street Co-operative Housing Association",
                      "Strathcona"
                    ],
                    [
                      "Ashley Mar Co-op Housing Association",
                      "Marpole"
                    ],
                    [
                      "South Amherst Housing Society",
                      "Victoria-Fraserview"
                    ],
                    [
                      "Brightside Community Homes Foundation",
                      "Kitsilano"
                    ],
                    [
                      "St. Mary's Kerrisdale Housing Society",
                      "Arbutus-Ridge"
                    ],
                    [
                      "Brightside Community Homes Foundation",
                      "West End"
                    ],
                    [
                      "Broadway Pentecostal Benevolent Association",
                      "Hastings-Sunrise"
                    ],
                    [
                      "Affordable Housing Societies",
                      "West End"
                    ],
                    [
                      "Eight Oaks Co-op Housing Association",
                      "South Cambie"
                    ],
                    [
                      "Access Co-op Housing Association",
                      "Hastings-Sunrise"
                    ],
                    [
                      "BC Housing",
                      "Hastings-Sunrise"
                    ],
                    [
                      "Royal Arch Masonic Homes",
                      "Killarney"
                    ],
                    [
                      "Charles Square Co-op Housing Association",
                      "Grandview-Woodland"
                    ],
                    [
                      "Vancouver East Lion's Housing Foundation",
                      "Grandview-Woodland"
                    ],
                    [
                      "BC Housing",
                      "West End"
                    ],
                    [
                      "Mavis McMullen Housing Society",
                      "Strathcona"
                    ],
                    [
                      "City of Vancouver",
                      "Strathcona"
                    ],
                    [
                      "BC Housing",
                      "Kitsilano"
                    ],
                    [
                      "BC Housing",
                      "Victoria-Fraserview"
                    ],
                    [
                      "Trout Lake Co-op Housing Association",
                      "Kensington-Cedar Cottage"
                    ],
                    [
                      "Affordable Housing Societies",
                      "Strathcona"
                    ],
                    [
                      "Lu'Ma Native Housing Society",
                      "Grandview-Woodland"
                    ],
                    [
                      "Riverside Landing Co-op Housing Association",
                      "Victoria-Fraserview"
                    ],
                    [
                      "Italian Cultural Centre Housing Society",
                      "Renfrew-Collingwood"
                    ],
                    [
                      "Still Creek Co-op Housing Association",
                      "Renfrew-Collingwood"
                    ],
                    [
                      "Affordable Housing Societies",
                      "Downtown"
                    ],
                    [
                      "City Edge Co-op Housing Association",
                      "Killarney"
                    ],
                    [
                      "PHS Community Services Society",
                      "Downtown"
                    ],
                    [
                      "Coast Foundation Society",
                      "Grandview-Woodland"
                    ],
                    [
                      "Entre Nous Femmes Housing Society",
                      "Hastings-Sunrise"
                    ],
                    [
                      "Co-op Demers \"La Bruyere\" Co-op Hsg Assoc.",
                      "Fairview"
                    ],
                    [
                      "The 127 Society for Housing",
                      "Downtown"
                    ],
                    [
                      "The 127 Society for Housing",
                      "Downtown"
                    ],
                    [
                      "Chau Luen Kon Sol Society of Vancouver",
                      "Strathcona"
                    ],
                    [
                      "BC Housing",
                      "Strathcona"
                    ],
                    [
                      "Vancouver Kiwanis Senior Citizens Housing Society",
                      "Killarney"
                    ],
                    [
                      "Anglican Homes",
                      "Arbutus-Ridge"
                    ],
                    [
                      "Baptist Housing Society of B.C.",
                      "Grandview-Woodland"
                    ],
                    [
                      "Lu'Ma Native Housing Society",
                      "Grandview-Woodland"
                    ],
                    [
                      "Twin Rainbows Co-op Housing Association",
                      "Fairview"
                    ],
                    [
                      "Vancouver Chinatown Housing Society",
                      "Strathcona"
                    ],
                    [
                      "Affordable Housing Societies",
                      "Downtown"
                    ],
                    [
                      "Affordable Housing Societies",
                      "Downtown"
                    ],
                    [
                      "Shalom Branch #178 Canadian Legion",
                      "Kitsilano"
                    ],
                    [
                      "Phoenix Court Co-op Housing Association",
                      "Kitsilano"
                    ],
                    [
                      "Vera Co-op Housing Association",
                      "Marpole"
                    ],
                    [
                      "Metro Vancouver Housing Corporation",
                      "Marpole"
                    ],
                    [
                      "BC Housing",
                      "Grandview-Woodland"
                    ],
                    [
                      "False Creek Co-op Housing Association",
                      "Fairview"
                    ],
                    [
                      "Affordable Housing Societies",
                      "Hastings-Sunrise"
                    ],
                    [
                      "BC Housing",
                      "Victoria-Fraserview"
                    ],
                    [
                      "Watershed Co-op Housing Association",
                      "Grandview-Woodland"
                    ],
                    [
                      "The Bloom Group",
                      "West End"
                    ],
                    [
                      "Mau Dan Gardens Co-op Housing Association",
                      "Strathcona"
                    ],
                    [
                      "Lesya Ukrainka Housing Society",
                      "Strathcona"
                    ],
                    [
                      "Hellenic Housing Society of BC",
                      "Kitsilano"
                    ],
                    [
                      "Vancouver Chinatown Housing Society",
                      "Strathcona"
                    ],
                    [
                      "Lu'Ma Native Housing Society",
                      "Grandview-Woodland"
                    ],
                    [
                      "Leveller's Co-op Housing Association",
                      "Grandview-Woodland"
                    ],
                    [
                      "Beulah Garden Homes Society",
                      "Hastings-Sunrise"
                    ],
                    [
                      "Parish of St.Paul-Pendrellis Society",
                      "West End"
                    ],
                    [
                      "Dunbar Village Co-op Housing Association",
                      "West Point Grey"
                    ],
                    [
                      "The Bloom Group",
                      "Strathcona"
                    ],
                    [
                      "Vancouver Native Housing Society",
                      "Grandview-Woodland"
                    ],
                    [
                      "Affordable Housing Societies",
                      "Strathcona"
                    ],
                    [
                      "Affordable Housing Societies",
                      "Killarney"
                    ],
                    [
                      "Alder Bay Co-op Housing Association",
                      "Fairview"
                    ],
                    [
                      "Robson Park Co-op Housing Association",
                      "Mount Pleasant"
                    ],
                    [
                      "Lu'Ma Native Housing Society",
                      "Grandview-Woodland"
                    ],
                    [
                      "New Chelsea Society",
                      "Fairview"
                    ],
                    [
                      "Alexander Laidlaw Co-op Housing Association",
                      "Killarney"
                    ],
                    [
                      "Sunbridge Co-op Housing Association",
                      "Killarney"
                    ],
                    [
                      "Strathcona Co-op Housing Association",
                      "Strathcona"
                    ],
                    [
                      "Penta Co-op Housing Association",
                      "West Point Grey"
                    ],
                    [
                      "BC Housing",
                      "West Point Grey"
                    ],
                    [
                      "Brightside Community Homes Foundation",
                      "Victoria-Fraserview"
                    ],
                    [
                      "Brightside Community Homes Foundation",
                      "Renfrew-Collingwood"
                    ],
                    [
                      "Anita Lewis Co-op Housing Association",
                      "Renfrew-Collingwood"
                    ],
                    [
                      "Lookout Emergency Aid Society",
                      "Strathcona"
                    ],
                    [
                      "Pacific Community Resources Society",
                      "Strathcona"
                    ],
                    [
                      "Lu'Ma Native Housing Society",
                      "Grandview-Woodland"
                    ],
                    [
                      "The 127 Society for Housing",
                      "Downtown"
                    ],
                    [
                      "St. George's Place Housing Society",
                      "Fairview"
                    ],
                    [
                      "Lions Paraplegic Lodge Society",
                      "Kensington-Cedar Cottage"
                    ],
                    [
                      "Coast Foundation Society",
                      "Kensington-Cedar Cottage"
                    ],
                    [
                      "City of Vancouver",
                      "Downtown"
                    ],
                    [
                      "New Chelsea Society",
                      "Sunset"
                    ],
                    [
                      "Baptist Housing Society of B.C.",
                      "Victoria-Fraserview"
                    ],
                    [
                      "Kettle Friendship Society",
                      "Grandview-Woodland"
                    ],
                    [
                      "Wings Housing Society",
                      "West End"
                    ],
                    [
                      "Affordable Housing Societies",
                      "Downtown"
                    ],
                    [
                      "Vancouver Native Housing Society",
                      "Mount Pleasant"
                    ],
                    [
                      "Neighbourhood Housing Society",
                      "Strathcona"
                    ],
                    [
                      "Vancouver East Co-op Housing Association",
                      "Grandview-Woodland"
                    ],
                    [
                      "Vancouver East Co-op Housing Association",
                      "Grandview-Woodland"
                    ],
                    [
                      "Affordable Housing Societies",
                      "Strathcona"
                    ],
                    [
                      "Affordable Housing Societies",
                      "Strathcona"
                    ],
                    [
                      "Affordable Housing Societies",
                      "Strathcona"
                    ],
                    [
                      "Mole Hill Community Housing Society",
                      "West End"
                    ],
                    [
                      "Mole Hill Community Housing Society",
                      "West End"
                    ],
                    [
                      "Mole Hill Community Housing Society",
                      "West End"
                    ],
                    [
                      "Mole Hill Community Housing Society",
                      "West End"
                    ],
                    [
                      "Mole Hill Community Housing Society",
                      "West End"
                    ],
                    [
                      "Mole Hill Community Housing Society",
                      "West End"
                    ],
                    [
                      "Mau Dan Gardens Co-op Housing Association",
                      "Strathcona"
                    ],
                    [
                      "Mau Dan Gardens Co-op Housing Association",
                      "Strathcona"
                    ],
                    [
                      "Raincity Housing and Support Society",
                      "Kensington-Cedar Cottage"
                    ],
                    [
                      "Coast Foundation Society",
                      "Downtown"
                    ],
                    [
                      "Beulah Garden Homes Society",
                      "Hastings-Sunrise"
                    ],
                    [
                      "Affordable Housing Societies",
                      "Downtown"
                    ],
                    [
                      "Jackson Ave Co-op Hsg Assoc",
                      "Strathcona"
                    ],
                    [
                      "Affordable Housing Societies",
                      "Victoria-Fraserview"
                    ],
                    [
                      "Abbeyfield Houses of Vancouver Society",
                      "Marpole"
                    ],
                    [
                      "Lookout Emergency Aid Society",
                      "Strathcona"
                    ],
                    [
                      "Sanford Housing Society",
                      "Mount Pleasant"
                    ],
                    [
                      "PHS Community Services Society",
                      "Downtown"
                    ],
                    [
                      "Brightside Community Homes Foundation",
                      "Arbutus-Ridge"
                    ],
                    [
                      "Coast Foundation Society",
                      "Downtown"
                    ],
                    [
                      "Atira Women’s Resource Society",
                      "Strathcona"
                    ],
                    [
                      "Atira Women’s Resource Society",
                      "Downtown"
                    ],
                    [
                      "Helping Spirit Lodge Society",
                      "Kensington-Cedar Cottage"
                    ],
                    [
                      "S.U.C.C.E.S.S",
                      "Strathcona"
                    ],
                    [
                      "Providence Health Care Society",
                      "South Cambie"
                    ],
                    [
                      "Raincity Housing and Support Society",
                      "Strathcona"
                    ],
                    [
                      "Ashley Mar Co-op Housing Association",
                      "Marpole"
                    ],
                    [
                      "Atira Women’s Resource Society",
                      "Strathcona"
                    ],
                    [
                      "Atira Women’s Resource Society",
                      "Strathcona"
                    ],
                    [
                      "Kitsilano Neighbourhood House",
                      "Kitsilano"
                    ],
                    [
                      "MPA Society",
                      "Strathcona"
                    ],
                    [
                      "Community Builders Group",
                      "Strathcona"
                    ],
                    [
                      "YWCA Vancouver",
                      "Strathcona"
                    ],
                    [
                      "Anhart Foundation",
                      "Downtown"
                    ],
                    [
                      "Tikva Housing Society",
                      "Killarney"
                    ],
                    [
                      "Community Land Trust Foundation of BC",
                      "Killarney"
                    ],
                    [
                      "BC Housing",
                      "Strathcona"
                    ],
                    [
                      "Odd Fellows Low Rental Housing Society",
                      "Renfrew-Collingwood"
                    ],
                    [
                      "Atira Women’s Resource Society",
                      "Strathcona"
                    ],
                    [
                      "City of Vancouver",
                      "Strathcona"
                    ],
                    [
                      "Community Builders Group",
                      "Marpole"
                    ],
                    [
                      "Lookout Emergency Aid Society",
                      "Strathcona"
                    ],
                    [
                      "PHS Community Services Society",
                      "Mount Pleasant"
                    ],
                    [
                      "Coast Foundation Society",
                      "Riley Park"
                    ],
                    [
                      "Brightside Community Homes Foundation",
                      "West End"
                    ],
                    [
                      "Atira Women’s Resource Society",
                      "Downtown"
                    ],
                    [
                      "Brightside Community Homes Foundation",
                      "Renfrew-Collingwood"
                    ],
                    [
                      "Metro Vancouver Housing Corporation",
                      "Fairview"
                    ],
                    [
                      "Raincity Housing and Support Society",
                      "Downtown"
                    ],
                    [
                      "PHS Community Services Society",
                      "Strathcona"
                    ],
                    [
                      "Brightside Community Homes Foundation",
                      "West End"
                    ]
                  ],
                  "hovertemplate": "<b>%{hovertext}</b><br><br>Project Status=Completed<br>Total Units=%{marker.size}<br>latitude=%{lat}<br>longitude=%{lon}<br>Operator=%{customdata[0]}<br>Local Area=%{customdata[1]}<extra></extra>",
                  "hovertext": [
                    "Inti Co-op",
                    "Habitat Villa",
                    "Coastview Apartments",
                    "Moreland Kennedy House",
                    "Antkiw Court",
                    "Northern Way Co-op",
                    "Sunrise Co-op",
                    "Rising Star Co-op",
                    "Bauer Villa",
                    "China Creek Place",
                    "First Lutheran Court",
                    "Chelsea Tower - Project 7",
                    "Carolina Court",
                    "Stan Stronge Noble House",
                    "Phoenix",
                    "Vancouver Native (7th Ave)",
                    "Lu'Ma Housing (8th Ave)",
                    "China Creek Co-op",
                    "Vancouver Native (8th Ave)",
                    "Access Co-op South",
                    "Heritage Co-op",
                    "Maple Creek Co-op",
                    "Anavets",
                    "Lu'Ma Housing (10th Ave)",
                    "View Court Co-op",
                    "Blair Court",
                    "King's Daughter Manor",
                    "Victoria Gardens Co-op",
                    "Loyal Orange Manor",
                    "Lakewood Terrace Co-op",
                    "Soroptimist Apartments",
                    "Yew Street Co-op",
                    "Clark Street Apartment",
                    "Le Normand",
                    "Brant Villa",
                    "Menno Court",
                    "Crossroads Co-op",
                    "Griffin's Walk Co-op",
                    "Champlain Place",
                    "Marine Court Co-op",
                    "Alma Blackwell",
                    "Tivoli Gardens",
                    "Southvan Manor",
                    "Alexander Residence",
                    "Four Sisters Co-op",
                    "St. Mary's Ukrainian Gardens",
                    "Kanata Co-op",
                    "Matheson Heights Co-op",
                    "Wilp-Bilah",
                    "Alexandra Place",
                    "Kitsilano Terrace Co-op",
                    "Broadview Co-op",
                    "Clarke Manor",
                    "Chinatown Lions Manor I",
                    "James McCready Residence",
                    "Antoinette Lodge",
                    "Kinross Creek Co-op",
                    "Marin Vista",
                    "Franklin House",
                    "Vancouver Native (Georgia St)",
                    "Beatrice Terrace",
                    "Natalia Terrace",
                    "Sitka Co-op",
                    "Haro Park Tower",
                    "Bill Hennessy Place",
                    "Shon Yee Place",
                    "La Cour I",
                    "Goodson Korsch Residence",
                    "Eburne Landing Co-op",
                    "Columbus Tower",
                    "Chelsea Green",
                    "Lu'Ma Housing (Boundary Rd)",
                    "Parkdale Manor",
                    "Dundee Court Co-op",
                    "Synala Co-op",
                    "Creekview Co-op",
                    "Wits' End Co-op",
                    "Magyar Otthon",
                    "Cedar Mill Co-op",
                    "Arlington Grove Co-op",
                    "Kelly Court",
                    "Earle Adams Village",
                    "Tidal Flats Co-op",
                    "Gillard Manor",
                    "Pacific Heights Co-op",
                    "Dart Coon Club",
                    "China Villa",
                    "Rose Garden Co-op",
                    "Vancouver Native (Pender St)",
                    "Aaron Webster Co-op",
                    "WISHS Co-op",
                    "Sakura-So",
                    "Chinese Freemason's Manor",
                    "Alberni Co-op",
                    "Grace MacInnis Co-op",
                    "Grandview Tower #3",
                    "Semlin Terrace",
                    "Strathearn Court",
                    "La Petite Maison Co-op",
                    "Solheim Place",
                    "Alice Saunders House",
                    "Chimo Terrace",
                    "Yukon House",
                    "Southwynd Place",
                    "Chelsea Court",
                    "Bridgeview Place",
                    "Haley Place",
                    "Roundhouse Co-op",
                    "Arbutus Co-op",
                    "The CBA Manor",
                    "Bridge Housing",
                    "City Vista",
                    "Muir Manor",
                    "Quayside",
                    "Hydrecs House",
                    "Bruce Eriksen Place",
                    "New Chelsea Gardens - Family",
                    "East 16th Apartments",
                    "Bloomfield Gardens",
                    "Sunrise Hotel",
                    "Washington Hotel",
                    "Cordova House",
                    "Vanness Park",
                    "Mole Hill - Phase I",
                    "Lookout (Yukon Transitional Housing)",
                    "Vancouver East Co-op",
                    "Vancouver East Co-op",
                    "Vancouver East Co-op",
                    "W.A. Street Homes",
                    "W.A. Street Homes",
                    "Juniper Co-op",
                    "Mole Hill - Phase I",
                    "Mole Hill - Phase I",
                    "Mole Hill - Phase I",
                    "Mole Hill - Phase I",
                    "Mole Hill - Phase II",
                    "Mole Hill - Phase II",
                    "Mole Hill - Phase II",
                    "Mole Hill - Phase II",
                    "Four Sisters Co-op",
                    "Smith -Yuen Apartments",
                    "Twin Rainbows Co-op",
                    "False Creek Co-op",
                    "Pennsylvania Hotel",
                    "Tamura House",
                    "Semlin Terrace",
                    "Woodwards - singles",
                    "Alumnae Manor",
                    "Performing Arts Lodge",
                    "Beulah Gardens - The Cedars",
                    "Southview Heights",
                    "Harmony House",
                    "Skeena Terrace - East",
                    "The Vivian",
                    "Dunbar Apartments",
                    "McLaren House",
                    "Sanford Apartments",
                    "Arco Hotel",
                    "Skwachays Healing Lodge and Residence",
                    "Olympic Village - Parcel 5",
                    "The Cornerstone",
                    "Pacific Coast Apartments",
                    "Marble Arch Hotel",
                    "Karis Place",
                    "Kindred Place",
                    "Kwayatsut",
                    "Cordova Residence",
                    "Dominion Hotel",
                    "Hazelwood Hotel",
                    "The Beacon",
                    "Linden Tree Place",
                    "Metson Rooms",
                    "Coast Project Commercial Dr",
                    "Heritage Co-op Addition",
                    "The View",
                    "Kingsway Continental",
                    "John Paul II Centre",
                    "Immigrant Services Society",
                    "Brice Apartments",
                    "CentralPC Housing Society",
                    "co:here housing",
                    "1315 Davie St",
                    "Vivian Apartments",
                    "Kinship Housing Co-operative",
                    "Naomi Place",
                    "Aneki Housing for Women",
                    "Sarah Ross House",
                    "Margaret Mitchell Place",
                    "Larwill Place",
                    "Magnolo Manor",
                    "Buchan Hotel",
                    "The American Hotel",
                    "City Heights",
                    "Marina Co-op",
                    "Sam Greer Place Co-op",
                    "Laura Jamieson Co-op",
                    "Westerdale Co-op",
                    "Woodcroft",
                    "Grandview Tower #1",
                    "Vancouver Native (4th Ave)",
                    "Juniper Co-op",
                    "Burlington Heights Co-op",
                    "Mount Pleasant Lions Manor",
                    "George Whiten Place",
                    "Quebec Manor Co-op",
                    "Jasmine Place Co-op",
                    "Ledingham Place",
                    "Whiting Court",
                    "Heather Place",
                    "Redwood Mews",
                    "Three Links Manor",
                    "Little Mountain Court",
                    "Oakridge House",
                    "Columbus Residence",
                    "Lu'Ma Housing (Adanac St)",
                    "Adanac Tower",
                    "Veterans Memorial Manor",
                    "Alexander House",
                    "Amicae Co-op.",
                    "Sunset Towers",
                    "Pacific Park Place Co-op",
                    "Kiwanis Fairview Manor",
                    "Twin Arms",
                    "Stamp's Place",
                    "Charleswood Court",
                    "Connaught Co-op",
                    "Le Coeur Co-op",
                    "Golden Age Court",
                    "Hugh Bird Residence",
                    "Melton Court Co-op",
                    "De Cosmos Village Co-op",
                    "Euclid Square",
                    "Vancouver Native (Frances St)",
                    "Emma G. Co-op",
                    "Happy Manor",
                    "David Wetherow Co-op",
                    "Grandview Gardens",
                    "Kaslo Gardens Co-op",
                    "Vancouver East Co-op",
                    "Helmcken House",
                    "Vancouver Native (Graveley St)",
                    "Barclay Heritage Square",
                    "Ford Building",
                    "Jennie Pentland Place",
                    "MacLean Park - Phase II",
                    "Ukrainian Manor",
                    "Culloden Court",
                    "Wellington Apartment",
                    "Fraser Lands Family Housing",
                    "Marpole Terrace Co-op",
                    "Kiwanis Manor",
                    "Garden Villa",
                    "McLean Apartment",
                    "Nanaimo Lane",
                    "Chelsea Lodge",
                    "Grandview Co-op",
                    "Sojourn Co-op",
                    "May MacLean Place",
                    "Pendera",
                    "Harbour Cove Co-op",
                    "Europe Hotel",
                    "Columbia House",
                    "Shiloh Place",
                    "Santiago Lodge",
                    "Chelsea Lane",
                    "Renfrew Park Manor",
                    "Rupert Lane",
                    "Coleopy Park",
                    "Beulah Garden Homes",
                    "New Continental",
                    "Robson Park Co-op (Phase II)",
                    "Vancouver East Co-op",
                    "Chelsea Corner",
                    "Kitsun Co-op",
                    "Jeffrey Ross Residence",
                    "Chelsea Crossing",
                    "Longwater Park",
                    "Lion's View - Building I",
                    "Semlin Gardens",
                    "Collingwood Tower",
                    "Somerville Place",
                    "Hooper Apartments",
                    "Coal Harbour Co-op",
                    "New Portland Hotel",
                    "Windchimes Apartments",
                    "Ian Leman Place",
                    "Seymour Place",
                    "The Marjorie White Building",
                    "The Edge",
                    "St. James Place",
                    "The Oasis",
                    "Norah Davis Gardens",
                    "The Lux",
                    "The Crowne",
                    "Lore Krill Co-op",
                    "Regal Place Hotel",
                    "Lore Krill Co-op",
                    "Glynn Manor",
                    "Maurice McElrea Place",
                    "Candela Place",
                    "C-Side",
                    "City Gate Co-op",
                    "Collingwood Village Co-op",
                    "Triumph Apartments",
                    "YWCA Crabtree Corner",
                    "Lu'Ma Housing",
                    "W.A. Street Homes",
                    "Mole Hill - Phase I",
                    "Mole Hill - Phase II",
                    "Mole Hill - Phase II",
                    "Mole Hill - Phase II",
                    "Mole Hill - Phase II",
                    "Mole Hill - Phase II",
                    "Mole Hill - Phase II",
                    "Mole Hill - Phase II",
                    "Mole Hill - Phase II",
                    "Mole Hill - Phase II",
                    "Mole Hill - Phase II",
                    "Sunset Towers",
                    "Mole Hill - Phase I",
                    "1005 Station Street",
                    "Chilean Co-op",
                    "Semlin Terrace",
                    "Central Residence",
                    "Comox Street Development",
                    "Access Co-op North",
                    "Granville Residence",
                    "Chelsea Manor",
                    "Icelandic Residence",
                    "Marin Vista",
                    "Savoy Hotel",
                    "Under 1 Roof Project",
                    "Aboriginal Children's Village",
                    "Gastown Hotel",
                    "Marr Hotel",
                    "Kettle on Burrard",
                    "Olympic Village - Parcel 9",
                    "Athletes Village Co-op",
                    "Union Gospel Project",
                    "Park Hotel",
                    "Alexander Street Community",
                    "Roosevelt Hotel",
                    "Grace Mansion",
                    "Orwell Hotel",
                    "Dany Guincher House",
                    "First Place",
                    "Trafalgar Co-op",
                    "Skeena House",
                    "The Biltmore",
                    "The Yale",
                    "Taylor Manor",
                    "Sequel 138",
                    "188 Keefer",
                    "The Wohlsein",
                    "Seymour Residence",
                    "Fraserview Towers Co-operative",
                    "Firehall No 5",
                    "41 E Hastings",
                    "Hannelore",
                    "95 E 1st Ave",
                    "220 Terminal",
                    "Chartrand Place",
                    "New Beginnings",
                    "MacLeod Manor",
                    "Arbutus Court",
                    "Helen's Court Co-op",
                    "Community Alternatives Co-op",
                    "Paloma Co-op",
                    "Vancouver Native (5th Ave)",
                    "Lu'Ma Housing (6th Ave)",
                    "Wallace Wilson House",
                    "Charleston Terrace Co-op",
                    "Wilp-Lo-Ama-Gaut",
                    "Chinese United Church Lodge",
                    "China Creek Apartments",
                    "Seven Maples",
                    "Lutheran Manor",
                    "Edward Byers House",
                    "Soroptimist Lions Manor",
                    "Domego Co-op",
                    "Robson Park Co-op (Phase III)",
                    "Hemlock Court",
                    "HW Flesher Co-op",
                    "Killarney Gardens Co-op",
                    "Rishon Co-op",
                    "Alexander Street Co-op",
                    "Ashley Mar Co-op",
                    "Lions Argyle Manor",
                    "Burrard Manor",
                    "St. Mary's Mews",
                    "Gordon Fahrni House",
                    "Broadway Manor",
                    "West End Manor",
                    "Eight Oaks Co-op",
                    "Adanac Village Co-op",
                    "Skeena Terrace - West",
                    "Royal Arch Masonic Apartments",
                    "Charles Square Co-op",
                    "Lions Manor",
                    "Comox Street Development",
                    "Mavis McMullen Place",
                    "Oppenheimer Lodge",
                    "Cypress Walk",
                    "Killarney Gardens",
                    "Trout Lake Co-op",
                    "W.A. Street Homes",
                    "Lu'Ma Housing (Georgia St)",
                    "Riverside Landing Co-op",
                    "Casa Serena",
                    "Still Creek Co-op",
                    "Granville House",
                    "City Edge Co-op",
                    "Tellier Tower",
                    "Frances Court",
                    "Constance Court",
                    "Co-op Demers \"La Bruyere\"",
                    "New Jubilee House",
                    "Brookland Court",
                    "Chau Luen Tower",
                    "MacLean Park - Phase I",
                    "Scottish Manor",
                    "King Edward Court",
                    "Grandview Tower #2",
                    "Lu'Ma Housing (Kitchener St)",
                    "Twin Rainbows Co-op",
                    "Chinatown Lions Manor III",
                    "Station Park I",
                    "Station Park II",
                    "Maple Crest Apartment",
                    "Phoenix Court Co-op",
                    "Vera Co-op",
                    "Ashdown Gardens",
                    "Grandview Terrace",
                    "False Creek Co-op",
                    "Nanaimo Place",
                    "Orchard Park",
                    "Watershed Co-op",
                    "Nicholson Towers",
                    "Mau Dan Gardens Co-op",
                    "Lesya Ukrainka Manor",
                    "St. Barbara's Estia",
                    "Chinatown Lions Manor II",
                    "Lu'Ma Housing (Pender St)",
                    "Leveller's Co-op",
                    "Beulah Gardens -  Bentall Building",
                    "Pendrellis",
                    "Jericho Place",
                    "Cecilia House",
                    "Vancouver Native (Pender St)",
                    "Princess Place",
                    "Three Links Plaza",
                    "Alder Bay Co-op",
                    "Robson Park Co-op (Phase I)",
                    "Lu'Ma Housing (Templeton Dr)",
                    "Van Coeverden Court",
                    "Alexander Laidlaw Co-op",
                    "Sunbridge Co-op",
                    "Strathcona Co-op",
                    "Penta Co-op",
                    "Steeves Manor",
                    "Wilson Heights Manor",
                    "Lion's View - Building II",
                    "Anita Lewis Co-op",
                    "Jim Green Residence",
                    "Bantleman Court",
                    "United Native Nations",
                    "The Wellspring",
                    "St. George's Place",
                    "Lions Millenium Place",
                    "St. Margarets",
                    "The Gresham",
                    "New Chelsea Gardens - Seniors",
                    "Clarendon Court",
                    "Friendship Court",
                    "The Bonaventure Apartments",
                    "Yaletown Mews",
                    "Claude Douglas Place",
                    "Bridget Moran Place",
                    "Vancouver East Co-op",
                    "Vancouver East Co-op",
                    "W.A. Street Homes",
                    "W.A. Street Homes",
                    "W.A. Street Homes",
                    "Mole Hill - Phase I",
                    "Mole Hill - Phase I",
                    "Mole Hill - Phase I",
                    "Mole Hill - Phase II",
                    "Mole Hill - Phase II",
                    "Mole Hill - Phase II",
                    "Mau Dan Gardens Co-op",
                    "Mau Dan Gardens Co-op",
                    "Fraser Place",
                    "Doug Storey Apartments",
                    "Beulah Gardens - Beachwood",
                    "Woodwards - One Twenty West",
                    "Jackson Avenue Co-op",
                    "Marin Vista",
                    "Abbeyfield",
                    "Walton Hotel",
                    "Marguerite Ford Apartments",
                    "The Rainier",
                    "The Londonderry",
                    "St Helen's Hotel",
                    "The Rice Block",
                    "Sorella",
                    "Helping Spirit",
                    "Orange Hall",
                    "Honoria Conway",
                    "Budzey Building",
                    "Ashley Mar Co-op",
                    "566 Powell Street",
                    "Imouto House",
                    "Red Oak Place",
                    "Cordovan",
                    "Alexander",
                    "YWCA Cause we Care House",
                    "179 Main Street",
                    "Tikva Housing Co-op",
                    "Fraserview Housing Co-op",
                    "The Anjok",
                    "Odd Fellows Manor",
                    "Ross-Aoki House",
                    "Roddan Lodge",
                    "Reiderman Residence",
                    "Belcourt Residence",
                    "Hummingbird Place",
                    "t? cec?w (The Beach)",
                    "Harwood Manor",
                    "Howard Johnson (Luu-gat)",
                    "Lion's View - Building III",
                    "Heather Place Building A",
                    "Jubilee Rooms",
                    "Nora Hendrix Place",
                    "Florence Manor"
                  ],
                  "lat": [
                    49.27094519,
                    49.27045566,
                    49.26755868,
                    49.26939934,
                    49.266645,
                    49.26639799,
                    49.26574527,
                    49.26573514,
                    49.26555761,
                    49.26400829,
                    49.23246527,
                    49.26518737,
                    49.2649808,
                    49.26564344,
                    49.26530307,
                    49.26448248,
                    49.26358712,
                    49.26307424,
                    49.263058,
                    49.26321325,
                    49.26446677,
                    49.26495895,
                    49.26362938,
                    49.26128682,
                    49.26184174,
                    49.26268769,
                    49.26029268,
                    49.26070528,
                    49.25990369,
                    49.25992897,
                    49.25923061,
                    49.26017777,
                    49.25804597,
                    49.25730073,
                    49.24741422,
                    49.23144219,
                    49.23083693,
                    49.23041224,
                    49.21763425,
                    49.20760295,
                    49.27733406,
                    49.20853311,
                    49.22542244,
                    49.28344261,
                    49.28370049,
                    49.25789384,
                    49.21811899,
                    49.21275024,
                    49.26263702,
                    49.26231048,
                    49.26375564,
                    49.2640035,
                    49.26769092,
                    49.27694361,
                    49.28256711,
                    49.28240508,
                    49.21247171,
                    49.20768611,
                    49.28242758,
                    49.27815551,
                    49.27866977,
                    49.20726071,
                    49.27078715,
                    49.28560414,
                    49.28150447,
                    49.28085873,
                    49.2576848,
                    49.2770125,
                    49.20534612,
                    49.23748176,
                    49.24692571,
                    49.23848485,
                    49.247574,
                    49.23580848,
                    49.2351038,
                    49.26932061,
                    49.20824039,
                    49.20823363,
                    49.21293165,
                    49.21961153,
                    49.25744846,
                    49.21503813,
                    49.27463356,
                    49.28545308,
                    49.27756532,
                    49.28067369,
                    49.28003018,
                    49.28037655,
                    49.28049812,
                    49.28047652,
                    49.26396627,
                    49.28286102,
                    49.27631598,
                    49.2365991,
                    49.27729408,
                    49.26829628,
                    49.28365654,
                    49.26864189,
                    49.21703561,
                    49.27788193,
                    49.27612487,
                    49.28617719,
                    49.25417327,
                    49.21174063,
                    49.2575755,
                    49.27375636,
                    49.27818046,
                    49.27286767,
                    49.26266151,
                    49.28030099,
                    49.28207009,
                    49.26443301,
                    49.26134544,
                    49.27357694,
                    49.25982107,
                    49.28168215,
                    49.22289499,
                    49.25674495,
                    49.23471513,
                    49.2816808,
                    49.28165623,
                    49.28195691,
                    49.23941885,
                    49.28185872,
                    49.26689088,
                    49.27992564,
                    49.27352487,
                    49.2768758,
                    49.27980047,
                    49.28028632,
                    49.26707432,
                    49.28198668,
                    49.28224303,
                    49.28181043,
                    49.28190074,
                    49.28273108,
                    49.28202959,
                    49.28202959,
                    49.28148904,
                    49.28342665,
                    49.28153307,
                    49.26848936,
                    49.26695534,
                    49.28111243,
                    49.28285515,
                    49.28326456,
                    49.28276526,
                    49.27045637,
                    49.29141724,
                    49.26621184,
                    49.21773661,
                    49.27977613,
                    49.26414271,
                    49.28189653,
                    49.25758303,
                    49.27749639,
                    49.26563829,
                    49.28123401,
                    49.28108145,
                    49.27078693,
                    49.28148382,
                    49.28269827,
                    49.28278806,
                    49.27495648,
                    49.27468456,
                    49.26277669,
                    49.28207691,
                    49.28355627,
                    49.28095418,
                    49.28186911,
                    49.26456261,
                    49.27927909,
                    49.27910862,
                    49.2639696,
                    49.28271871,
                    49.23140021,
                    49.24200811,
                    49.26105906,
                    49.24684661,
                    49.28112636,
                    49.26927219,
                    49.2831831,
                    49.2253565,
                    49.20767029,
                    49.24966647,
                    49.28330691,
                    49.24496553,
                    49.26631322,
                    49.27994596,
                    49.2618478,
                    49.29171537,
                    49.27628169,
                    49.23763885,
                    49.2708485,
                    49.27046454,
                    49.26900321,
                    49.26896961,
                    49.26956174,
                    49.26829628,
                    49.2666326,
                    49.26749853,
                    49.26161645,
                    49.26569521,
                    49.26502759,
                    49.26487539,
                    49.2645604,
                    49.26336944,
                    49.26108247,
                    49.25927307,
                    49.25663732,
                    49.25031447,
                    49.23766925,
                    49.23018016,
                    49.20890443,
                    49.27733673,
                    49.27782127,
                    49.28378914,
                    49.28378901,
                    49.28281842,
                    49.28866855,
                    49.23126023,
                    49.26800345,
                    49.27877594,
                    49.27900972,
                    49.27331573,
                    49.26801477,
                    49.20962267,
                    49.28255723,
                    49.28193148,
                    49.2723574,
                    49.2228022,
                    49.2344612,
                    49.2790927,
                    49.26456896,
                    49.27867931,
                    49.20734942,
                    49.25849645,
                    49.25738833,
                    49.27102079,
                    49.27810547,
                    49.27082772,
                    49.28738884,
                    49.28158604,
                    49.28089739,
                    49.27849178,
                    49.21945024,
                    49.22835508,
                    49.26804963,
                    49.20659423,
                    49.20753063,
                    49.20576794,
                    49.27734561,
                    49.26809347,
                    49.28423783,
                    49.25707726,
                    49.27517545,
                    49.28912892,
                    49.28599067,
                    49.28154278,
                    49.27205665,
                    49.28340214,
                    49.28346017,
                    49.28341464,
                    49.28339069,
                    49.26471157,
                    49.25359041,
                    49.24060975,
                    49.23202084,
                    49.26621497,
                    49.27796805,
                    49.2550164,
                    49.27992564,
                    49.25319001,
                    49.26419383,
                    49.2837058,
                    49.23533146,
                    49.20783398,
                    49.24006198,
                    49.25978589,
                    49.23266161,
                    49.2833689,
                    49.28215354,
                    49.29092964,
                    49.28138819,
                    49.28325701,
                    49.28104614,
                    49.27641924,
                    49.27026481,
                    49.28443077,
                    49.28197811,
                    49.2811002,
                    49.2818226,
                    49.28169883,
                    49.23342156,
                    49.28306444,
                    49.28198916,
                    49.27881639,
                    49.26473908,
                    49.28146285,
                    49.27658027,
                    49.28954846,
                    49.27563582,
                    49.23530774,
                    49.28415864,
                    49.28150949,
                    49.2630781,
                    49.27795107,
                    49.28232403,
                    49.28247652,
                    49.28260492,
                    49.28251479,
                    49.2822864,
                    49.28215799,
                    49.28211595,
                    49.28168704,
                    49.28142047,
                    49.28135291,
                    49.28130065,
                    49.28866855,
                    49.28181043,
                    49.2756775,
                    49.23080241,
                    49.2827525,
                    49.28208473,
                    49.28521426,
                    49.26540171,
                    49.27669007,
                    49.25314806,
                    49.2094,
                    49.20857785,
                    49.2809366,
                    49.28507629,
                    49.25719768,
                    49.28363745,
                    49.28335605,
                    49.27956716,
                    49.27075307,
                    49.27064319,
                    49.28147049,
                    49.28326902,
                    49.28368398,
                    49.28104596,
                    49.28088944,
                    49.28091634,
                    49.20677619,
                    49.26985484,
                    49.26767786,
                    49.28142124,
                    49.26029607,
                    49.2757853,
                    49.2766945,
                    49.28105782,
                    49.27911983,
                    49.26560655,
                    49.27759099,
                    49.20687475,
                    49.21988385,
                    49.28172425,
                    49.23385582,
                    49.27045793,
                    49.27237498,
                    49.28257659,
                    49.23962564,
                    49.20647706,
                    49.26752135,
                    49.27104183,
                    49.27007463,
                    49.26755366,
                    49.26625345,
                    49.26495984,
                    49.26471876,
                    49.26572477,
                    49.26403654,
                    49.28054018,
                    49.26397621,
                    49.26575732,
                    49.26246017,
                    49.25990369,
                    49.2584527,
                    49.25905197,
                    49.26616758,
                    49.25571018,
                    49.23143252,
                    49.21915358,
                    49.20682197,
                    49.28366031,
                    49.20904404,
                    49.21977498,
                    49.26508927,
                    49.23810614,
                    49.28821106,
                    49.2623094,
                    49.28066394,
                    49.25295523,
                    49.2763955,
                    49.26414502,
                    49.21403506,
                    49.27333302,
                    49.27820526,
                    49.28597748,
                    49.28192592,
                    49.28191513,
                    49.26444467,
                    49.22319619,
                    49.25527408,
                    49.27857263,
                    49.27818934,
                    49.2067025,
                    49.25715479,
                    49.25732576,
                    49.27394656,
                    49.20740193,
                    49.28110813,
                    49.27964586,
                    49.28087634,
                    49.25726946,
                    49.27725478,
                    49.2772737,
                    49.27966994,
                    49.27849178,
                    49.21887003,
                    49.24842742,
                    49.26829628,
                    49.27241953,
                    49.26788454,
                    49.28382811,
                    49.27408446,
                    49.27455606,
                    49.26595347,
                    49.26442777,
                    49.20965032,
                    49.2091151,
                    49.27099676,
                    49.26694875,
                    49.28535684,
                    49.23115573,
                    49.27451785,
                    49.28327763,
                    49.27984549,
                    49.28038687,
                    49.26885935,
                    49.27694361,
                    49.28001135,
                    49.28051041,
                    49.26534752,
                    49.28280452,
                    49.27094926,
                    49.2833943,
                    49.28053613,
                    49.28187669,
                    49.2177027,
                    49.26771357,
                    49.25909002,
                    49.28712107,
                    49.26687114,
                    49.20868184,
                    49.20738444,
                    49.27720434,
                    49.27107928,
                    49.26946318,
                    49.23238482,
                    49.24006198,
                    49.23928138,
                    49.28426436,
                    49.27923858,
                    49.2799856,
                    49.27770753,
                    49.25893455,
                    49.25232759,
                    49.25014462,
                    49.28035617,
                    49.22287534,
                    49.22554107,
                    49.26297372,
                    49.28133297,
                    49.27489914,
                    49.26173676,
                    49.28274762,
                    49.27456138,
                    49.27233281,
                    49.27888667,
                    49.27681412,
                    49.27733,
                    49.28196516,
                    49.28222061,
                    49.28168704,
                    49.28249138,
                    49.28265672,
                    49.28224346,
                    49.27966571,
                    49.27999087,
                    49.23369272,
                    49.28033403,
                    49.26621509,
                    49.28274231,
                    49.28241323,
                    49.20776282,
                    49.21098353,
                    49.28159904,
                    49.26909722,
                    49.28223732,
                    49.23601141,
                    49.27771178,
                    49.28086915,
                    49.28083259,
                    49.24966055,
                    49.28159583,
                    49.24200811,
                    49.2827536,
                    49.20854521,
                    49.28278118,
                    49.28370817,
                    49.26590631,
                    49.28239934,
                    49.28366473,
                    49.28082218,
                    49.28362092,
                    49.20687475,
                    49.20585236,
                    49.28092965,
                    49.23247694,
                    49.28422588,
                    49.28373962,
                    49.21814688,
                    49.28133997,
                    49.27071415,
                    49.23755416,
                    49.28054963,
                    49.27732807,
                    49.23966521,
                    49.25887258,
                    49.28263269,
                    49.27751701,
                    49.28256925
                  ],
                  "legendgroup": "Completed",
                  "lon": [
                    -123.14821914,
                    -123.19038711,
                    -123.07052778,
                    -123.16187563,
                    -123.07288057,
                    -123.09065341,
                    -123.07336938,
                    -123.07218136,
                    -123.06799095,
                    -123.08252037,
                    -123.05213397,
                    -123.09804729,
                    -123.09008792,
                    -123.12056203,
                    -123.1208978,
                    -123.07649546,
                    -123.07898388,
                    -123.07922139,
                    -123.07666847,
                    -123.04651609,
                    -123.12042184,
                    -123.15173449,
                    -123.08405019,
                    -123.09281748,
                    -123.10540528,
                    -123.15208112,
                    -123.07498181,
                    -123.06745152,
                    -123.07483167,
                    -123.06277581,
                    -123.11636959,
                    -123.16660959,
                    -123.07481742,
                    -123.12320747,
                    -123.05903401,
                    -123.07016628,
                    -123.09676819,
                    -123.09531965,
                    -123.03649042,
                    -123.14347965,
                    -123.07200187,
                    -123.02876322,
                    -123.11362118,
                    -123.1027163,
                    -123.10153493,
                    -123.11839952,
                    -123.03056313,
                    -123.02641787,
                    -123.07252526,
                    -123.05180854,
                    -123.16534964,
                    -123.18021442,
                    -123.11818965,
                    -123.08442743,
                    -123.10098812,
                    -123.09262537,
                    -123.02878208,
                    -123.06367471,
                    -123.06979076,
                    -123.0664843,
                    -123.06617155,
                    -123.02876493,
                    -123.07305553,
                    -123.12796978,
                    -123.09283543,
                    -123.09102024,
                    -123.11942972,
                    -123.12780759,
                    -123.13433186,
                    -123.03307907,
                    -123.0536508,
                    -123.02402887,
                    -123.16606118,
                    -123.04678992,
                    -123.04054547,
                    -123.1370449,
                    -123.14375724,
                    -123.14304507,
                    -123.03115912,
                    -123.0314457,
                    -123.04263316,
                    -123.02658047,
                    -123.07546996,
                    -123.06137361,
                    -123.13273637,
                    -123.10190211,
                    -123.09649954,
                    -123.0858665,
                    -123.06754829,
                    -123.06605018,
                    -123.17869216,
                    -123.09604982,
                    -123.08863524,
                    -123.04097739,
                    -123.06888997,
                    -123.07464212,
                    -123.06334994,
                    -123.11579149,
                    -123.02619985,
                    -123.0979086,
                    -123.04319231,
                    -123.06138018,
                    -123.11214974,
                    -123.11404507,
                    -123.05716498,
                    -123.12370772,
                    -123.06779536,
                    -123.12091871,
                    -123.15668311,
                    -123.10540501,
                    -123.1019758,
                    -123.11938593,
                    -123.0561524,
                    -123.1155317,
                    -123.06556434,
                    -123.09917453,
                    -123.08708207,
                    -123.09238307,
                    -123.1276119,
                    -123.10200147,
                    -123.10049774,
                    -123.09614857,
                    -123.03526734,
                    -123.1298249,
                    -123.11236726,
                    -123.06279932,
                    -123.06726741,
                    -123.06689398,
                    -123.08186724,
                    -123.08006139,
                    -123.15710659,
                    -123.13002325,
                    -123.13041784,
                    -123.1306738,
                    -123.13085223,
                    -123.13114679,
                    -123.13104989,
                    -123.13104989,
                    -123.13021934,
                    -123.10094244,
                    -123.09376706,
                    -123.13673059,
                    -123.12771481,
                    -123.10415426,
                    -123.0956261,
                    -123.06295686,
                    -123.10776232,
                    -123.1493369,
                    -123.13031262,
                    -123.03239517,
                    -123.04055272,
                    -123.10557988,
                    -123.02907422,
                    -123.09301216,
                    -123.18469709,
                    -123.12818713,
                    -123.14131128,
                    -123.10690513,
                    -123.10604961,
                    -123.10760298,
                    -123.09168097,
                    -123.11130569,
                    -123.1132548,
                    -123.12699714,
                    -123.12663394,
                    -123.08970693,
                    -123.10296563,
                    -123.10628594,
                    -123.09638402,
                    -123.10494162,
                    -123.15800935,
                    -123.12438826,
                    -123.0701159,
                    -123.12046637,
                    -123.09858031,
                    -123.03124616,
                    -123.12207964,
                    -123.06540833,
                    -123.06946375,
                    -123.13074473,
                    -123.06615515,
                    -123.13510209,
                    -123.05069803,
                    -123.03975498,
                    -123.05840305,
                    -123.09255007,
                    -123.04676468,
                    -123.11698471,
                    -123.11123699,
                    -123.13167191,
                    -123.13856594,
                    -123.09947676,
                    -123.10260504,
                    -123.14070438,
                    -123.14995826,
                    -123.07614157,
                    -123.07304966,
                    -123.1475091,
                    -123.07464212,
                    -123.0718679,
                    -123.15092794,
                    -123.06687208,
                    -123.09777754,
                    -123.04515669,
                    -123.10244623,
                    -123.08761087,
                    -123.09754471,
                    -123.06693953,
                    -123.12097148,
                    -123.11276833,
                    -123.04445764,
                    -123.10086016,
                    -123.11886021,
                    -123.12096057,
                    -123.0734715,
                    -123.07006467,
                    -123.0973628,
                    -123.10060783,
                    -123.12576234,
                    -123.13484649,
                    -123.03003447,
                    -123.11823439,
                    -123.13146057,
                    -123.08401895,
                    -123.07301669,
                    -123.11596251,
                    -123.02601179,
                    -123.10045916,
                    -123.09482718,
                    -123.15780793,
                    -123.02554929,
                    -123.02988574,
                    -123.06892602,
                    -123.08876201,
                    -123.09201049,
                    -123.14167259,
                    -123.05390317,
                    -123.04775452,
                    -123.06848813,
                    -123.1241591,
                    -123.07637895,
                    -123.13188043,
                    -123.10011042,
                    -123.09305566,
                    -123.09526693,
                    -123.04186443,
                    -123.07858498,
                    -123.13509226,
                    -123.05288401,
                    -123.14269428,
                    -123.14167031,
                    -123.07393952,
                    -123.07596571,
                    -123.05609131,
                    -123.05714229,
                    -123.07487688,
                    -123.1377026,
                    -123.0558684,
                    -123.10855569,
                    -123.14128903,
                    -123.10320433,
                    -123.10189962,
                    -123.09852395,
                    -123.09696743,
                    -123.07061566,
                    -123.0448255,
                    -123.03639148,
                    -123.04269371,
                    -123.03326161,
                    -123.12355177,
                    -123.09873888,
                    -123.06279932,
                    -123.0656301,
                    -123.15791342,
                    -123.09262135,
                    -123.02406143,
                    -123.06946548,
                    -123.04369648,
                    -123.06448489,
                    -123.03625358,
                    -123.09593061,
                    -123.13218028,
                    -123.12895356,
                    -123.10547529,
                    -123.08914065,
                    -123.10573543,
                    -123.12591112,
                    -123.07051679,
                    -123.09842997,
                    -123.09658287,
                    -123.10336736,
                    -123.05727353,
                    -123.10290041,
                    -123.12761225,
                    -123.10598488,
                    -123.10880758,
                    -123.09841302,
                    -123.11567548,
                    -123.08987395,
                    -123.12765023,
                    -123.12376394,
                    -123.10039806,
                    -123.02973841,
                    -123.06142628,
                    -123.09237802,
                    -123.07803227,
                    -123.08020164,
                    -123.13052442,
                    -123.13074874,
                    -123.13095052,
                    -123.13184189,
                    -123.13144244,
                    -123.1312441,
                    -123.1311905,
                    -123.13052304,
                    -123.12999932,
                    -123.13009674,
                    -123.13017016,
                    -123.13484649,
                    -123.1306738,
                    -123.09948683,
                    -123.03304017,
                    -123.06336388,
                    -123.10326481,
                    -123.13496572,
                    -123.04557776,
                    -123.12746742,
                    -123.0650132,
                    -123.0639151,
                    -123.06383102,
                    -123.09821929,
                    -123.06282257,
                    -123.05614045,
                    -123.10701237,
                    -123.09506057,
                    -123.12779292,
                    -123.1057161,
                    -123.10861889,
                    -123.09108,
                    -123.11218735,
                    -123.09179574,
                    -123.10053555,
                    -123.09190356,
                    -123.09418189,
                    -123.13817325,
                    -123.1011091,
                    -123.16483491,
                    -123.02933128,
                    -123.09659106,
                    -123.12766812,
                    -123.02460592,
                    -123.10119662,
                    -123.10033058,
                    -123.09852282,
                    -123.12412411,
                    -123.04977348,
                    -123.04175081,
                    -123.10334078,
                    -123.11760049,
                    -123.10318172,
                    -123.09968569,
                    -123.0805724,
                    -123.12199078,
                    -123.13965373,
                    -123.15231287,
                    -123.1536261,
                    -123.14884018,
                    -123.07135898,
                    -123.07186116,
                    -123.08812236,
                    -123.0713509,
                    -123.12571992,
                    -123.08569338,
                    -123.09502732,
                    -123.07890671,
                    -123.14999063,
                    -123.11246693,
                    -123.07483167,
                    -123.07476475,
                    -123.11952103,
                    -123.09989042,
                    -123.07540882,
                    -123.0282517,
                    -123.04367102,
                    -123.14150123,
                    -123.09046001,
                    -123.11848431,
                    -123.06809358,
                    -123.15956116,
                    -123.16154324,
                    -123.1353019,
                    -123.05120171,
                    -123.13321456,
                    -123.11584604,
                    -123.02811463,
                    -123.03033314,
                    -123.02892955,
                    -123.07198632,
                    -123.07022885,
                    -123.13615031,
                    -123.09447792,
                    -123.09391899,
                    -123.14845684,
                    -123.05403611,
                    -123.06738984,
                    -123.08637889,
                    -123.06934118,
                    -123.06053178,
                    -123.05200625,
                    -123.04889439,
                    -123.13159007,
                    -123.02479866,
                    -123.1039351,
                    -123.07120717,
                    -123.05421182,
                    -123.11963072,
                    -123.12269367,
                    -123.12347769,
                    -123.09648989,
                    -123.09526693,
                    -123.041933,
                    -123.16653193,
                    -123.07464212,
                    -123.07429154,
                    -123.13586996,
                    -123.09909816,
                    -123.10049338,
                    -123.10047839,
                    -123.15077883,
                    -123.15003674,
                    -123.11952291,
                    -123.11848174,
                    -123.07443151,
                    -123.12174954,
                    -123.0560918,
                    -123.05939466,
                    -123.07496109,
                    -123.12867658,
                    -123.0957684,
                    -123.08649623,
                    -123.18453011,
                    -123.08442743,
                    -123.07002235,
                    -123.06880418,
                    -123.03206317,
                    -123.13344925,
                    -123.1908124,
                    -123.09728984,
                    -123.06970069,
                    -123.09196577,
                    -123.03881384,
                    -123.1340075,
                    -123.09273013,
                    -123.0600295,
                    -123.13016336,
                    -123.02555612,
                    -123.03018455,
                    -123.08921553,
                    -123.18996814,
                    -123.19139629,
                    -123.07256746,
                    -123.04369648,
                    -123.02403574,
                    -123.09478791,
                    -123.07886158,
                    -123.06765123,
                    -123.12011537,
                    -123.12400793,
                    -123.07858216,
                    -123.07286422,
                    -123.12195534,
                    -123.08585372,
                    -123.05546629,
                    -123.07167979,
                    -123.12781211,
                    -123.12004247,
                    -123.10014836,
                    -123.09001295,
                    -123.06589423,
                    -123.06744889,
                    -123.0817062,
                    -123.0883026,
                    -123.09620134,
                    -123.12996502,
                    -123.13035618,
                    -123.13052304,
                    -123.13081341,
                    -123.1316739,
                    -123.13138884,
                    -123.09455401,
                    -123.09467412,
                    -123.09015786,
                    -123.11719475,
                    -123.03143236,
                    -123.10776216,
                    -123.09310787,
                    -123.06481634,
                    -123.13388777,
                    -123.09808091,
                    -123.11062365,
                    -123.10460555,
                    -123.15812808,
                    -123.12594954,
                    -123.08690641,
                    -123.1081018,
                    -123.07371806,
                    -123.09778996,
                    -123.12207964,
                    -123.09089702,
                    -123.11773843,
                    -123.09193982,
                    -123.09308337,
                    -123.15806282,
                    -123.09214537,
                    -123.09066952,
                    -123.0888949,
                    -123.10002332,
                    -123.04977348,
                    -123.04688164,
                    -123.09785846,
                    -123.0265823,
                    -123.09734372,
                    -123.0948261,
                    -123.12130369,
                    -123.08403266,
                    -123.11113923,
                    -123.10309421,
                    -123.13636545,
                    -123.1253448,
                    -123.04413053,
                    -123.12117113,
                    -123.10005685,
                    -123.09935941,
                    -123.13613725
                  ],
                  "marker": {
                    "color": "#5b606d",
                    "size": [
                      20,
                      37,
                      33,
                      31,
                      21,
                      60,
                      39,
                      33,
                      25,
                      18,
                      19,
                      47,
                      50,
                      21,
                      14,
                      25,
                      29,
                      35,
                      36,
                      37,
                      41,
                      40,
                      60,
                      2,
                      32,
                      39,
                      29,
                      30,
                      21,
                      52,
                      21,
                      6,
                      17,
                      19,
                      48,
                      170,
                      26,
                      32,
                      100,
                      54,
                      46,
                      151,
                      100,
                      30,
                      53,
                      90,
                      150,
                      126,
                      33,
                      24,
                      27,
                      17,
                      46,
                      68,
                      44,
                      78,
                      69,
                      27,
                      32,
                      27,
                      18,
                      41,
                      26,
                      64,
                      70,
                      72,
                      23,
                      65,
                      36,
                      82,
                      29,
                      32,
                      52,
                      73,
                      40,
                      103,
                      52,
                      54,
                      53,
                      66,
                      45,
                      105,
                      25,
                      42,
                      91,
                      34,
                      50,
                      53,
                      42,
                      31,
                      36,
                      38,
                      81,
                      45,
                      31,
                      55,
                      12,
                      96,
                      66,
                      86,
                      64,
                      80,
                      5,
                      89,
                      32,
                      72,
                      39,
                      137,
                      53,
                      44,
                      36,
                      26,
                      34,
                      93,
                      9,
                      35,
                      57,
                      18,
                      6,
                      48,
                      81,
                      66,
                      30,
                      9,
                      37,
                      4,
                      8,
                      4,
                      2,
                      2,
                      6,
                      7,
                      6,
                      7,
                      6,
                      3,
                      7,
                      8,
                      6,
                      100,
                      52,
                      43,
                      88,
                      44,
                      109,
                      12,
                      125,
                      20,
                      99,
                      89,
                      57,
                      33,
                      94,
                      24,
                      51,
                      110,
                      62,
                      63,
                      24,
                      101,
                      44,
                      96,
                      150,
                      105,
                      87,
                      99,
                      30,
                      63,
                      107,
                      36,
                      45,
                      100,
                      18,
                      5,
                      96,
                      123,
                      9,
                      28,
                      48,
                      45,
                      26,
                      27,
                      139,
                      89,
                      58,
                      39,
                      52,
                      52,
                      98,
                      0,
                      63,
                      38,
                      53,
                      63,
                      15,
                      47,
                      19,
                      31,
                      145,
                      31,
                      6,
                      25,
                      36,
                      23,
                      32,
                      27,
                      33,
                      47,
                      0,
                      30,
                      39,
                      96,
                      77,
                      23,
                      26,
                      118,
                      133,
                      81,
                      56,
                      265,
                      40,
                      61,
                      216,
                      375,
                      26,
                      79,
                      77,
                      71,
                      64,
                      21,
                      110,
                      33,
                      27,
                      17,
                      27,
                      40,
                      20,
                      85,
                      11,
                      32,
                      36,
                      18,
                      76,
                      86,
                      300,
                      36,
                      132,
                      85,
                      43,
                      39,
                      50,
                      19,
                      25,
                      32,
                      50,
                      19,
                      30,
                      23,
                      114,
                      21,
                      84,
                      85,
                      42,
                      24,
                      45,
                      40,
                      42,
                      58,
                      48,
                      110,
                      7,
                      4,
                      28,
                      17,
                      37,
                      31,
                      42,
                      45,
                      28,
                      78,
                      31,
                      31,
                      99,
                      86,
                      27,
                      98,
                      136,
                      18,
                      30,
                      27,
                      84,
                      33,
                      92,
                      4,
                      106,
                      40,
                      97,
                      49,
                      81,
                      63,
                      113,
                      102,
                      79,
                      15,
                      12,
                      22,
                      2,
                      6,
                      9,
                      1,
                      8,
                      5,
                      5,
                      9,
                      7,
                      6,
                      4,
                      7,
                      226,
                      7,
                      80,
                      37,
                      12,
                      65,
                      29,
                      15,
                      83,
                      37,
                      77,
                      28,
                      25,
                      16,
                      24,
                      95,
                      29,
                      141,
                      67,
                      84,
                      37,
                      50,
                      139,
                      40,
                      85,
                      55,
                      11,
                      129,
                      20,
                      57,
                      95,
                      43,
                      56,
                      18,
                      22,
                      14,
                      81,
                      188,
                      31,
                      120,
                      46,
                      135,
                      40,
                      39,
                      98,
                      46,
                      21,
                      44,
                      9,
                      44,
                      31,
                      20,
                      41,
                      60,
                      18,
                      29,
                      30,
                      38,
                      49,
                      36,
                      25,
                      41,
                      23,
                      21,
                      100,
                      227,
                      20,
                      56,
                      38,
                      21,
                      16,
                      18,
                      42,
                      80,
                      50,
                      42,
                      160,
                      138,
                      75,
                      36,
                      24,
                      29,
                      34,
                      147,
                      32,
                      154,
                      31,
                      2,
                      21,
                      57,
                      90,
                      65,
                      84,
                      70,
                      90,
                      34,
                      34,
                      28,
                      162,
                      78,
                      82,
                      157,
                      34,
                      58,
                      77,
                      22,
                      43,
                      54,
                      45,
                      29,
                      102,
                      33,
                      69,
                      30,
                      154,
                      82,
                      24,
                      169,
                      14,
                      223,
                      52,
                      26,
                      30,
                      18,
                      27,
                      35,
                      51,
                      87,
                      15,
                      8,
                      40,
                      61,
                      60,
                      95,
                      6,
                      18,
                      125,
                      87,
                      40,
                      7,
                      20,
                      200,
                      15,
                      47,
                      23,
                      66,
                      15,
                      10,
                      90,
                      19,
                      39,
                      20,
                      41,
                      54,
                      56,
                      18,
                      30,
                      60,
                      39,
                      61,
                      5,
                      2,
                      2,
                      2,
                      2,
                      6,
                      7,
                      7,
                      5,
                      7,
                      5,
                      38,
                      34,
                      0,
                      45,
                      61,
                      75,
                      23,
                      19,
                      18,
                      48,
                      147,
                      21,
                      22,
                      86,
                      38,
                      108,
                      36,
                      27,
                      60,
                      147,
                      16,
                      12,
                      30,
                      15,
                      5,
                      5,
                      21,
                      9,
                      32,
                      90,
                      104,
                      44,
                      24,
                      213,
                      78,
                      71,
                      52,
                      46,
                      0,
                      110,
                      34,
                      67,
                      80,
                      52,
                      0
                    ],
                    "sizemode": "area",
                    "sizeref": 1.35
                  },
                  "mode": "markers",
                  "name": "Completed",
                  "showlegend": true,
                  "subplot": "mapbox",
                  "type": "scattermapbox"
                },
                {
                  "customdata": [
                    [
                      "not specified",
                      "Fairview"
                    ],
                    [
                      "not specified",
                      "Strathcona"
                    ],
                    [
                      "Vancouver Chinatown Foundation",
                      "Downtown"
                    ],
                    [
                      "not specified",
                      "West End"
                    ],
                    [
                      "not specified",
                      "Renfrew-Collingwood"
                    ],
                    [
                      "Fair Haven Homes Society",
                      "Kerrisdale"
                    ],
                    [
                      "Community Land Trust Foundation of BC",
                      "Kensington-Cedar Cottage"
                    ],
                    [
                      "not specified",
                      "Strathcona"
                    ],
                    [
                      "not specified",
                      "West End"
                    ],
                    [
                      "not specified",
                      "Downtown"
                    ],
                    [
                      "Lee's Benevolent Adssociation of Canada",
                      "Strathcona"
                    ],
                    [
                      "not specified",
                      "Downtown"
                    ],
                    [
                      "Anhart Foundation",
                      "Strathcona"
                    ],
                    [
                      "Brightside Community Homes Foundation",
                      "Kensington-Cedar Cottage"
                    ],
                    [
                      "Anhart Foundation",
                      "Strathcona"
                    ],
                    [
                      "not specified",
                      "Riley Park"
                    ],
                    [
                      "not specified",
                      "Marpole"
                    ],
                    [
                      "Atira Women’s Resource Society",
                      "Downtown"
                    ],
                    [
                      "Sanford Housing Society",
                      "Oakridge"
                    ],
                    [
                      "BC Housing",
                      "Grandview-Woodland"
                    ],
                    [
                      "Brightside Community Homes Foundation",
                      "Hastings-Sunrise"
                    ],
                    [
                      "Brightside Community Homes Foundation",
                      "Mount Pleasant"
                    ],
                    [
                      "not specified",
                      "Oakridge"
                    ]
                  ],
                  "hovertemplate": "<b>%{hovertext}</b><br><br>Project Status=Approved<br>Total Units=%{marker.size}<br>latitude=%{lat}<br>longitude=%{lon}<br>Operator=%{customdata[0]}<br>Local Area=%{customdata[1]}<extra></extra>",
                  "hovertext": [
                    "Heather Place Building B",
                    "420 Hawks Ave",
                    "58 W Hastings",
                    "1068 - 1080 Burnaby & 1318 Thurlow",
                    "3279 - 3297 Vanness Ave",
                    "Ryerson Church",
                    "Fraser Street Seniors Co-op",
                    "728 - 796 Main St",
                    "1055 Harwood",
                    "Plaza of Nations",
                    "835 - 837 E Hastings",
                    "601 Beach Crescent",
                    "1102 - 1138 E Georgia St",
                    "1425 & 1451 E 12th Ave",
                    "Main Village",
                    "Little Mountain",
                    "Pearson Dogwood",
                    "177 W Pender",
                    "650 W 41 (Oakridge)",
                    "1636 Clark (1st & Clark)",
                    "Alice Saunders House",
                    "Mount Pleasant Lions Manor",
                    "Jewish Community Centre"
                  ],
                  "lat": [
                    49.25927307,
                    49.28070574,
                    49.28152394,
                    49.27928398,
                    49.24001714,
                    49.23115707,
                    49.25345583,
                    49.27800015,
                    49.27871221,
                    49.27433899,
                    49.28138463,
                    49.27403846,
                    49.27795635,
                    49.25990369,
                    49.28349233,
                    49.23848276,
                    49.21835764,
                    49.28166995,
                    49.23206523,
                    49.26992688,
                    49.27612487,
                    49.26568461,
                    49.23344379
                  ],
                  "legendgroup": "Approved",
                  "lon": [
                    -123.12097148,
                    -123.08693581,
                    -123.10623723,
                    -123.13226175,
                    -123.03488678,
                    -123.15944769,
                    -123.08952659,
                    -123.09934281,
                    -123.13233851,
                    -123.10926942,
                    -123.08641094,
                    -123.12956426,
                    -123.08077723,
                    -123.07483167,
                    -123.09911107,
                    -123.1020273,
                    -123.11780837,
                    -123.10920892,
                    -123.11885482,
                    -123.07686714,
                    -123.04319231,
                    -123.09727241,
                    -123.12599122
                  ],
                  "marker": {
                    "color": "#689626",
                    "size": [
                      143,
                      0,
                      231,
                      39,
                      102,
                      32,
                      58,
                      19,
                      43,
                      0,
                      39,
                      152,
                      10,
                      157,
                      69,
                      62,
                      0,
                      74,
                      0,
                      90,
                      146,
                      82,
                      0
                    ],
                    "sizemode": "area",
                    "sizeref": 1.35
                  },
                  "mode": "markers",
                  "name": "Approved",
                  "showlegend": true,
                  "subplot": "mapbox",
                  "type": "scattermapbox"
                },
                {
                  "customdata": [
                    [
                      "S.U.C.C.E.S.S",
                      "Killarney"
                    ],
                    [
                      "New Chelsea Society",
                      "Marpole"
                    ],
                    [
                      "BC Housing",
                      "Downtown"
                    ],
                    [
                      "not specified",
                      "Arbutus-Ridge"
                    ],
                    [
                      "not specified",
                      "Fairview"
                    ],
                    [
                      "Lu'Ma Native Housing Society",
                      "Strathcona"
                    ],
                    [
                      "not specified",
                      "West End"
                    ],
                    [
                      "New Chelsea Society",
                      "Marpole"
                    ],
                    [
                      "Catalyst Community Developments Society",
                      "Killarney"
                    ],
                    [
                      "not specified",
                      "West End"
                    ],
                    [
                      "not specified",
                      "Mount Pleasant"
                    ],
                    [
                      "not specified",
                      "West End"
                    ],
                    [
                      "Red Door Housing Society",
                      "Mount Pleasant"
                    ],
                    [
                      "Kinship Housing Co-operative",
                      "Killarney"
                    ],
                    [
                      "Catalyst Community Developments Society",
                      "Mount Pleasant"
                    ],
                    [
                      "Lu'Ma Native Housing Society",
                      "Renfrew-Collingwood"
                    ],
                    [
                      "Union Gospel Mission",
                      "Strathcona"
                    ]
                  ],
                  "hovertemplate": "<b>%{hovertext}</b><br><br>Project Status=Under Construction<br>Total Units=%{marker.size}<br>latitude=%{lat}<br>longitude=%{lon}<br>Operator=%{customdata[0]}<br>Local Area=%{customdata[1]}<extra></extra>",
                  "hovertext": [
                    "River District 8a",
                    "87-115 SW Marine Drive",
                    "33 W Cordova",
                    "Arbutus Centre",
                    "Vancouver Masonic Centre",
                    "946-950 Main St",
                    "Empire Landmark Hotel",
                    "55-79 SW Marine Drive",
                    "Alder",
                    "First Baptist Church (The Butterfly)",
                    "Second + Main",
                    "Mirabel",
                    "Mi Casa",
                    "Kinship Housing Co-operative",
                    "Aspen",
                    "3819 Boundary",
                    "UGM Women and Families Centre"
                  ],
                  "lat": [
                    49.20603626,
                    49.21272159,
                    49.2828738,
                    49.2485828,
                    49.26497349,
                    49.27598238,
                    49.2880746,
                    49.212704,
                    49.20668835,
                    49.28185115,
                    49.2686764,
                    49.2835671,
                    49.2631267,
                    49.20724891,
                    49.2651573,
                    49.25040035,
                    49.2818717
                  ],
                  "legendgroup": "Under Construction",
                  "lon": [
                    -123.03904061,
                    -123.1084431,
                    -123.10522539,
                    -123.1552463,
                    -123.13751409,
                    -123.09948504,
                    -123.13081447,
                    -123.10772865,
                    -123.02444018,
                    -123.12645824,
                    -123.1012269,
                    -123.13552696,
                    -123.08566017,
                    -123.03866101,
                    -123.10137992,
                    -123.02424893,
                    -123.09098604
                  ],
                  "marker": {
                    "color": "#c78d00",
                    "size": [
                      109,
                      48,
                      80,
                      125,
                      149,
                      26,
                      84,
                      53,
                      119,
                      61,
                      30,
                      68,
                      51,
                      51,
                      145,
                      23,
                      63
                    ],
                    "sizemode": "area",
                    "sizeref": 1.35
                  },
                  "mode": "markers",
                  "name": "Under Construction",
                  "showlegend": true,
                  "subplot": "mapbox",
                  "type": "scattermapbox"
                },
                {
                  "customdata": [
                    [
                      "not specified",
                      "West End"
                    ],
                    [
                      "not specified",
                      "Kensington-Cedar Cottage"
                    ],
                    [
                      "YWCA Vancouver",
                      "Oakridge"
                    ],
                    [
                      "not specified",
                      "Marpole"
                    ],
                    [
                      "not specified",
                      "West End"
                    ],
                    [
                      "not specified",
                      "Grandview-Woodland"
                    ],
                    [
                      "Soroptimist Club of Vancouver",
                      "Fairview"
                    ],
                    [
                      "not specified",
                      "Downtown"
                    ],
                    [
                      "Brightside Community Homes Foundation",
                      "Marpole"
                    ],
                    [
                      "not specified",
                      "Downtown"
                    ],
                    [
                      "BC Housing",
                      "Riley Park"
                    ],
                    [
                      "McLaren Housing Society of BC",
                      "Downtown"
                    ],
                    [
                      "not specified",
                      "South Cambie"
                    ],
                    [
                      "YWCA Vancouver",
                      "Marpole"
                    ],
                    [
                      "not specified",
                      "West End"
                    ],
                    [
                      "not specified",
                      "Strathcona"
                    ],
                    [
                      "not specified",
                      "Kensington-Cedar Cottage"
                    ]
                  ],
                  "hovertemplate": "<b>%{hovertext}</b><br><br>Project Status=Proposed<br>Total Units=%{marker.size}<br>latitude=%{lat}<br>longitude=%{lon}<br>Operator=%{customdata[0]}<br>Local Area=%{customdata[1]}<extra></extra>",
                  "hovertext": [
                    "1040-1080 Barclay",
                    "1780 E Broadway",
                    "Langara Family YMCA",
                    "Ashley Mar Co-op Site",
                    "1063-1075 Barclay St",
                    "Aaron Webster Housing Cooperative",
                    "546 W 13th Ave",
                    "480 Broughton St",
                    "MacLeod Manor",
                    "1317 Richard St & 508 Drake St",
                    "Little Mountain - Building EA",
                    "1190 Burrard St",
                    "Heather Lands",
                    "622 SW Marine Dr",
                    "1485 Davie",
                    "1220-1298 E Hastings",
                    "2929 Commercial Dr"
                  ],
                  "lat": [
                    49.28235605,
                    49.26178079,
                    49.22533108,
                    49.20904404,
                    49.28311121,
                    49.28047652,
                    49.25923061,
                    49.29006102,
                    49.20647706,
                    49.27475944,
                    49.24005191,
                    49.27916592,
                    49.23962564,
                    49.20856465,
                    49.28437446,
                    49.28100218,
                    49.25839773
                  ],
                  "legendgroup": "Proposed",
                  "lon": [
                    -123.12626328,
                    -123.06805807,
                    -123.11234239,
                    -123.11848431,
                    -123.12620764,
                    -123.06605018,
                    -123.11636959,
                    -123.12518254,
                    -123.13965373,
                    -123.12648427,
                    -123.10372285,
                    -123.12850074,
                    -123.12199078,
                    -123.11971517,
                    -123.1367891,
                    -123.07777382,
                    -123.07023083
                  ],
                  "marker": {
                    "color": "#a42726",
                    "size": [
                      160,
                      0,
                      70,
                      125,
                      79,
                      64,
                      135,
                      60,
                      100,
                      198,
                      0,
                      139,
                      540,
                      28,
                      51,
                      55,
                      27
                    ],
                    "sizemode": "area",
                    "sizeref": 1.35
                  },
                  "mode": "markers",
                  "name": "Proposed",
                  "showlegend": true,
                  "subplot": "mapbox",
                  "type": "scattermapbox"
                }
              ],
              "layout": {
                "legend": {
                  "itemsizing": "constant",
                  "title": {
                    "text": "Project Status"
                  },
                  "tracegroupgap": 0
                },
                "mapbox": {
                  "accesstoken": "pk.eyJ1IjoiZmFpYmFyYXppIiwiYSI6ImNrdHY1emVuZjI3YnQybm51enp3YW1nbGEifQ.pWc2_CNqN-_7zYg4qwCdrQ",
                  "center": {
                    "lat": 49.26349804566836,
                    "lon": -123.0957785502369
                  },
                  "domain": {
                    "x": [
                      0,
                      1
                    ],
                    "y": [
                      0,
                      1
                    ]
                  },
                  "style": "carto-positron",
                  "zoom": 10
                },
                "margin": {
                  "t": 60
                },
                "template": {
                  "data": {
                    "bar": [
                      {
                        "error_x": {
                          "color": "#2a3f5f"
                        },
                        "error_y": {
                          "color": "#2a3f5f"
                        },
                        "marker": {
                          "line": {
                            "color": "#E5ECF6",
                            "width": 0.5
                          },
                          "pattern": {
                            "fillmode": "overlay",
                            "size": 10,
                            "solidity": 0.2
                          }
                        },
                        "type": "bar"
                      }
                    ],
                    "barpolar": [
                      {
                        "marker": {
                          "line": {
                            "color": "#E5ECF6",
                            "width": 0.5
                          },
                          "pattern": {
                            "fillmode": "overlay",
                            "size": 10,
                            "solidity": 0.2
                          }
                        },
                        "type": "barpolar"
                      }
                    ],
                    "carpet": [
                      {
                        "aaxis": {
                          "endlinecolor": "#2a3f5f",
                          "gridcolor": "white",
                          "linecolor": "white",
                          "minorgridcolor": "white",
                          "startlinecolor": "#2a3f5f"
                        },
                        "baxis": {
                          "endlinecolor": "#2a3f5f",
                          "gridcolor": "white",
                          "linecolor": "white",
                          "minorgridcolor": "white",
                          "startlinecolor": "#2a3f5f"
                        },
                        "type": "carpet"
                      }
                    ],
                    "choropleth": [
                      {
                        "colorbar": {
                          "outlinewidth": 0,
                          "ticks": ""
                        },
                        "type": "choropleth"
                      }
                    ],
                    "contour": [
                      {
                        "colorbar": {
                          "outlinewidth": 0,
                          "ticks": ""
                        },
                        "colorscale": [
                          [
                            0,
                            "#0d0887"
                          ],
                          [
                            0.1111111111111111,
                            "#46039f"
                          ],
                          [
                            0.2222222222222222,
                            "#7201a8"
                          ],
                          [
                            0.3333333333333333,
                            "#9c179e"
                          ],
                          [
                            0.4444444444444444,
                            "#bd3786"
                          ],
                          [
                            0.5555555555555556,
                            "#d8576b"
                          ],
                          [
                            0.6666666666666666,
                            "#ed7953"
                          ],
                          [
                            0.7777777777777778,
                            "#fb9f3a"
                          ],
                          [
                            0.8888888888888888,
                            "#fdca26"
                          ],
                          [
                            1,
                            "#f0f921"
                          ]
                        ],
                        "type": "contour"
                      }
                    ],
                    "contourcarpet": [
                      {
                        "colorbar": {
                          "outlinewidth": 0,
                          "ticks": ""
                        },
                        "type": "contourcarpet"
                      }
                    ],
                    "heatmap": [
                      {
                        "colorbar": {
                          "outlinewidth": 0,
                          "ticks": ""
                        },
                        "colorscale": [
                          [
                            0,
                            "#0d0887"
                          ],
                          [
                            0.1111111111111111,
                            "#46039f"
                          ],
                          [
                            0.2222222222222222,
                            "#7201a8"
                          ],
                          [
                            0.3333333333333333,
                            "#9c179e"
                          ],
                          [
                            0.4444444444444444,
                            "#bd3786"
                          ],
                          [
                            0.5555555555555556,
                            "#d8576b"
                          ],
                          [
                            0.6666666666666666,
                            "#ed7953"
                          ],
                          [
                            0.7777777777777778,
                            "#fb9f3a"
                          ],
                          [
                            0.8888888888888888,
                            "#fdca26"
                          ],
                          [
                            1,
                            "#f0f921"
                          ]
                        ],
                        "type": "heatmap"
                      }
                    ],
                    "heatmapgl": [
                      {
                        "colorbar": {
                          "outlinewidth": 0,
                          "ticks": ""
                        },
                        "colorscale": [
                          [
                            0,
                            "#0d0887"
                          ],
                          [
                            0.1111111111111111,
                            "#46039f"
                          ],
                          [
                            0.2222222222222222,
                            "#7201a8"
                          ],
                          [
                            0.3333333333333333,
                            "#9c179e"
                          ],
                          [
                            0.4444444444444444,
                            "#bd3786"
                          ],
                          [
                            0.5555555555555556,
                            "#d8576b"
                          ],
                          [
                            0.6666666666666666,
                            "#ed7953"
                          ],
                          [
                            0.7777777777777778,
                            "#fb9f3a"
                          ],
                          [
                            0.8888888888888888,
                            "#fdca26"
                          ],
                          [
                            1,
                            "#f0f921"
                          ]
                        ],
                        "type": "heatmapgl"
                      }
                    ],
                    "histogram": [
                      {
                        "marker": {
                          "pattern": {
                            "fillmode": "overlay",
                            "size": 10,
                            "solidity": 0.2
                          }
                        },
                        "type": "histogram"
                      }
                    ],
                    "histogram2d": [
                      {
                        "colorbar": {
                          "outlinewidth": 0,
                          "ticks": ""
                        },
                        "colorscale": [
                          [
                            0,
                            "#0d0887"
                          ],
                          [
                            0.1111111111111111,
                            "#46039f"
                          ],
                          [
                            0.2222222222222222,
                            "#7201a8"
                          ],
                          [
                            0.3333333333333333,
                            "#9c179e"
                          ],
                          [
                            0.4444444444444444,
                            "#bd3786"
                          ],
                          [
                            0.5555555555555556,
                            "#d8576b"
                          ],
                          [
                            0.6666666666666666,
                            "#ed7953"
                          ],
                          [
                            0.7777777777777778,
                            "#fb9f3a"
                          ],
                          [
                            0.8888888888888888,
                            "#fdca26"
                          ],
                          [
                            1,
                            "#f0f921"
                          ]
                        ],
                        "type": "histogram2d"
                      }
                    ],
                    "histogram2dcontour": [
                      {
                        "colorbar": {
                          "outlinewidth": 0,
                          "ticks": ""
                        },
                        "colorscale": [
                          [
                            0,
                            "#0d0887"
                          ],
                          [
                            0.1111111111111111,
                            "#46039f"
                          ],
                          [
                            0.2222222222222222,
                            "#7201a8"
                          ],
                          [
                            0.3333333333333333,
                            "#9c179e"
                          ],
                          [
                            0.4444444444444444,
                            "#bd3786"
                          ],
                          [
                            0.5555555555555556,
                            "#d8576b"
                          ],
                          [
                            0.6666666666666666,
                            "#ed7953"
                          ],
                          [
                            0.7777777777777778,
                            "#fb9f3a"
                          ],
                          [
                            0.8888888888888888,
                            "#fdca26"
                          ],
                          [
                            1,
                            "#f0f921"
                          ]
                        ],
                        "type": "histogram2dcontour"
                      }
                    ],
                    "mesh3d": [
                      {
                        "colorbar": {
                          "outlinewidth": 0,
                          "ticks": ""
                        },
                        "type": "mesh3d"
                      }
                    ],
                    "parcoords": [
                      {
                        "line": {
                          "colorbar": {
                            "outlinewidth": 0,
                            "ticks": ""
                          }
                        },
                        "type": "parcoords"
                      }
                    ],
                    "pie": [
                      {
                        "automargin": true,
                        "type": "pie"
                      }
                    ],
                    "scatter": [
                      {
                        "marker": {
                          "colorbar": {
                            "outlinewidth": 0,
                            "ticks": ""
                          }
                        },
                        "type": "scatter"
                      }
                    ],
                    "scatter3d": [
                      {
                        "line": {
                          "colorbar": {
                            "outlinewidth": 0,
                            "ticks": ""
                          }
                        },
                        "marker": {
                          "colorbar": {
                            "outlinewidth": 0,
                            "ticks": ""
                          }
                        },
                        "type": "scatter3d"
                      }
                    ],
                    "scattercarpet": [
                      {
                        "marker": {
                          "colorbar": {
                            "outlinewidth": 0,
                            "ticks": ""
                          }
                        },
                        "type": "scattercarpet"
                      }
                    ],
                    "scattergeo": [
                      {
                        "marker": {
                          "colorbar": {
                            "outlinewidth": 0,
                            "ticks": ""
                          }
                        },
                        "type": "scattergeo"
                      }
                    ],
                    "scattergl": [
                      {
                        "marker": {
                          "colorbar": {
                            "outlinewidth": 0,
                            "ticks": ""
                          }
                        },
                        "type": "scattergl"
                      }
                    ],
                    "scattermapbox": [
                      {
                        "marker": {
                          "colorbar": {
                            "outlinewidth": 0,
                            "ticks": ""
                          }
                        },
                        "type": "scattermapbox"
                      }
                    ],
                    "scatterpolar": [
                      {
                        "marker": {
                          "colorbar": {
                            "outlinewidth": 0,
                            "ticks": ""
                          }
                        },
                        "type": "scatterpolar"
                      }
                    ],
                    "scatterpolargl": [
                      {
                        "marker": {
                          "colorbar": {
                            "outlinewidth": 0,
                            "ticks": ""
                          }
                        },
                        "type": "scatterpolargl"
                      }
                    ],
                    "scatterternary": [
                      {
                        "marker": {
                          "colorbar": {
                            "outlinewidth": 0,
                            "ticks": ""
                          }
                        },
                        "type": "scatterternary"
                      }
                    ],
                    "surface": [
                      {
                        "colorbar": {
                          "outlinewidth": 0,
                          "ticks": ""
                        },
                        "colorscale": [
                          [
                            0,
                            "#0d0887"
                          ],
                          [
                            0.1111111111111111,
                            "#46039f"
                          ],
                          [
                            0.2222222222222222,
                            "#7201a8"
                          ],
                          [
                            0.3333333333333333,
                            "#9c179e"
                          ],
                          [
                            0.4444444444444444,
                            "#bd3786"
                          ],
                          [
                            0.5555555555555556,
                            "#d8576b"
                          ],
                          [
                            0.6666666666666666,
                            "#ed7953"
                          ],
                          [
                            0.7777777777777778,
                            "#fb9f3a"
                          ],
                          [
                            0.8888888888888888,
                            "#fdca26"
                          ],
                          [
                            1,
                            "#f0f921"
                          ]
                        ],
                        "type": "surface"
                      }
                    ],
                    "table": [
                      {
                        "cells": {
                          "fill": {
                            "color": "#EBF0F8"
                          },
                          "line": {
                            "color": "white"
                          }
                        },
                        "header": {
                          "fill": {
                            "color": "#C8D4E3"
                          },
                          "line": {
                            "color": "white"
                          }
                        },
                        "type": "table"
                      }
                    ]
                  },
                  "layout": {
                    "annotationdefaults": {
                      "arrowcolor": "#2a3f5f",
                      "arrowhead": 0,
                      "arrowwidth": 1
                    },
                    "autotypenumbers": "strict",
                    "coloraxis": {
                      "colorbar": {
                        "outlinewidth": 0,
                        "ticks": ""
                      }
                    },
                    "colorscale": {
                      "diverging": [
                        [
                          0,
                          "#8e0152"
                        ],
                        [
                          0.1,
                          "#c51b7d"
                        ],
                        [
                          0.2,
                          "#de77ae"
                        ],
                        [
                          0.3,
                          "#f1b6da"
                        ],
                        [
                          0.4,
                          "#fde0ef"
                        ],
                        [
                          0.5,
                          "#f7f7f7"
                        ],
                        [
                          0.6,
                          "#e6f5d0"
                        ],
                        [
                          0.7,
                          "#b8e186"
                        ],
                        [
                          0.8,
                          "#7fbc41"
                        ],
                        [
                          0.9,
                          "#4d9221"
                        ],
                        [
                          1,
                          "#276419"
                        ]
                      ],
                      "sequential": [
                        [
                          0,
                          "#0d0887"
                        ],
                        [
                          0.1111111111111111,
                          "#46039f"
                        ],
                        [
                          0.2222222222222222,
                          "#7201a8"
                        ],
                        [
                          0.3333333333333333,
                          "#9c179e"
                        ],
                        [
                          0.4444444444444444,
                          "#bd3786"
                        ],
                        [
                          0.5555555555555556,
                          "#d8576b"
                        ],
                        [
                          0.6666666666666666,
                          "#ed7953"
                        ],
                        [
                          0.7777777777777778,
                          "#fb9f3a"
                        ],
                        [
                          0.8888888888888888,
                          "#fdca26"
                        ],
                        [
                          1,
                          "#f0f921"
                        ]
                      ],
                      "sequentialminus": [
                        [
                          0,
                          "#0d0887"
                        ],
                        [
                          0.1111111111111111,
                          "#46039f"
                        ],
                        [
                          0.2222222222222222,
                          "#7201a8"
                        ],
                        [
                          0.3333333333333333,
                          "#9c179e"
                        ],
                        [
                          0.4444444444444444,
                          "#bd3786"
                        ],
                        [
                          0.5555555555555556,
                          "#d8576b"
                        ],
                        [
                          0.6666666666666666,
                          "#ed7953"
                        ],
                        [
                          0.7777777777777778,
                          "#fb9f3a"
                        ],
                        [
                          0.8888888888888888,
                          "#fdca26"
                        ],
                        [
                          1,
                          "#f0f921"
                        ]
                      ]
                    },
                    "colorway": [
                      "#636efa",
                      "#EF553B",
                      "#00cc96",
                      "#ab63fa",
                      "#FFA15A",
                      "#19d3f3",
                      "#FF6692",
                      "#B6E880",
                      "#FF97FF",
                      "#FECB52"
                    ],
                    "font": {
                      "color": "#2a3f5f"
                    },
                    "geo": {
                      "bgcolor": "white",
                      "lakecolor": "white",
                      "landcolor": "#E5ECF6",
                      "showlakes": true,
                      "showland": true,
                      "subunitcolor": "white"
                    },
                    "hoverlabel": {
                      "align": "left"
                    },
                    "hovermode": "closest",
                    "mapbox": {
                      "style": "light"
                    },
                    "paper_bgcolor": "white",
                    "plot_bgcolor": "#E5ECF6",
                    "polar": {
                      "angularaxis": {
                        "gridcolor": "white",
                        "linecolor": "white",
                        "ticks": ""
                      },
                      "bgcolor": "#E5ECF6",
                      "radialaxis": {
                        "gridcolor": "white",
                        "linecolor": "white",
                        "ticks": ""
                      }
                    },
                    "scene": {
                      "xaxis": {
                        "backgroundcolor": "#E5ECF6",
                        "gridcolor": "white",
                        "gridwidth": 2,
                        "linecolor": "white",
                        "showbackground": true,
                        "ticks": "",
                        "zerolinecolor": "white"
                      },
                      "yaxis": {
                        "backgroundcolor": "#E5ECF6",
                        "gridcolor": "white",
                        "gridwidth": 2,
                        "linecolor": "white",
                        "showbackground": true,
                        "ticks": "",
                        "zerolinecolor": "white"
                      },
                      "zaxis": {
                        "backgroundcolor": "#E5ECF6",
                        "gridcolor": "white",
                        "gridwidth": 2,
                        "linecolor": "white",
                        "showbackground": true,
                        "ticks": "",
                        "zerolinecolor": "white"
                      }
                    },
                    "shapedefaults": {
                      "line": {
                        "color": "#2a3f5f"
                      }
                    },
                    "ternary": {
                      "aaxis": {
                        "gridcolor": "white",
                        "linecolor": "white",
                        "ticks": ""
                      },
                      "baxis": {
                        "gridcolor": "white",
                        "linecolor": "white",
                        "ticks": ""
                      },
                      "bgcolor": "#E5ECF6",
                      "caxis": {
                        "gridcolor": "white",
                        "linecolor": "white",
                        "ticks": ""
                      }
                    },
                    "title": {
                      "x": 0.05
                    },
                    "xaxis": {
                      "automargin": true,
                      "gridcolor": "white",
                      "linecolor": "white",
                      "ticks": "",
                      "title": {
                        "standoff": 15
                      },
                      "zerolinecolor": "white",
                      "zerolinewidth": 2
                    },
                    "yaxis": {
                      "automargin": true,
                      "gridcolor": "white",
                      "linecolor": "white",
                      "ticks": "",
                      "title": {
                        "standoff": 15
                      },
                      "zerolinecolor": "white",
                      "zerolinewidth": 2
                    }
                  }
                }
              }
            }
          },
          "metadata": {}
        }
      ],
      "execution_count": 55,
      "metadata": {
        "collapsed": true,
        "jupyter": {
          "source_hidden": false,
          "outputs_hidden": false
        },
        "nteract": {
          "transient": {
            "deleting": false
          }
        },
        "execution": {
          "iopub.status.busy": "2021-09-23T18:20:03.485Z",
          "iopub.execute_input": "2021-09-23T18:20:03.494Z",
          "iopub.status.idle": "2021-09-23T18:20:03.715Z",
          "shell.execute_reply": "2021-09-23T18:20:03.743Z"
        }
      }
    },
    {
      "cell_type": "code",
      "source": [],
      "outputs": [],
      "execution_count": null,
      "metadata": {
        "collapsed": true,
        "jupyter": {
          "source_hidden": false,
          "outputs_hidden": false
        },
        "nteract": {
          "transient": {
            "deleting": false
          }
        }
      }
    }
  ],
  "metadata": {
    "kernel_info": {
      "name": "python3"
    },
    "language_info": {
      "name": "python",
      "version": "3.9.7",
      "mimetype": "text/x-python",
      "codemirror_mode": {
        "name": "ipython",
        "version": 3
      },
      "pygments_lexer": "ipython3",
      "nbconvert_exporter": "python",
      "file_extension": ".py"
    },
    "kernelspec": {
      "argv": [
        "/Users/faisalbarazi/projects/sketch/sketch_venv/bin/python",
        "-m",
        "ipykernel_launcher",
        "-f",
        "{connection_file}"
      ],
      "display_name": "Python 3",
      "language": "python",
      "name": "python3"
    },
    "nteract": {
      "version": "0.28.0"
    }
  },
  "nbformat": 4,
  "nbformat_minor": 0
}